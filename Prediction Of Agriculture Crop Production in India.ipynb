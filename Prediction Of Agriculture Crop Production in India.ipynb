{
 "cells": [
  {
   "cell_type": "markdown",
   "metadata": {},
   "source": [
    "# Agriculture Crop Production In India\n",
    "\n"
   ]
  },
  {
   "cell_type": "markdown",
   "metadata": {},
   "source": [
    "### Importing necessary modules"
   ]
  },
  {
   "cell_type": "code",
   "execution_count": 1,
   "metadata": {},
   "outputs": [],
   "source": [
    "import os"
   ]
  },
  {
   "cell_type": "raw",
   "metadata": {
    "scrolled": true
   },
   "source": [
    "os.getcwd()"
   ]
  },
  {
   "cell_type": "code",
   "execution_count": null,
   "metadata": {
    "scrolled": false
   },
   "outputs": [
    {
     "data": {
      "text/plain": [
       "<function nt.getcwd()>"
      ]
     },
     "execution_count": 4,
     "metadata": {},
     "output_type": "execute_result"
    }
   ],
   "source": [
    "os.getcwd"
   ]
  },
  {
   "cell_type": "code",
   "execution_count": null,
   "metadata": {},
   "outputs": [
    {
     "name": "stdout",
     "output_type": "stream",
     "text": [
      "Requirement already satisfied: cufflinks in c:\\users\\adity\\anaconda3\\lib\\site-packages (0.17.3)\n",
      "Requirement already satisfied: numpy>=1.9.2 in c:\\users\\adity\\anaconda3\\lib\\site-packages (from cufflinks) (1.19.2)\n",
      "Requirement already satisfied: pandas>=0.19.2 in c:\\users\\adity\\anaconda3\\lib\\site-packages (from cufflinks) (1.1.3)\n",
      "Requirement already satisfied: six>=1.9.0 in c:\\users\\adity\\anaconda3\\lib\\site-packages (from cufflinks) (1.15.0)\n",
      "Requirement already satisfied: setuptools>=34.4.1 in c:\\users\\adity\\anaconda3\\lib\\site-packages (from cufflinks) (50.3.1.post20201107)\n",
      "Requirement already satisfied: ipython>=5.3.0 in c:\\users\\adity\\anaconda3\\lib\\site-packages (from cufflinks) (7.19.0)\n",
      "Requirement already satisfied: colorlover>=0.2.1 in c:\\users\\adity\\anaconda3\\lib\\site-packages (from cufflinks) (0.3.0)\n",
      "Requirement already satisfied: plotly>=4.1.1 in c:\\users\\adity\\anaconda3\\lib\\site-packages (from cufflinks) (5.15.0)\n",
      "Requirement already satisfied: ipywidgets>=7.0.0 in c:\\users\\adity\\anaconda3\\lib\\site-packages (from cufflinks) (7.5.1)\n",
      "Requirement already satisfied: python-dateutil>=2.7.3 in c:\\users\\adity\\anaconda3\\lib\\site-packages (from pandas>=0.19.2->cufflinks) (2.8.1)\n",
      "Requirement already satisfied: pytz>=2017.2 in c:\\users\\adity\\anaconda3\\lib\\site-packages (from pandas>=0.19.2->cufflinks) (2020.1)\n",
      "Requirement already satisfied: jedi>=0.10 in c:\\users\\adity\\anaconda3\\lib\\site-packages (from ipython>=5.3.0->cufflinks) (0.17.1)\n",
      "Requirement already satisfied: decorator in c:\\users\\adity\\anaconda3\\lib\\site-packages (from ipython>=5.3.0->cufflinks) (4.4.2)\n",
      "Requirement already satisfied: backcall in c:\\users\\adity\\anaconda3\\lib\\site-packages (from ipython>=5.3.0->cufflinks) (0.2.0)\n",
      "Requirement already satisfied: traitlets>=4.2 in c:\\users\\adity\\anaconda3\\lib\\site-packages (from ipython>=5.3.0->cufflinks) (5.0.5)\n",
      "Requirement already satisfied: pygments in c:\\users\\adity\\anaconda3\\lib\\site-packages (from ipython>=5.3.0->cufflinks) (2.7.2)\n",
      "Requirement already satisfied: prompt-toolkit!=3.0.0,!=3.0.1,<3.1.0,>=2.0.0 in c:\\users\\adity\\anaconda3\\lib\\site-packages (from ipython>=5.3.0->cufflinks) (3.0.8)\n",
      "Requirement already satisfied: colorama; sys_platform == \"win32\" in c:\\users\\adity\\anaconda3\\lib\\site-packages (from ipython>=5.3.0->cufflinks) (0.4.4)\n",
      "Requirement already satisfied: pickleshare in c:\\users\\adity\\anaconda3\\lib\\site-packages (from ipython>=5.3.0->cufflinks) (0.7.5)\n",
      "Requirement already satisfied: packaging in c:\\users\\adity\\anaconda3\\lib\\site-packages (from plotly>=4.1.1->cufflinks) (20.4)\n",
      "Requirement already satisfied: tenacity>=6.2.0 in c:\\users\\adity\\anaconda3\\lib\\site-packages (from plotly>=4.1.1->cufflinks) (8.2.2)\n",
      "Requirement already satisfied: widgetsnbextension~=3.5.0 in c:\\users\\adity\\anaconda3\\lib\\site-packages (from ipywidgets>=7.0.0->cufflinks) (3.5.1)\n",
      "Requirement already satisfied: ipykernel>=4.5.1 in c:\\users\\adity\\anaconda3\\lib\\site-packages (from ipywidgets>=7.0.0->cufflinks) (5.3.4)\n",
      "Requirement already satisfied: nbformat>=4.2.0 in c:\\users\\adity\\anaconda3\\lib\\site-packages (from ipywidgets>=7.0.0->cufflinks) (5.0.8)\n",
      "Requirement already satisfied: parso<0.8.0,>=0.7.0 in c:\\users\\adity\\anaconda3\\lib\\site-packages (from jedi>=0.10->ipython>=5.3.0->cufflinks) (0.7.0)\n",
      "Requirement already satisfied: ipython-genutils in c:\\users\\adity\\anaconda3\\lib\\site-packages (from traitlets>=4.2->ipython>=5.3.0->cufflinks) (0.2.0)\n",
      "Requirement already satisfied: wcwidth in c:\\users\\adity\\anaconda3\\lib\\site-packages (from prompt-toolkit!=3.0.0,!=3.0.1,<3.1.0,>=2.0.0->ipython>=5.3.0->cufflinks) (0.2.5)\n",
      "Requirement already satisfied: pyparsing>=2.0.2 in c:\\users\\adity\\anaconda3\\lib\\site-packages (from packaging->plotly>=4.1.1->cufflinks) (2.4.7)\n",
      "Requirement already satisfied: notebook>=4.4.1 in c:\\users\\adity\\anaconda3\\lib\\site-packages (from widgetsnbextension~=3.5.0->ipywidgets>=7.0.0->cufflinks) (6.1.4)\n",
      "Requirement already satisfied: jupyter-client in c:\\users\\adity\\anaconda3\\lib\\site-packages (from ipykernel>=4.5.1->ipywidgets>=7.0.0->cufflinks) (6.1.7)\n",
      "Requirement already satisfied: tornado>=4.2 in c:\\users\\adity\\anaconda3\\lib\\site-packages (from ipykernel>=4.5.1->ipywidgets>=7.0.0->cufflinks) (6.0.4)\n",
      "Requirement already satisfied: jupyter-core in c:\\users\\adity\\anaconda3\\lib\\site-packages (from nbformat>=4.2.0->ipywidgets>=7.0.0->cufflinks) (4.6.3)\n",
      "Requirement already satisfied: jsonschema!=2.5.0,>=2.4 in c:\\users\\adity\\anaconda3\\lib\\site-packages (from nbformat>=4.2.0->ipywidgets>=7.0.0->cufflinks) (3.2.0)\n",
      "Requirement already satisfied: nbconvert in c:\\users\\adity\\anaconda3\\lib\\site-packages (from notebook>=4.4.1->widgetsnbextension~=3.5.0->ipywidgets>=7.0.0->cufflinks) (6.0.7)\n",
      "Requirement already satisfied: pyzmq>=17 in c:\\users\\adity\\anaconda3\\lib\\site-packages (from notebook>=4.4.1->widgetsnbextension~=3.5.0->ipywidgets>=7.0.0->cufflinks) (19.0.2)\n",
      "Requirement already satisfied: terminado>=0.8.3 in c:\\users\\adity\\anaconda3\\lib\\site-packages (from notebook>=4.4.1->widgetsnbextension~=3.5.0->ipywidgets>=7.0.0->cufflinks) (0.9.1)\n",
      "Requirement already satisfied: argon2-cffi in c:\\users\\adity\\anaconda3\\lib\\site-packages (from notebook>=4.4.1->widgetsnbextension~=3.5.0->ipywidgets>=7.0.0->cufflinks) (20.1.0)\n",
      "Requirement already satisfied: Send2Trash in c:\\users\\adity\\anaconda3\\lib\\site-packages (from notebook>=4.4.1->widgetsnbextension~=3.5.0->ipywidgets>=7.0.0->cufflinks) (1.5.0)\n",
      "Requirement already satisfied: prometheus-client in c:\\users\\adity\\anaconda3\\lib\\site-packages (from notebook>=4.4.1->widgetsnbextension~=3.5.0->ipywidgets>=7.0.0->cufflinks) (0.8.0)\n",
      "Requirement already satisfied: jinja2 in c:\\users\\adity\\anaconda3\\lib\\site-packages (from notebook>=4.4.1->widgetsnbextension~=3.5.0->ipywidgets>=7.0.0->cufflinks) (2.11.2)\n",
      "Requirement already satisfied: pywin32>=1.0; sys_platform == \"win32\" in c:\\users\\adity\\anaconda3\\lib\\site-packages (from jupyter-core->nbformat>=4.2.0->ipywidgets>=7.0.0->cufflinks) (227)\n",
      "Requirement already satisfied: attrs>=17.4.0 in c:\\users\\adity\\anaconda3\\lib\\site-packages (from jsonschema!=2.5.0,>=2.4->nbformat>=4.2.0->ipywidgets>=7.0.0->cufflinks) (20.3.0)\n",
      "Requirement already satisfied: pyrsistent>=0.14.0 in c:\\users\\adity\\anaconda3\\lib\\site-packages (from jsonschema!=2.5.0,>=2.4->nbformat>=4.2.0->ipywidgets>=7.0.0->cufflinks) (0.17.3)\n",
      "Requirement already satisfied: jupyterlab-pygments in c:\\users\\adity\\anaconda3\\lib\\site-packages (from nbconvert->notebook>=4.4.1->widgetsnbextension~=3.5.0->ipywidgets>=7.0.0->cufflinks) (0.1.2)\n",
      "Requirement already satisfied: testpath in c:\\users\\adity\\anaconda3\\lib\\site-packages (from nbconvert->notebook>=4.4.1->widgetsnbextension~=3.5.0->ipywidgets>=7.0.0->cufflinks) (0.4.4)\n",
      "Requirement already satisfied: defusedxml in c:\\users\\adity\\anaconda3\\lib\\site-packages (from nbconvert->notebook>=4.4.1->widgetsnbextension~=3.5.0->ipywidgets>=7.0.0->cufflinks) (0.6.0)\n",
      "Requirement already satisfied: pandocfilters>=1.4.1 in c:\\users\\adity\\anaconda3\\lib\\site-packages (from nbconvert->notebook>=4.4.1->widgetsnbextension~=3.5.0->ipywidgets>=7.0.0->cufflinks) (1.4.3)\n",
      "Requirement already satisfied: bleach in c:\\users\\adity\\anaconda3\\lib\\site-packages (from nbconvert->notebook>=4.4.1->widgetsnbextension~=3.5.0->ipywidgets>=7.0.0->cufflinks) (3.2.1)\n",
      "Requirement already satisfied: entrypoints>=0.2.2 in c:\\users\\adity\\anaconda3\\lib\\site-packages (from nbconvert->notebook>=4.4.1->widgetsnbextension~=3.5.0->ipywidgets>=7.0.0->cufflinks) (0.3)\n",
      "Requirement already satisfied: nbclient<0.6.0,>=0.5.0 in c:\\users\\adity\\anaconda3\\lib\\site-packages (from nbconvert->notebook>=4.4.1->widgetsnbextension~=3.5.0->ipywidgets>=7.0.0->cufflinks) (0.5.1)\n",
      "Requirement already satisfied: mistune<2,>=0.8.1 in c:\\users\\adity\\anaconda3\\lib\\site-packages (from nbconvert->notebook>=4.4.1->widgetsnbextension~=3.5.0->ipywidgets>=7.0.0->cufflinks) (0.8.4)\n",
      "Requirement already satisfied: pywinpty>=0.5 in c:\\users\\adity\\anaconda3\\lib\\site-packages (from terminado>=0.8.3->notebook>=4.4.1->widgetsnbextension~=3.5.0->ipywidgets>=7.0.0->cufflinks) (0.5.7)\n",
      "Requirement already satisfied: cffi>=1.0.0 in c:\\users\\adity\\anaconda3\\lib\\site-packages (from argon2-cffi->notebook>=4.4.1->widgetsnbextension~=3.5.0->ipywidgets>=7.0.0->cufflinks) (1.14.3)\n",
      "Requirement already satisfied: MarkupSafe>=0.23 in c:\\users\\adity\\anaconda3\\lib\\site-packages (from jinja2->notebook>=4.4.1->widgetsnbextension~=3.5.0->ipywidgets>=7.0.0->cufflinks) (1.1.1)\n",
      "Requirement already satisfied: webencodings in c:\\users\\adity\\anaconda3\\lib\\site-packages (from bleach->nbconvert->notebook>=4.4.1->widgetsnbextension~=3.5.0->ipywidgets>=7.0.0->cufflinks) (0.5.1)\n",
      "Requirement already satisfied: nest-asyncio in c:\\users\\adity\\anaconda3\\lib\\site-packages (from nbclient<0.6.0,>=0.5.0->nbconvert->notebook>=4.4.1->widgetsnbextension~=3.5.0->ipywidgets>=7.0.0->cufflinks) (1.4.2)\n",
      "Requirement already satisfied: async-generator in c:\\users\\adity\\anaconda3\\lib\\site-packages (from nbclient<0.6.0,>=0.5.0->nbconvert->notebook>=4.4.1->widgetsnbextension~=3.5.0->ipywidgets>=7.0.0->cufflinks) (1.10)\n",
      "Requirement already satisfied: pycparser in c:\\users\\adity\\anaconda3\\lib\\site-packages (from cffi>=1.0.0->argon2-cffi->notebook>=4.4.1->widgetsnbextension~=3.5.0->ipywidgets>=7.0.0->cufflinks) (2.20)\n"
     ]
    },
    {
     "name": "stdout",
     "output_type": "stream",
     "text": [
      "Requirement already satisfied: chart-studio in c:\\users\\adity\\anaconda3\\lib\\site-packages (1.1.0)\n",
      "Requirement already satisfied: six in c:\\users\\adity\\anaconda3\\lib\\site-packages (from chart-studio) (1.15.0)\n",
      "Requirement already satisfied: retrying>=1.3.3 in c:\\users\\adity\\anaconda3\\lib\\site-packages (from chart-studio) (1.3.4)\n",
      "Requirement already satisfied: requests in c:\\users\\adity\\anaconda3\\lib\\site-packages (from chart-studio) (2.24.0)\n",
      "Requirement already satisfied: plotly in c:\\users\\adity\\anaconda3\\lib\\site-packages (from chart-studio) (5.15.0)\n",
      "Requirement already satisfied: urllib3!=1.25.0,!=1.25.1,<1.26,>=1.21.1 in c:\\users\\adity\\anaconda3\\lib\\site-packages (from requests->chart-studio) (1.25.11)\n",
      "Requirement already satisfied: chardet<4,>=3.0.2 in c:\\users\\adity\\anaconda3\\lib\\site-packages (from requests->chart-studio) (3.0.4)\n",
      "Requirement already satisfied: certifi>=2017.4.17 in c:\\users\\adity\\anaconda3\\lib\\site-packages (from requests->chart-studio) (2020.6.20)\n",
      "Requirement already satisfied: idna<3,>=2.5 in c:\\users\\adity\\anaconda3\\lib\\site-packages (from requests->chart-studio) (2.10)\n",
      "Requirement already satisfied: tenacity>=6.2.0 in c:\\users\\adity\\anaconda3\\lib\\site-packages (from plotly->chart-studio) (8.2.2)\n",
      "Requirement already satisfied: packaging in c:\\users\\adity\\anaconda3\\lib\\site-packages (from plotly->chart-studio) (20.4)\n",
      "Requirement already satisfied: pyparsing>=2.0.2 in c:\\users\\adity\\anaconda3\\lib\\site-packages (from packaging->plotly->chart-studio) (2.4.7)\n",
      "Requirement already satisfied: plotly in c:\\users\\adity\\anaconda3\\lib\\site-packages (5.15.0)\n",
      "Requirement already satisfied: packaging in c:\\users\\adity\\anaconda3\\lib\\site-packages (from plotly) (20.4)\n",
      "Requirement already satisfied: tenacity>=6.2.0 in c:\\users\\adity\\anaconda3\\lib\\site-packages (from plotly) (8.2.2)\n",
      "Requirement already satisfied: pyparsing>=2.0.2 in c:\\users\\adity\\anaconda3\\lib\\site-packages (from packaging->plotly) (2.4.7)\n",
      "Requirement already satisfied: six in c:\\users\\adity\\anaconda3\\lib\\site-packages (from packaging->plotly) (1.15.0)\n"
     ]
    }
   ],
   "source": [
    "!pip install cufflinks\n",
    "!pip install chart-studio\n",
    "!pip install plotly"
   ]
  },
  {
   "cell_type": "code",
   "execution_count": null,
   "metadata": {},
   "outputs": [],
   "source": []
  },
  {
   "cell_type": "code",
   "execution_count": null,
   "metadata": {},
   "outputs": [
    {
     "data": {
      "text/html": [
       "        <script type=\"text/javascript\">\n",
       "        window.PlotlyConfig = {MathJaxConfig: 'local'};\n",
       "        if (window.MathJax && window.MathJax.Hub && window.MathJax.Hub.Config) {window.MathJax.Hub.Config({SVG: {font: \"STIX-Web\"}});}\n",
       "        if (typeof require !== 'undefined') {\n",
       "        require.undef(\"plotly\");\n",
       "        requirejs.config({\n",
       "            paths: {\n",
       "                'plotly': ['https://cdn.plot.ly/plotly-2.24.1.min']\n",
       "            }\n",
       "        });\n",
       "        require(['plotly'], function(Plotly) {\n",
       "            window._Plotly = Plotly;\n",
       "        });\n",
       "        }\n",
       "        </script>\n",
       "        "
      ]
     },
     "metadata": {},
     "output_type": "display_data"
    }
   ],
   "source": [
    "import numpy as np\n",
    "import pandas as pd\n",
    "import seaborn as sns \n",
    "import matplotlib.pyplot as plt\n",
    "import cufflinks as cs\n",
    "%matplotlib inline\n",
    "import chart_studio as cs\n",
    "import plotly \n",
    "import plotly.express as px\n",
    "from plotly.offline import download_plotlyjs,init_notebook_mode,plot,iplot\n",
    "plotly.offline.init_notebook_mode(connected=True)"
   ]
  },
  {
   "cell_type": "markdown",
   "metadata": {},
   "source": [
    "### Reading all the csv dataset files"
   ]
  },
  {
   "cell_type": "code",
   "execution_count": null,
   "metadata": {},
   "outputs": [],
   "source": [
    "df1 = pd.read_csv('datafile (1).csv') \n",
    "df2 = pd.read_csv('datafile (2).csv') \n",
    "df3 = pd.read_csv('datafile (3).csv') \n",
    "df4 = pd.read_csv('datafile.csv') \n",
    "df5 = pd.read_csv('produce.csv')"
   ]
  },
  {
   "cell_type": "markdown",
   "metadata": {},
   "source": [
    "### Analysing and Preprocessing of dataset"
   ]
  },
  {
   "cell_type": "code",
   "execution_count": null,
   "metadata": {},
   "outputs": [
    {
     "data": {
      "text/html": [
       "<div>\n",
       "<style scoped>\n",
       "    .dataframe tbody tr th:only-of-type {\n",
       "        vertical-align: middle;\n",
       "    }\n",
       "\n",
       "    .dataframe tbody tr th {\n",
       "        vertical-align: top;\n",
       "    }\n",
       "\n",
       "    .dataframe thead th {\n",
       "        text-align: right;\n",
       "    }\n",
       "</style>\n",
       "<table border=\"1\" class=\"dataframe\">\n",
       "  <thead>\n",
       "    <tr style=\"text-align: right;\">\n",
       "      <th></th>\n",
       "      <th>Crop</th>\n",
       "      <th>State</th>\n",
       "      <th>Cost of Cultivation (`/Hectare) A2+FL</th>\n",
       "      <th>Cost of Cultivation (`/Hectare) C2</th>\n",
       "      <th>Cost of Production (`/Quintal) C2</th>\n",
       "      <th>Yield (Quintal/ Hectare)</th>\n",
       "    </tr>\n",
       "  </thead>\n",
       "  <tbody>\n",
       "    <tr>\n",
       "      <th>17</th>\n",
       "      <td>GROUNDNUT</td>\n",
       "      <td>Tamil Nadu</td>\n",
       "      <td>22507.86</td>\n",
       "      <td>30393.66</td>\n",
       "      <td>2358.00</td>\n",
       "      <td>11.98</td>\n",
       "    </tr>\n",
       "    <tr>\n",
       "      <th>42</th>\n",
       "      <td>SUGARCANE</td>\n",
       "      <td>Andhra Pradesh</td>\n",
       "      <td>56621.16</td>\n",
       "      <td>91442.63</td>\n",
       "      <td>119.72</td>\n",
       "      <td>757.92</td>\n",
       "    </tr>\n",
       "    <tr>\n",
       "      <th>19</th>\n",
       "      <td>GROUNDNUT</td>\n",
       "      <td>Maharashtra</td>\n",
       "      <td>26078.66</td>\n",
       "      <td>32683.46</td>\n",
       "      <td>3207.35</td>\n",
       "      <td>9.33</td>\n",
       "    </tr>\n",
       "    <tr>\n",
       "      <th>18</th>\n",
       "      <td>GROUNDNUT</td>\n",
       "      <td>Gujarat</td>\n",
       "      <td>22951.28</td>\n",
       "      <td>30114.45</td>\n",
       "      <td>1918.92</td>\n",
       "      <td>13.45</td>\n",
       "    </tr>\n",
       "    <tr>\n",
       "      <th>4</th>\n",
       "      <td>ARHAR</td>\n",
       "      <td>Maharashtra</td>\n",
       "      <td>17130.55</td>\n",
       "      <td>25270.26</td>\n",
       "      <td>2775.80</td>\n",
       "      <td>8.72</td>\n",
       "    </tr>\n",
       "    <tr>\n",
       "      <th>2</th>\n",
       "      <td>ARHAR</td>\n",
       "      <td>Gujarat</td>\n",
       "      <td>13468.82</td>\n",
       "      <td>19551.90</td>\n",
       "      <td>1898.30</td>\n",
       "      <td>9.59</td>\n",
       "    </tr>\n",
       "    <tr>\n",
       "      <th>11</th>\n",
       "      <td>GRAM</td>\n",
       "      <td>Madhya Pradesh</td>\n",
       "      <td>9803.89</td>\n",
       "      <td>16873.17</td>\n",
       "      <td>1551.94</td>\n",
       "      <td>10.29</td>\n",
       "    </tr>\n",
       "    <tr>\n",
       "      <th>28</th>\n",
       "      <td>MOONG</td>\n",
       "      <td>Andhra Pradesh</td>\n",
       "      <td>6684.18</td>\n",
       "      <td>13209.32</td>\n",
       "      <td>2228.97</td>\n",
       "      <td>5.90</td>\n",
       "    </tr>\n",
       "    <tr>\n",
       "      <th>44</th>\n",
       "      <td>SUGARCANE</td>\n",
       "      <td>Tamil Nadu</td>\n",
       "      <td>66335.06</td>\n",
       "      <td>89025.27</td>\n",
       "      <td>85.79</td>\n",
       "      <td>1015.45</td>\n",
       "    </tr>\n",
       "    <tr>\n",
       "      <th>31</th>\n",
       "      <td>PADDY</td>\n",
       "      <td>Orissa</td>\n",
       "      <td>17478.05</td>\n",
       "      <td>25909.05</td>\n",
       "      <td>715.04</td>\n",
       "      <td>32.42</td>\n",
       "    </tr>\n",
       "  </tbody>\n",
       "</table>\n",
       "</div>"
      ],
      "text/plain": [
       "         Crop           State  Cost of Cultivation (`/Hectare) A2+FL  \\\n",
       "17  GROUNDNUT      Tamil Nadu                               22507.86   \n",
       "42  SUGARCANE  Andhra Pradesh                               56621.16   \n",
       "19  GROUNDNUT     Maharashtra                               26078.66   \n",
       "18  GROUNDNUT         Gujarat                               22951.28   \n",
       "4       ARHAR     Maharashtra                               17130.55   \n",
       "2       ARHAR         Gujarat                               13468.82   \n",
       "11       GRAM  Madhya Pradesh                                9803.89   \n",
       "28      MOONG  Andhra Pradesh                                6684.18   \n",
       "44  SUGARCANE      Tamil Nadu                               66335.06   \n",
       "31      PADDY          Orissa                               17478.05   \n",
       "\n",
       "    Cost of Cultivation (`/Hectare) C2  Cost of Production (`/Quintal) C2  \\\n",
       "17                            30393.66                            2358.00   \n",
       "42                            91442.63                             119.72   \n",
       "19                            32683.46                            3207.35   \n",
       "18                            30114.45                            1918.92   \n",
       "4                             25270.26                            2775.80   \n",
       "2                             19551.90                            1898.30   \n",
       "11                            16873.17                            1551.94   \n",
       "28                            13209.32                            2228.97   \n",
       "44                            89025.27                              85.79   \n",
       "31                            25909.05                             715.04   \n",
       "\n",
       "    Yield (Quintal/ Hectare)   \n",
       "17                      11.98  \n",
       "42                     757.92  \n",
       "19                       9.33  \n",
       "18                      13.45  \n",
       "4                        8.72  \n",
       "2                        9.59  \n",
       "11                      10.29  \n",
       "28                       5.90  \n",
       "44                    1015.45  \n",
       "31                      32.42  "
      ]
     },
     "execution_count": 8,
     "metadata": {},
     "output_type": "execute_result"
    }
   ],
   "source": [
    "df1.sample(10)"
   ]
  },
  {
   "cell_type": "code",
   "execution_count": null,
   "metadata": {},
   "outputs": [
    {
     "name": "stdout",
     "output_type": "stream",
     "text": [
      "<class 'pandas.core.frame.DataFrame'>\n",
      "RangeIndex: 49 entries, 0 to 48\n",
      "Data columns (total 6 columns):\n",
      " #   Column                                 Non-Null Count  Dtype  \n",
      "---  ------                                 --------------  -----  \n",
      " 0   Crop                                   49 non-null     object \n",
      " 1   State                                  49 non-null     object \n",
      " 2   Cost of Cultivation (`/Hectare) A2+FL  49 non-null     float64\n",
      " 3   Cost of Cultivation (`/Hectare) C2     49 non-null     float64\n",
      " 4   Cost of Production (`/Quintal) C2      49 non-null     float64\n",
      " 5   Yield (Quintal/ Hectare)               49 non-null     float64\n",
      "dtypes: float64(4), object(2)\n",
      "memory usage: 2.4+ KB\n"
     ]
    }
   ],
   "source": [
    "df1.info()"
   ]
  },
  {
   "cell_type": "code",
   "execution_count": null,
   "metadata": {},
   "outputs": [
    {
     "data": {
      "text/html": [
       "<div>\n",
       "<style scoped>\n",
       "    .dataframe tbody tr th:only-of-type {\n",
       "        vertical-align: middle;\n",
       "    }\n",
       "\n",
       "    .dataframe tbody tr th {\n",
       "        vertical-align: top;\n",
       "    }\n",
       "\n",
       "    .dataframe thead th {\n",
       "        text-align: right;\n",
       "    }\n",
       "</style>\n",
       "<table border=\"1\" class=\"dataframe\">\n",
       "  <thead>\n",
       "    <tr style=\"text-align: right;\">\n",
       "      <th></th>\n",
       "      <th>Crop</th>\n",
       "      <th>Production 2006-07</th>\n",
       "      <th>Production 2007-08</th>\n",
       "      <th>Production 2008-09</th>\n",
       "      <th>Production 2009-10</th>\n",
       "      <th>Production 2010-11</th>\n",
       "      <th>Area 2006-07</th>\n",
       "      <th>Area 2007-08</th>\n",
       "      <th>Area 2008-09</th>\n",
       "      <th>Area 2009-10</th>\n",
       "      <th>Area 2010-11</th>\n",
       "      <th>Yield 2006-07</th>\n",
       "      <th>Yield 2007-08</th>\n",
       "      <th>Yield 2008-09</th>\n",
       "      <th>Yield 2009-10</th>\n",
       "      <th>Yield 2010-11</th>\n",
       "    </tr>\n",
       "  </thead>\n",
       "  <tbody>\n",
       "    <tr>\n",
       "      <th>51</th>\n",
       "      <td>Onion</td>\n",
       "      <td>240.5</td>\n",
       "      <td>247.3</td>\n",
       "      <td>367.1</td>\n",
       "      <td>329.1</td>\n",
       "      <td>409.1</td>\n",
       "      <td>207.7</td>\n",
       "      <td>208.4</td>\n",
       "      <td>246.8</td>\n",
       "      <td>223.6</td>\n",
       "      <td>314.7</td>\n",
       "      <td>115.8</td>\n",
       "      <td>118.7</td>\n",
       "      <td>148.8</td>\n",
       "      <td>147.1</td>\n",
       "      <td>130.0</td>\n",
       "    </tr>\n",
       "    <tr>\n",
       "      <th>18</th>\n",
       "      <td>Sesamum</td>\n",
       "      <td>95.5</td>\n",
       "      <td>116.8</td>\n",
       "      <td>98.8</td>\n",
       "      <td>90.8</td>\n",
       "      <td>137.9</td>\n",
       "      <td>74.2</td>\n",
       "      <td>78.4</td>\n",
       "      <td>78.8</td>\n",
       "      <td>84.6</td>\n",
       "      <td>90.7</td>\n",
       "      <td>128.7</td>\n",
       "      <td>149.1</td>\n",
       "      <td>125.4</td>\n",
       "      <td>107.4</td>\n",
       "      <td>151.9</td>\n",
       "    </tr>\n",
       "    <tr>\n",
       "      <th>41</th>\n",
       "      <td>Dry ginger</td>\n",
       "      <td>206.3</td>\n",
       "      <td>200.6</td>\n",
       "      <td>199.3</td>\n",
       "      <td>202.0</td>\n",
       "      <td>368.1</td>\n",
       "      <td>176.2</td>\n",
       "      <td>172.9</td>\n",
       "      <td>180.4</td>\n",
       "      <td>179.4</td>\n",
       "      <td>247.4</td>\n",
       "      <td>117.1</td>\n",
       "      <td>116.0</td>\n",
       "      <td>110.5</td>\n",
       "      <td>112.6</td>\n",
       "      <td>148.8</td>\n",
       "    </tr>\n",
       "    <tr>\n",
       "      <th>5</th>\n",
       "      <td>Maize</td>\n",
       "      <td>198.8</td>\n",
       "      <td>249.6</td>\n",
       "      <td>259.8</td>\n",
       "      <td>220.1</td>\n",
       "      <td>286.0</td>\n",
       "      <td>156.1</td>\n",
       "      <td>160.5</td>\n",
       "      <td>161.6</td>\n",
       "      <td>163.4</td>\n",
       "      <td>169.1</td>\n",
       "      <td>127.3</td>\n",
       "      <td>155.5</td>\n",
       "      <td>160.7</td>\n",
       "      <td>134.7</td>\n",
       "      <td>169.1</td>\n",
       "    </tr>\n",
       "    <tr>\n",
       "      <th>20</th>\n",
       "      <td>Linseed</td>\n",
       "      <td>55.9</td>\n",
       "      <td>54.4</td>\n",
       "      <td>56.4</td>\n",
       "      <td>51.2</td>\n",
       "      <td>48.8</td>\n",
       "      <td>47.9</td>\n",
       "      <td>51.3</td>\n",
       "      <td>44.8</td>\n",
       "      <td>37.5</td>\n",
       "      <td>39.4</td>\n",
       "      <td>116.8</td>\n",
       "      <td>106.1</td>\n",
       "      <td>126.0</td>\n",
       "      <td>136.5</td>\n",
       "      <td>123.9</td>\n",
       "    </tr>\n",
       "    <tr>\n",
       "      <th>30</th>\n",
       "      <td>Cotton(lint)</td>\n",
       "      <td>213.1</td>\n",
       "      <td>243.8</td>\n",
       "      <td>209.8</td>\n",
       "      <td>226.2</td>\n",
       "      <td>310.8</td>\n",
       "      <td>121.7</td>\n",
       "      <td>125.3</td>\n",
       "      <td>125.2</td>\n",
       "      <td>134.8</td>\n",
       "      <td>149.5</td>\n",
       "      <td>175.2</td>\n",
       "      <td>194.6</td>\n",
       "      <td>167.6</td>\n",
       "      <td>167.8</td>\n",
       "      <td>207.9</td>\n",
       "    </tr>\n",
       "    <tr>\n",
       "      <th>14</th>\n",
       "      <td>Total Pulses</td>\n",
       "      <td>130.3</td>\n",
       "      <td>135.4</td>\n",
       "      <td>133.7</td>\n",
       "      <td>134.5</td>\n",
       "      <td>167.4</td>\n",
       "      <td>122.1</td>\n",
       "      <td>124.4</td>\n",
       "      <td>116.3</td>\n",
       "      <td>122.6</td>\n",
       "      <td>139.0</td>\n",
       "      <td>106.7</td>\n",
       "      <td>108.8</td>\n",
       "      <td>114.9</td>\n",
       "      <td>109.7</td>\n",
       "      <td>120.4</td>\n",
       "    </tr>\n",
       "    <tr>\n",
       "      <th>24</th>\n",
       "      <td>Sunflower</td>\n",
       "      <td>161.3</td>\n",
       "      <td>192.3</td>\n",
       "      <td>152.2</td>\n",
       "      <td>111.8</td>\n",
       "      <td>85.6</td>\n",
       "      <td>175.0</td>\n",
       "      <td>154.5</td>\n",
       "      <td>146.5</td>\n",
       "      <td>119.3</td>\n",
       "      <td>75.1</td>\n",
       "      <td>92.2</td>\n",
       "      <td>124.5</td>\n",
       "      <td>103.9</td>\n",
       "      <td>93.7</td>\n",
       "      <td>114.0</td>\n",
       "    </tr>\n",
       "    <tr>\n",
       "      <th>29</th>\n",
       "      <td>Total Fibers</td>\n",
       "      <td>186.1</td>\n",
       "      <td>203.5</td>\n",
       "      <td>179.1</td>\n",
       "      <td>196.6</td>\n",
       "      <td>239.3</td>\n",
       "      <td>118.3</td>\n",
       "      <td>121.7</td>\n",
       "      <td>120.9</td>\n",
       "      <td>129.4</td>\n",
       "      <td>141.9</td>\n",
       "      <td>157.3</td>\n",
       "      <td>167.2</td>\n",
       "      <td>148.2</td>\n",
       "      <td>152.0</td>\n",
       "      <td>168.6</td>\n",
       "    </tr>\n",
       "    <tr>\n",
       "      <th>9</th>\n",
       "      <td>Coarse Cereals</td>\n",
       "      <td>138.5</td>\n",
       "      <td>166.4</td>\n",
       "      <td>163.5</td>\n",
       "      <td>137.0</td>\n",
       "      <td>178.4</td>\n",
       "      <td>106.4</td>\n",
       "      <td>105.6</td>\n",
       "      <td>101.8</td>\n",
       "      <td>102.6</td>\n",
       "      <td>105.4</td>\n",
       "      <td>130.1</td>\n",
       "      <td>157.6</td>\n",
       "      <td>160.7</td>\n",
       "      <td>133.5</td>\n",
       "      <td>169.2</td>\n",
       "    </tr>\n",
       "  </tbody>\n",
       "</table>\n",
       "</div>"
      ],
      "text/plain": [
       "   Crop               Production 2006-07  Production 2007-08  \\\n",
       "51             Onion               240.5               247.3   \n",
       "18           Sesamum                95.5               116.8   \n",
       "41       Dry ginger                206.3               200.6   \n",
       "5              Maize               198.8               249.6   \n",
       "20           Linseed                55.9                54.4   \n",
       "30      Cotton(lint)               213.1               243.8   \n",
       "14      Total Pulses               130.3               135.4   \n",
       "24         Sunflower               161.3               192.3   \n",
       "29      Total Fibers               186.1               203.5   \n",
       "9     Coarse Cereals               138.5               166.4   \n",
       "\n",
       "    Production 2008-09  Production 2009-10  Production 2010-11  Area 2006-07  \\\n",
       "51               367.1               329.1               409.1         207.7   \n",
       "18                98.8                90.8               137.9          74.2   \n",
       "41               199.3               202.0               368.1         176.2   \n",
       "5                259.8               220.1               286.0         156.1   \n",
       "20                56.4                51.2                48.8          47.9   \n",
       "30               209.8               226.2               310.8         121.7   \n",
       "14               133.7               134.5               167.4         122.1   \n",
       "24               152.2               111.8                85.6         175.0   \n",
       "29               179.1               196.6               239.3         118.3   \n",
       "9                163.5               137.0               178.4         106.4   \n",
       "\n",
       "    Area 2007-08  Area 2008-09  Area 2009-10  Area 2010-11  Yield 2006-07  \\\n",
       "51         208.4         246.8         223.6         314.7          115.8   \n",
       "18          78.4          78.8          84.6          90.7          128.7   \n",
       "41         172.9         180.4         179.4         247.4          117.1   \n",
       "5          160.5         161.6         163.4         169.1          127.3   \n",
       "20          51.3          44.8          37.5          39.4          116.8   \n",
       "30         125.3         125.2         134.8         149.5          175.2   \n",
       "14         124.4         116.3         122.6         139.0          106.7   \n",
       "24         154.5         146.5         119.3          75.1           92.2   \n",
       "29         121.7         120.9         129.4         141.9          157.3   \n",
       "9          105.6         101.8         102.6         105.4          130.1   \n",
       "\n",
       "    Yield 2007-08  Yield 2008-09  Yield 2009-10  Yield 2010-11  \n",
       "51          118.7          148.8          147.1          130.0  \n",
       "18          149.1          125.4          107.4          151.9  \n",
       "41          116.0          110.5          112.6          148.8  \n",
       "5           155.5          160.7          134.7          169.1  \n",
       "20          106.1          126.0          136.5          123.9  \n",
       "30          194.6          167.6          167.8          207.9  \n",
       "14          108.8          114.9          109.7          120.4  \n",
       "24          124.5          103.9           93.7          114.0  \n",
       "29          167.2          148.2          152.0          168.6  \n",
       "9           157.6          160.7          133.5          169.2  "
      ]
     },
     "execution_count": 10,
     "metadata": {},
     "output_type": "execute_result"
    }
   ],
   "source": [
    "df2.sample(10)"
   ]
  },
  {
   "cell_type": "code",
   "execution_count": null,
   "metadata": {},
   "outputs": [
    {
     "data": {
      "text/plain": [
       "Index(['Crop             ', 'Production 2006-07', 'Production 2007-08',\n",
       "       'Production 2008-09', 'Production 2009-10', 'Production 2010-11',\n",
       "       'Area 2006-07', 'Area 2007-08', 'Area 2008-09', 'Area 2009-10',\n",
       "       'Area 2010-11', 'Yield 2006-07', 'Yield 2007-08', 'Yield 2008-09',\n",
       "       'Yield 2009-10', 'Yield 2010-11'],\n",
       "      dtype='object')"
      ]
     },
     "execution_count": 11,
     "metadata": {},
     "output_type": "execute_result"
    }
   ],
   "source": [
    "df2.columns"
   ]
  },
  {
   "cell_type": "code",
   "execution_count": null,
   "metadata": {},
   "outputs": [
    {
     "data": {
      "text/plain": [
       "Index(['Crop', 'Production 2006-07', 'Production 2007-08',\n",
       "       'Production 2008-09', 'Production 2009-10', 'Production 2010-11',\n",
       "       'Area 2006-07', 'Area 2007-08', 'Area 2008-09', 'Area 2009-10',\n",
       "       'Area 2010-11', 'Yield 2006-07', 'Yield 2007-08', 'Yield 2008-09',\n",
       "       'Yield 2009-10', 'Yield 2010-11'],\n",
       "      dtype='object')"
      ]
     },
     "execution_count": 12,
     "metadata": {},
     "output_type": "execute_result"
    }
   ],
   "source": [
    "df2_pd=df2\n",
    "df2_pd.rename(columns={'Crop             ':'Crop'},inplace=True)\n",
    "df2.columns"
   ]
  },
  {
   "cell_type": "code",
   "execution_count": null,
   "metadata": {},
   "outputs": [
    {
     "data": {
      "text/plain": [
       "0              Total Foodgrains\n",
       "1                          Rice\n",
       "2                         Wheat\n",
       "3                         Jowar\n",
       "4                         Bajra\n",
       "5                         Maize\n",
       "6                          Ragi\n",
       "7                 Small millets\n",
       "8                        Barley\n",
       "9                Coarse Cereals\n",
       "10                      Cereals\n",
       "11                         Gram\n",
       "12                        Arhar\n",
       "13                 Other Pulses\n",
       "14                 Total Pulses\n",
       "15       Total Non-Food grains \n",
       "16               Total Oilseeds\n",
       "17                    Groundnut\n",
       "18                      Sesamum\n",
       "19            Rapeseed &Mustard\n",
       "20                      Linseed\n",
       "21                  Castor seed\n",
       "22                    Safflower\n",
       "23                   Niger seed\n",
       "24                    Sunflower\n",
       "25                     Soyabean\n",
       "26                Nine Oilseeds\n",
       "27                      Coconut\n",
       "28                  Cotton seed\n",
       "29                 Total Fibers\n",
       "30                 Cotton(lint)\n",
       "31                         Jute\n",
       "32                        Mesta\n",
       "33                 Jute & Mesta\n",
       "34                    Sannhamp \n",
       "35                         Tea \n",
       "36                      Coffee \n",
       "37                      Rubber \n",
       "38                 Total Spices\n",
       "39                 Black pepper\n",
       "40                 Dry chilies \n",
       "41                  Dry ginger \n",
       "42                    Turmeric \n",
       "43                   Arecanut  \n",
       "44                    Cardamom \n",
       "45                    Coriander\n",
       "46                     Garlic  \n",
       "47    Total Fruits & Vegetables\n",
       "48                       Potato\n",
       "49                      Tapioca\n",
       "50               Sweet potato  \n",
       "51                        Onion\n",
       "52                     Banana  \n",
       "53                    Sugarcane\n",
       "54                      Tobacco\n",
       "Name: Crop, dtype: object"
      ]
     },
     "execution_count": 13,
     "metadata": {},
     "output_type": "execute_result"
    }
   ],
   "source": [
    "df2['Crop']"
   ]
  },
  {
   "cell_type": "code",
   "execution_count": null,
   "metadata": {},
   "outputs": [
    {
     "data": {
      "text/html": [
       "<div>\n",
       "<style scoped>\n",
       "    .dataframe tbody tr th:only-of-type {\n",
       "        vertical-align: middle;\n",
       "    }\n",
       "\n",
       "    .dataframe tbody tr th {\n",
       "        vertical-align: top;\n",
       "    }\n",
       "\n",
       "    .dataframe thead th {\n",
       "        text-align: right;\n",
       "    }\n",
       "</style>\n",
       "<table border=\"1\" class=\"dataframe\">\n",
       "  <thead>\n",
       "    <tr style=\"text-align: right;\">\n",
       "      <th></th>\n",
       "      <th>Crop</th>\n",
       "      <th>Production 2006-07</th>\n",
       "      <th>Production 2007-08</th>\n",
       "      <th>Production 2008-09</th>\n",
       "      <th>Production 2009-10</th>\n",
       "      <th>Production 2010-11</th>\n",
       "      <th>Area 2006-07</th>\n",
       "      <th>Area 2007-08</th>\n",
       "      <th>Area 2008-09</th>\n",
       "      <th>Area 2009-10</th>\n",
       "      <th>Area 2010-11</th>\n",
       "      <th>Yield 2006-07</th>\n",
       "      <th>Yield 2007-08</th>\n",
       "      <th>Yield 2008-09</th>\n",
       "      <th>Yield 2009-10</th>\n",
       "      <th>Yield 2010-11</th>\n",
       "    </tr>\n",
       "  </thead>\n",
       "  <tbody>\n",
       "    <tr>\n",
       "      <th>1</th>\n",
       "      <td>Rice</td>\n",
       "      <td>200.8</td>\n",
       "      <td>207.9</td>\n",
       "      <td>213.3</td>\n",
       "      <td>191.6</td>\n",
       "      <td>206.4</td>\n",
       "      <td>168.5</td>\n",
       "      <td>168.9</td>\n",
       "      <td>175.1</td>\n",
       "      <td>161.2</td>\n",
       "      <td>164.8</td>\n",
       "      <td>119.2</td>\n",
       "      <td>123.1</td>\n",
       "      <td>121.8</td>\n",
       "      <td>118.9</td>\n",
       "      <td>125.2</td>\n",
       "    </tr>\n",
       "    <tr>\n",
       "      <th>2</th>\n",
       "      <td>Wheat</td>\n",
       "      <td>131.6</td>\n",
       "      <td>136.4</td>\n",
       "      <td>140.1</td>\n",
       "      <td>140.3</td>\n",
       "      <td>150.8</td>\n",
       "      <td>115.0</td>\n",
       "      <td>115.2</td>\n",
       "      <td>114.0</td>\n",
       "      <td>116.9</td>\n",
       "      <td>119.5</td>\n",
       "      <td>114.4</td>\n",
       "      <td>118.4</td>\n",
       "      <td>122.8</td>\n",
       "      <td>120.0</td>\n",
       "      <td>126.3</td>\n",
       "    </tr>\n",
       "    <tr>\n",
       "      <th>3</th>\n",
       "      <td>Jowar</td>\n",
       "      <td>124.3</td>\n",
       "      <td>137.8</td>\n",
       "      <td>126.0</td>\n",
       "      <td>116.5</td>\n",
       "      <td>121.8</td>\n",
       "      <td>120.7</td>\n",
       "      <td>110.6</td>\n",
       "      <td>107.3</td>\n",
       "      <td>111.0</td>\n",
       "      <td>105.2</td>\n",
       "      <td>103.0</td>\n",
       "      <td>124.6</td>\n",
       "      <td>117.4</td>\n",
       "      <td>105.0</td>\n",
       "      <td>115.8</td>\n",
       "    </tr>\n",
       "    <tr>\n",
       "      <th>4</th>\n",
       "      <td>Bajra</td>\n",
       "      <td>136.4</td>\n",
       "      <td>161.5</td>\n",
       "      <td>143.9</td>\n",
       "      <td>105.4</td>\n",
       "      <td>167.9</td>\n",
       "      <td>94.5</td>\n",
       "      <td>95.1</td>\n",
       "      <td>87.0</td>\n",
       "      <td>88.5</td>\n",
       "      <td>95.6</td>\n",
       "      <td>144.3</td>\n",
       "      <td>169.7</td>\n",
       "      <td>165.4</td>\n",
       "      <td>119.0</td>\n",
       "      <td>175.8</td>\n",
       "    </tr>\n",
       "    <tr>\n",
       "      <th>5</th>\n",
       "      <td>Maize</td>\n",
       "      <td>198.8</td>\n",
       "      <td>249.6</td>\n",
       "      <td>259.8</td>\n",
       "      <td>220.1</td>\n",
       "      <td>286.0</td>\n",
       "      <td>156.1</td>\n",
       "      <td>160.5</td>\n",
       "      <td>161.6</td>\n",
       "      <td>163.4</td>\n",
       "      <td>169.1</td>\n",
       "      <td>127.3</td>\n",
       "      <td>155.5</td>\n",
       "      <td>160.7</td>\n",
       "      <td>134.7</td>\n",
       "      <td>169.1</td>\n",
       "    </tr>\n",
       "    <tr>\n",
       "      <th>6</th>\n",
       "      <td>Ragi</td>\n",
       "      <td>56.1</td>\n",
       "      <td>83.6</td>\n",
       "      <td>79.3</td>\n",
       "      <td>73.4</td>\n",
       "      <td>85.2</td>\n",
       "      <td>60.2</td>\n",
       "      <td>70.9</td>\n",
       "      <td>70.6</td>\n",
       "      <td>64.8</td>\n",
       "      <td>65.8</td>\n",
       "      <td>93.2</td>\n",
       "      <td>117.9</td>\n",
       "      <td>112.2</td>\n",
       "      <td>113.2</td>\n",
       "      <td>129.6</td>\n",
       "    </tr>\n",
       "    <tr>\n",
       "      <th>7</th>\n",
       "      <td>Small millets</td>\n",
       "      <td>53.9</td>\n",
       "      <td>61.9</td>\n",
       "      <td>50.0</td>\n",
       "      <td>42.9</td>\n",
       "      <td>82.0</td>\n",
       "      <td>50.9</td>\n",
       "      <td>52.3</td>\n",
       "      <td>45.6</td>\n",
       "      <td>41.8</td>\n",
       "      <td>45.0</td>\n",
       "      <td>106.0</td>\n",
       "      <td>118.3</td>\n",
       "      <td>109.7</td>\n",
       "      <td>102.7</td>\n",
       "      <td>182.4</td>\n",
       "    </tr>\n",
       "    <tr>\n",
       "      <th>8</th>\n",
       "      <td>Barley</td>\n",
       "      <td>88.1</td>\n",
       "      <td>79.3</td>\n",
       "      <td>112.0</td>\n",
       "      <td>89.9</td>\n",
       "      <td>110.3</td>\n",
       "      <td>72.8</td>\n",
       "      <td>67.9</td>\n",
       "      <td>79.5</td>\n",
       "      <td>70.2</td>\n",
       "      <td>79.4</td>\n",
       "      <td>121.0</td>\n",
       "      <td>116.9</td>\n",
       "      <td>141.0</td>\n",
       "      <td>127.9</td>\n",
       "      <td>138.9</td>\n",
       "    </tr>\n",
       "    <tr>\n",
       "      <th>9</th>\n",
       "      <td>Coarse Cereals</td>\n",
       "      <td>138.5</td>\n",
       "      <td>166.4</td>\n",
       "      <td>163.5</td>\n",
       "      <td>137.0</td>\n",
       "      <td>178.4</td>\n",
       "      <td>106.4</td>\n",
       "      <td>105.6</td>\n",
       "      <td>101.8</td>\n",
       "      <td>102.6</td>\n",
       "      <td>105.4</td>\n",
       "      <td>130.1</td>\n",
       "      <td>157.6</td>\n",
       "      <td>160.7</td>\n",
       "      <td>133.5</td>\n",
       "      <td>169.2</td>\n",
       "    </tr>\n",
       "    <tr>\n",
       "      <th>10</th>\n",
       "      <td>Cereals</td>\n",
       "      <td>164.1</td>\n",
       "      <td>174.6</td>\n",
       "      <td>177.7</td>\n",
       "      <td>164.4</td>\n",
       "      <td>183.1</td>\n",
       "      <td>130.0</td>\n",
       "      <td>129.9</td>\n",
       "      <td>130.3</td>\n",
       "      <td>126.8</td>\n",
       "      <td>129.8</td>\n",
       "      <td>126.3</td>\n",
       "      <td>134.4</td>\n",
       "      <td>136.4</td>\n",
       "      <td>129.7</td>\n",
       "      <td>141.1</td>\n",
       "    </tr>\n",
       "    <tr>\n",
       "      <th>11</th>\n",
       "      <td>Gram</td>\n",
       "      <td>140.6</td>\n",
       "      <td>127.6</td>\n",
       "      <td>156.5</td>\n",
       "      <td>165.9</td>\n",
       "      <td>182.5</td>\n",
       "      <td>122.3</td>\n",
       "      <td>123.1</td>\n",
       "      <td>128.8</td>\n",
       "      <td>133.3</td>\n",
       "      <td>149.9</td>\n",
       "      <td>115.0</td>\n",
       "      <td>103.7</td>\n",
       "      <td>121.7</td>\n",
       "      <td>124.5</td>\n",
       "      <td>121.7</td>\n",
       "    </tr>\n",
       "    <tr>\n",
       "      <th>12</th>\n",
       "      <td>Arhar</td>\n",
       "      <td>97.0</td>\n",
       "      <td>128.9</td>\n",
       "      <td>94.9</td>\n",
       "      <td>103.3</td>\n",
       "      <td>119.9</td>\n",
       "      <td>99.7</td>\n",
       "      <td>104.3</td>\n",
       "      <td>94.5</td>\n",
       "      <td>97.0</td>\n",
       "      <td>122.2</td>\n",
       "      <td>97.3</td>\n",
       "      <td>123.6</td>\n",
       "      <td>100.4</td>\n",
       "      <td>106.5</td>\n",
       "      <td>98.1</td>\n",
       "    </tr>\n",
       "    <tr>\n",
       "      <th>13</th>\n",
       "      <td>Other Pulses</td>\n",
       "      <td>139.1</td>\n",
       "      <td>148.9</td>\n",
       "      <td>131.4</td>\n",
       "      <td>118.4</td>\n",
       "      <td>179.5</td>\n",
       "      <td>131.3</td>\n",
       "      <td>133.8</td>\n",
       "      <td>117.1</td>\n",
       "      <td>126.1</td>\n",
       "      <td>139.1</td>\n",
       "      <td>105.9</td>\n",
       "      <td>111.3</td>\n",
       "      <td>112.2</td>\n",
       "      <td>93.9</td>\n",
       "      <td>129.0</td>\n",
       "    </tr>\n",
       "    <tr>\n",
       "      <th>17</th>\n",
       "      <td>Groundnut</td>\n",
       "      <td>115.2</td>\n",
       "      <td>217.5</td>\n",
       "      <td>169.8</td>\n",
       "      <td>128.6</td>\n",
       "      <td>195.7</td>\n",
       "      <td>124.1</td>\n",
       "      <td>139.1</td>\n",
       "      <td>136.3</td>\n",
       "      <td>121.1</td>\n",
       "      <td>129.5</td>\n",
       "      <td>92.8</td>\n",
       "      <td>156.3</td>\n",
       "      <td>124.6</td>\n",
       "      <td>106.2</td>\n",
       "      <td>151.2</td>\n",
       "    </tr>\n",
       "    <tr>\n",
       "      <th>18</th>\n",
       "      <td>Sesamum</td>\n",
       "      <td>95.5</td>\n",
       "      <td>116.8</td>\n",
       "      <td>98.8</td>\n",
       "      <td>90.8</td>\n",
       "      <td>137.9</td>\n",
       "      <td>74.2</td>\n",
       "      <td>78.4</td>\n",
       "      <td>78.8</td>\n",
       "      <td>84.6</td>\n",
       "      <td>90.7</td>\n",
       "      <td>128.7</td>\n",
       "      <td>149.1</td>\n",
       "      <td>125.4</td>\n",
       "      <td>107.4</td>\n",
       "      <td>151.9</td>\n",
       "    </tr>\n",
       "    <tr>\n",
       "      <th>19</th>\n",
       "      <td>Rapeseed &amp;Mustard</td>\n",
       "      <td>138.7</td>\n",
       "      <td>108.8</td>\n",
       "      <td>134.3</td>\n",
       "      <td>123.2</td>\n",
       "      <td>152.5</td>\n",
       "      <td>107.0</td>\n",
       "      <td>91.8</td>\n",
       "      <td>99.3</td>\n",
       "      <td>88.1</td>\n",
       "      <td>108.8</td>\n",
       "      <td>129.6</td>\n",
       "      <td>118.5</td>\n",
       "      <td>135.2</td>\n",
       "      <td>139.9</td>\n",
       "      <td>140.2</td>\n",
       "    </tr>\n",
       "    <tr>\n",
       "      <th>20</th>\n",
       "      <td>Linseed</td>\n",
       "      <td>55.9</td>\n",
       "      <td>54.4</td>\n",
       "      <td>56.4</td>\n",
       "      <td>51.2</td>\n",
       "      <td>48.8</td>\n",
       "      <td>47.9</td>\n",
       "      <td>51.3</td>\n",
       "      <td>44.8</td>\n",
       "      <td>37.5</td>\n",
       "      <td>39.4</td>\n",
       "      <td>116.8</td>\n",
       "      <td>106.1</td>\n",
       "      <td>126.0</td>\n",
       "      <td>136.5</td>\n",
       "      <td>123.9</td>\n",
       "    </tr>\n",
       "    <tr>\n",
       "      <th>21</th>\n",
       "      <td>Castor seed</td>\n",
       "      <td>124.7</td>\n",
       "      <td>172.3</td>\n",
       "      <td>191.6</td>\n",
       "      <td>165.0</td>\n",
       "      <td>220.9</td>\n",
       "      <td>91.7</td>\n",
       "      <td>114.8</td>\n",
       "      <td>126.4</td>\n",
       "      <td>107.2</td>\n",
       "      <td>128.5</td>\n",
       "      <td>136.0</td>\n",
       "      <td>150.1</td>\n",
       "      <td>151.5</td>\n",
       "      <td>153.9</td>\n",
       "      <td>171.9</td>\n",
       "    </tr>\n",
       "    <tr>\n",
       "      <th>22</th>\n",
       "      <td>Safflower</td>\n",
       "      <td>67.3</td>\n",
       "      <td>62.8</td>\n",
       "      <td>53.0</td>\n",
       "      <td>50.1</td>\n",
       "      <td>42.1</td>\n",
       "      <td>55.8</td>\n",
       "      <td>47.4</td>\n",
       "      <td>43.6</td>\n",
       "      <td>42.6</td>\n",
       "      <td>36.1</td>\n",
       "      <td>120.6</td>\n",
       "      <td>132.6</td>\n",
       "      <td>121.5</td>\n",
       "      <td>117.5</td>\n",
       "      <td>116.7</td>\n",
       "    </tr>\n",
       "    <tr>\n",
       "      <th>23</th>\n",
       "      <td>Niger seed</td>\n",
       "      <td>65.1</td>\n",
       "      <td>59.0</td>\n",
       "      <td>63.0</td>\n",
       "      <td>53.8</td>\n",
       "      <td>58.0</td>\n",
       "      <td>75.7</td>\n",
       "      <td>65.8</td>\n",
       "      <td>63.5</td>\n",
       "      <td>60.6</td>\n",
       "      <td>59.9</td>\n",
       "      <td>86.0</td>\n",
       "      <td>89.6</td>\n",
       "      <td>99.2</td>\n",
       "      <td>88.8</td>\n",
       "      <td>96.9</td>\n",
       "    </tr>\n",
       "    <tr>\n",
       "      <th>24</th>\n",
       "      <td>Sunflower</td>\n",
       "      <td>161.3</td>\n",
       "      <td>192.3</td>\n",
       "      <td>152.2</td>\n",
       "      <td>111.8</td>\n",
       "      <td>85.6</td>\n",
       "      <td>175.0</td>\n",
       "      <td>154.5</td>\n",
       "      <td>146.5</td>\n",
       "      <td>119.3</td>\n",
       "      <td>75.1</td>\n",
       "      <td>92.2</td>\n",
       "      <td>124.5</td>\n",
       "      <td>103.9</td>\n",
       "      <td>93.7</td>\n",
       "      <td>114.0</td>\n",
       "    </tr>\n",
       "    <tr>\n",
       "      <th>25</th>\n",
       "      <td>Soyabean</td>\n",
       "      <td>253.2</td>\n",
       "      <td>313.8</td>\n",
       "      <td>283.4</td>\n",
       "      <td>285.1</td>\n",
       "      <td>364.4</td>\n",
       "      <td>222.7</td>\n",
       "      <td>237.5</td>\n",
       "      <td>254.5</td>\n",
       "      <td>260.3</td>\n",
       "      <td>256.8</td>\n",
       "      <td>113.7</td>\n",
       "      <td>132.1</td>\n",
       "      <td>111.4</td>\n",
       "      <td>109.5</td>\n",
       "      <td>141.9</td>\n",
       "    </tr>\n",
       "    <tr>\n",
       "      <th>26</th>\n",
       "      <td>Nine Oilseeds</td>\n",
       "      <td>147.1</td>\n",
       "      <td>180.2</td>\n",
       "      <td>167.9</td>\n",
       "      <td>150.7</td>\n",
       "      <td>196.7</td>\n",
       "      <td>126.1</td>\n",
       "      <td>126.9</td>\n",
       "      <td>131.0</td>\n",
       "      <td>123.4</td>\n",
       "      <td>129.4</td>\n",
       "      <td>116.7</td>\n",
       "      <td>142.0</td>\n",
       "      <td>128.1</td>\n",
       "      <td>122.1</td>\n",
       "      <td>152.0</td>\n",
       "    </tr>\n",
       "    <tr>\n",
       "      <th>27</th>\n",
       "      <td>Coconut</td>\n",
       "      <td>142.7</td>\n",
       "      <td>91.4</td>\n",
       "      <td>91.4</td>\n",
       "      <td>97.5</td>\n",
       "      <td>97.7</td>\n",
       "      <td>123.5</td>\n",
       "      <td>121.4</td>\n",
       "      <td>121.4</td>\n",
       "      <td>120.9</td>\n",
       "      <td>120.9</td>\n",
       "      <td>115.5</td>\n",
       "      <td>75.3</td>\n",
       "      <td>75.3</td>\n",
       "      <td>80.7</td>\n",
       "      <td>80.8</td>\n",
       "    </tr>\n",
       "    <tr>\n",
       "      <th>28</th>\n",
       "      <td>Cotton seed</td>\n",
       "      <td>186.1</td>\n",
       "      <td>212.8</td>\n",
       "      <td>183.2</td>\n",
       "      <td>197.5</td>\n",
       "      <td>271.3</td>\n",
       "      <td>121.7</td>\n",
       "      <td>125.3</td>\n",
       "      <td>125.2</td>\n",
       "      <td>134.8</td>\n",
       "      <td>149.5</td>\n",
       "      <td>152.9</td>\n",
       "      <td>169.9</td>\n",
       "      <td>146.3</td>\n",
       "      <td>146.5</td>\n",
       "      <td>181.5</td>\n",
       "    </tr>\n",
       "    <tr>\n",
       "      <th>30</th>\n",
       "      <td>Cotton(lint)</td>\n",
       "      <td>213.1</td>\n",
       "      <td>243.8</td>\n",
       "      <td>209.8</td>\n",
       "      <td>226.2</td>\n",
       "      <td>310.8</td>\n",
       "      <td>121.7</td>\n",
       "      <td>125.3</td>\n",
       "      <td>125.2</td>\n",
       "      <td>134.8</td>\n",
       "      <td>149.5</td>\n",
       "      <td>175.2</td>\n",
       "      <td>194.6</td>\n",
       "      <td>167.6</td>\n",
       "      <td>167.8</td>\n",
       "      <td>207.9</td>\n",
       "    </tr>\n",
       "    <tr>\n",
       "      <th>31</th>\n",
       "      <td>Jute</td>\n",
       "      <td>220.3</td>\n",
       "      <td>218.3</td>\n",
       "      <td>205.8</td>\n",
       "      <td>239.8</td>\n",
       "      <td>213.8</td>\n",
       "      <td>103.6</td>\n",
       "      <td>106.4</td>\n",
       "      <td>102.6</td>\n",
       "      <td>106.0</td>\n",
       "      <td>101.1</td>\n",
       "      <td>212.7</td>\n",
       "      <td>205.2</td>\n",
       "      <td>200.5</td>\n",
       "      <td>226.3</td>\n",
       "      <td>211.5</td>\n",
       "    </tr>\n",
       "    <tr>\n",
       "      <th>32</th>\n",
       "      <td>Mesta</td>\n",
       "      <td>81.7</td>\n",
       "      <td>84.6</td>\n",
       "      <td>62.4</td>\n",
       "      <td>50.1</td>\n",
       "      <td>52.2</td>\n",
       "      <td>67.2</td>\n",
       "      <td>69.1</td>\n",
       "      <td>54.5</td>\n",
       "      <td>44.5</td>\n",
       "      <td>46.6</td>\n",
       "      <td>121.6</td>\n",
       "      <td>122.5</td>\n",
       "      <td>114.6</td>\n",
       "      <td>112.7</td>\n",
       "      <td>112.0</td>\n",
       "    </tr>\n",
       "    <tr>\n",
       "      <th>33</th>\n",
       "      <td>Jute &amp; Mesta</td>\n",
       "      <td>200.7</td>\n",
       "      <td>199.6</td>\n",
       "      <td>184.5</td>\n",
       "      <td>210.4</td>\n",
       "      <td>189.1</td>\n",
       "      <td>95.7</td>\n",
       "      <td>98.3</td>\n",
       "      <td>92.2</td>\n",
       "      <td>92.7</td>\n",
       "      <td>89.3</td>\n",
       "      <td>209.7</td>\n",
       "      <td>203.0</td>\n",
       "      <td>200.1</td>\n",
       "      <td>227.0</td>\n",
       "      <td>211.8</td>\n",
       "    </tr>\n",
       "    <tr>\n",
       "      <th>34</th>\n",
       "      <td>Sannhamp</td>\n",
       "      <td>97.9</td>\n",
       "      <td>93.0</td>\n",
       "      <td>87.8</td>\n",
       "      <td>69.0</td>\n",
       "      <td>109.9</td>\n",
       "      <td>54.2</td>\n",
       "      <td>51.4</td>\n",
       "      <td>45.0</td>\n",
       "      <td>45.0</td>\n",
       "      <td>47.6</td>\n",
       "      <td>180.7</td>\n",
       "      <td>182.7</td>\n",
       "      <td>195.2</td>\n",
       "      <td>179.4</td>\n",
       "      <td>230.9</td>\n",
       "    </tr>\n",
       "    <tr>\n",
       "      <th>35</th>\n",
       "      <td>Tea</td>\n",
       "      <td>132.2</td>\n",
       "      <td>132.8</td>\n",
       "      <td>132.0</td>\n",
       "      <td>132.0</td>\n",
       "      <td>132.0</td>\n",
       "      <td>135.3</td>\n",
       "      <td>137.8</td>\n",
       "      <td>137.8</td>\n",
       "      <td>137.8</td>\n",
       "      <td>137.8</td>\n",
       "      <td>97.7</td>\n",
       "      <td>96.3</td>\n",
       "      <td>95.8</td>\n",
       "      <td>95.8</td>\n",
       "      <td>95.8</td>\n",
       "    </tr>\n",
       "    <tr>\n",
       "      <th>36</th>\n",
       "      <td>Coffee</td>\n",
       "      <td>138.0</td>\n",
       "      <td>139.8</td>\n",
       "      <td>139.9</td>\n",
       "      <td>154.5</td>\n",
       "      <td>161.1</td>\n",
       "      <td>117.9</td>\n",
       "      <td>119.8</td>\n",
       "      <td>121.9</td>\n",
       "      <td>123.7</td>\n",
       "      <td>125.4</td>\n",
       "      <td>117.0</td>\n",
       "      <td>116.7</td>\n",
       "      <td>114.8</td>\n",
       "      <td>125.0</td>\n",
       "      <td>128.5</td>\n",
       "    </tr>\n",
       "    <tr>\n",
       "      <th>37</th>\n",
       "      <td>Rubber</td>\n",
       "      <td>215.5</td>\n",
       "      <td>208.6</td>\n",
       "      <td>216.5</td>\n",
       "      <td>210.1</td>\n",
       "      <td>210.1</td>\n",
       "      <td>98.6</td>\n",
       "      <td>138.1</td>\n",
       "      <td>143.8</td>\n",
       "      <td>149.2</td>\n",
       "      <td>149.2</td>\n",
       "      <td>218.5</td>\n",
       "      <td>151.1</td>\n",
       "      <td>151.9</td>\n",
       "      <td>140.9</td>\n",
       "      <td>140.9</td>\n",
       "    </tr>\n",
       "    <tr>\n",
       "      <th>39</th>\n",
       "      <td>Black pepper</td>\n",
       "      <td>134.2</td>\n",
       "      <td>91.5</td>\n",
       "      <td>92.2</td>\n",
       "      <td>99.2</td>\n",
       "      <td>101.1</td>\n",
       "      <td>130.8</td>\n",
       "      <td>104.7</td>\n",
       "      <td>126.9</td>\n",
       "      <td>104.2</td>\n",
       "      <td>97.8</td>\n",
       "      <td>102.6</td>\n",
       "      <td>87.4</td>\n",
       "      <td>72.7</td>\n",
       "      <td>95.2</td>\n",
       "      <td>103.4</td>\n",
       "    </tr>\n",
       "    <tr>\n",
       "      <th>40</th>\n",
       "      <td>Dry chilies</td>\n",
       "      <td>163.5</td>\n",
       "      <td>170.8</td>\n",
       "      <td>167.1</td>\n",
       "      <td>158.3</td>\n",
       "      <td>160.9</td>\n",
       "      <td>83.6</td>\n",
       "      <td>88.3</td>\n",
       "      <td>85.4</td>\n",
       "      <td>84.0</td>\n",
       "      <td>86.8</td>\n",
       "      <td>195.5</td>\n",
       "      <td>193.4</td>\n",
       "      <td>195.8</td>\n",
       "      <td>188.4</td>\n",
       "      <td>185.5</td>\n",
       "    </tr>\n",
       "    <tr>\n",
       "      <th>41</th>\n",
       "      <td>Dry ginger</td>\n",
       "      <td>206.3</td>\n",
       "      <td>200.6</td>\n",
       "      <td>199.3</td>\n",
       "      <td>202.0</td>\n",
       "      <td>368.1</td>\n",
       "      <td>176.2</td>\n",
       "      <td>172.9</td>\n",
       "      <td>180.4</td>\n",
       "      <td>179.4</td>\n",
       "      <td>247.4</td>\n",
       "      <td>117.1</td>\n",
       "      <td>116.0</td>\n",
       "      <td>110.5</td>\n",
       "      <td>112.6</td>\n",
       "      <td>148.8</td>\n",
       "    </tr>\n",
       "    <tr>\n",
       "      <th>42</th>\n",
       "      <td>Turmeric</td>\n",
       "      <td>158.6</td>\n",
       "      <td>160.1</td>\n",
       "      <td>165.5</td>\n",
       "      <td>159.8</td>\n",
       "      <td>200.2</td>\n",
       "      <td>134.3</td>\n",
       "      <td>131.9</td>\n",
       "      <td>136.2</td>\n",
       "      <td>136.2</td>\n",
       "      <td>146.7</td>\n",
       "      <td>118.1</td>\n",
       "      <td>121.4</td>\n",
       "      <td>121.5</td>\n",
       "      <td>117.4</td>\n",
       "      <td>136.4</td>\n",
       "    </tr>\n",
       "    <tr>\n",
       "      <th>43</th>\n",
       "      <td>Arecanut</td>\n",
       "      <td>182.5</td>\n",
       "      <td>184.3</td>\n",
       "      <td>185.5</td>\n",
       "      <td>184.3</td>\n",
       "      <td>184.3</td>\n",
       "      <td>167.7</td>\n",
       "      <td>169.5</td>\n",
       "      <td>169.7</td>\n",
       "      <td>175.4</td>\n",
       "      <td>175.4</td>\n",
       "      <td>108.8</td>\n",
       "      <td>108.7</td>\n",
       "      <td>109.3</td>\n",
       "      <td>105.1</td>\n",
       "      <td>105.1</td>\n",
       "    </tr>\n",
       "    <tr>\n",
       "      <th>44</th>\n",
       "      <td>Cardamom</td>\n",
       "      <td>159.2</td>\n",
       "      <td>135.8</td>\n",
       "      <td>157.1</td>\n",
       "      <td>159.2</td>\n",
       "      <td>162.2</td>\n",
       "      <td>93.4</td>\n",
       "      <td>77.8</td>\n",
       "      <td>87.5</td>\n",
       "      <td>85.8</td>\n",
       "      <td>82.7</td>\n",
       "      <td>170.5</td>\n",
       "      <td>174.7</td>\n",
       "      <td>179.6</td>\n",
       "      <td>185.6</td>\n",
       "      <td>196.1</td>\n",
       "    </tr>\n",
       "    <tr>\n",
       "      <th>45</th>\n",
       "      <td>Coriander</td>\n",
       "      <td>126.4</td>\n",
       "      <td>167.9</td>\n",
       "      <td>131.3</td>\n",
       "      <td>128.5</td>\n",
       "      <td>261.3</td>\n",
       "      <td>79.1</td>\n",
       "      <td>94.8</td>\n",
       "      <td>97.9</td>\n",
       "      <td>88.8</td>\n",
       "      <td>130.7</td>\n",
       "      <td>159.8</td>\n",
       "      <td>177.2</td>\n",
       "      <td>134.1</td>\n",
       "      <td>144.7</td>\n",
       "      <td>199.9</td>\n",
       "    </tr>\n",
       "    <tr>\n",
       "      <th>46</th>\n",
       "      <td>Garlic</td>\n",
       "      <td>226.2</td>\n",
       "      <td>311.3</td>\n",
       "      <td>242.1</td>\n",
       "      <td>243.0</td>\n",
       "      <td>308.2</td>\n",
       "      <td>187.6</td>\n",
       "      <td>241.6</td>\n",
       "      <td>195.8</td>\n",
       "      <td>194.4</td>\n",
       "      <td>236.8</td>\n",
       "      <td>120.6</td>\n",
       "      <td>128.8</td>\n",
       "      <td>123.6</td>\n",
       "      <td>125.0</td>\n",
       "      <td>130.1</td>\n",
       "    </tr>\n",
       "    <tr>\n",
       "      <th>48</th>\n",
       "      <td>Potato</td>\n",
       "      <td>135.7</td>\n",
       "      <td>174.2</td>\n",
       "      <td>210.5</td>\n",
       "      <td>223.8</td>\n",
       "      <td>259.1</td>\n",
       "      <td>142.2</td>\n",
       "      <td>148.8</td>\n",
       "      <td>175.1</td>\n",
       "      <td>175.8</td>\n",
       "      <td>178.4</td>\n",
       "      <td>95.5</td>\n",
       "      <td>117.1</td>\n",
       "      <td>120.2</td>\n",
       "      <td>127.4</td>\n",
       "      <td>145.2</td>\n",
       "    </tr>\n",
       "    <tr>\n",
       "      <th>49</th>\n",
       "      <td>Tapioca</td>\n",
       "      <td>146.4</td>\n",
       "      <td>151.5</td>\n",
       "      <td>167.1</td>\n",
       "      <td>140.0</td>\n",
       "      <td>140.3</td>\n",
       "      <td>105.1</td>\n",
       "      <td>103.9</td>\n",
       "      <td>114.8</td>\n",
       "      <td>95.1</td>\n",
       "      <td>90.6</td>\n",
       "      <td>139.2</td>\n",
       "      <td>145.7</td>\n",
       "      <td>145.6</td>\n",
       "      <td>147.1</td>\n",
       "      <td>154.8</td>\n",
       "    </tr>\n",
       "    <tr>\n",
       "      <th>50</th>\n",
       "      <td>Sweet potato</td>\n",
       "      <td>81.1</td>\n",
       "      <td>79.3</td>\n",
       "      <td>94.2</td>\n",
       "      <td>92.1</td>\n",
       "      <td>88.1</td>\n",
       "      <td>75.8</td>\n",
       "      <td>75.4</td>\n",
       "      <td>88.4</td>\n",
       "      <td>84.6</td>\n",
       "      <td>80.4</td>\n",
       "      <td>106.9</td>\n",
       "      <td>105.2</td>\n",
       "      <td>106.6</td>\n",
       "      <td>108.8</td>\n",
       "      <td>109.6</td>\n",
       "    </tr>\n",
       "    <tr>\n",
       "      <th>51</th>\n",
       "      <td>Onion</td>\n",
       "      <td>240.5</td>\n",
       "      <td>247.3</td>\n",
       "      <td>367.1</td>\n",
       "      <td>329.1</td>\n",
       "      <td>409.1</td>\n",
       "      <td>207.7</td>\n",
       "      <td>208.4</td>\n",
       "      <td>246.8</td>\n",
       "      <td>223.6</td>\n",
       "      <td>314.7</td>\n",
       "      <td>115.8</td>\n",
       "      <td>118.7</td>\n",
       "      <td>148.8</td>\n",
       "      <td>147.1</td>\n",
       "      <td>130.0</td>\n",
       "    </tr>\n",
       "    <tr>\n",
       "      <th>52</th>\n",
       "      <td>Banana</td>\n",
       "      <td>189.3</td>\n",
       "      <td>201.1</td>\n",
       "      <td>298.8</td>\n",
       "      <td>301.7</td>\n",
       "      <td>339.4</td>\n",
       "      <td>117.6</td>\n",
       "      <td>131.2</td>\n",
       "      <td>174.8</td>\n",
       "      <td>189.8</td>\n",
       "      <td>204.6</td>\n",
       "      <td>161.0</td>\n",
       "      <td>153.3</td>\n",
       "      <td>171.0</td>\n",
       "      <td>159.0</td>\n",
       "      <td>165.9</td>\n",
       "    </tr>\n",
       "    <tr>\n",
       "      <th>53</th>\n",
       "      <td>Sugarcane</td>\n",
       "      <td>149.8</td>\n",
       "      <td>146.7</td>\n",
       "      <td>120.1</td>\n",
       "      <td>123.2</td>\n",
       "      <td>144.3</td>\n",
       "      <td>142.6</td>\n",
       "      <td>140.0</td>\n",
       "      <td>122.2</td>\n",
       "      <td>115.6</td>\n",
       "      <td>135.2</td>\n",
       "      <td>105.1</td>\n",
       "      <td>104.8</td>\n",
       "      <td>98.3</td>\n",
       "      <td>106.6</td>\n",
       "      <td>106.7</td>\n",
       "    </tr>\n",
       "    <tr>\n",
       "      <th>54</th>\n",
       "      <td>Tobacco</td>\n",
       "      <td>88.1</td>\n",
       "      <td>83.6</td>\n",
       "      <td>96.4</td>\n",
       "      <td>105.3</td>\n",
       "      <td>140.9</td>\n",
       "      <td>88.8</td>\n",
       "      <td>83.9</td>\n",
       "      <td>94.2</td>\n",
       "      <td>107.1</td>\n",
       "      <td>118.8</td>\n",
       "      <td>99.1</td>\n",
       "      <td>88.3</td>\n",
       "      <td>102.4</td>\n",
       "      <td>109.6</td>\n",
       "      <td>118.6</td>\n",
       "    </tr>\n",
       "  </tbody>\n",
       "</table>\n",
       "</div>"
      ],
      "text/plain": [
       "                 Crop  Production 2006-07  Production 2007-08  \\\n",
       "1                Rice               200.8               207.9   \n",
       "2               Wheat               131.6               136.4   \n",
       "3               Jowar               124.3               137.8   \n",
       "4               Bajra               136.4               161.5   \n",
       "5               Maize               198.8               249.6   \n",
       "6                Ragi                56.1                83.6   \n",
       "7       Small millets                53.9                61.9   \n",
       "8              Barley                88.1                79.3   \n",
       "9      Coarse Cereals               138.5               166.4   \n",
       "10            Cereals               164.1               174.6   \n",
       "11               Gram               140.6               127.6   \n",
       "12              Arhar                97.0               128.9   \n",
       "13       Other Pulses               139.1               148.9   \n",
       "17          Groundnut               115.2               217.5   \n",
       "18            Sesamum                95.5               116.8   \n",
       "19  Rapeseed &Mustard               138.7               108.8   \n",
       "20            Linseed                55.9                54.4   \n",
       "21        Castor seed               124.7               172.3   \n",
       "22          Safflower                67.3                62.8   \n",
       "23         Niger seed                65.1                59.0   \n",
       "24          Sunflower               161.3               192.3   \n",
       "25           Soyabean               253.2               313.8   \n",
       "26      Nine Oilseeds               147.1               180.2   \n",
       "27            Coconut               142.7                91.4   \n",
       "28        Cotton seed               186.1               212.8   \n",
       "30       Cotton(lint)               213.1               243.8   \n",
       "31               Jute               220.3               218.3   \n",
       "32              Mesta                81.7                84.6   \n",
       "33       Jute & Mesta               200.7               199.6   \n",
       "34          Sannhamp                 97.9                93.0   \n",
       "35               Tea                132.2               132.8   \n",
       "36            Coffee                138.0               139.8   \n",
       "37            Rubber                215.5               208.6   \n",
       "39       Black pepper               134.2                91.5   \n",
       "40       Dry chilies                163.5               170.8   \n",
       "41        Dry ginger                206.3               200.6   \n",
       "42          Turmeric                158.6               160.1   \n",
       "43         Arecanut                 182.5               184.3   \n",
       "44          Cardamom                159.2               135.8   \n",
       "45          Coriander               126.4               167.9   \n",
       "46           Garlic                 226.2               311.3   \n",
       "48             Potato               135.7               174.2   \n",
       "49            Tapioca               146.4               151.5   \n",
       "50     Sweet potato                  81.1                79.3   \n",
       "51              Onion               240.5               247.3   \n",
       "52           Banana                 189.3               201.1   \n",
       "53          Sugarcane               149.8               146.7   \n",
       "54            Tobacco                88.1                83.6   \n",
       "\n",
       "    Production 2008-09  Production 2009-10  Production 2010-11  Area 2006-07  \\\n",
       "1                213.3               191.6               206.4         168.5   \n",
       "2                140.1               140.3               150.8         115.0   \n",
       "3                126.0               116.5               121.8         120.7   \n",
       "4                143.9               105.4               167.9          94.5   \n",
       "5                259.8               220.1               286.0         156.1   \n",
       "6                 79.3                73.4                85.2          60.2   \n",
       "7                 50.0                42.9                82.0          50.9   \n",
       "8                112.0                89.9               110.3          72.8   \n",
       "9                163.5               137.0               178.4         106.4   \n",
       "10               177.7               164.4               183.1         130.0   \n",
       "11               156.5               165.9               182.5         122.3   \n",
       "12                94.9               103.3               119.9          99.7   \n",
       "13               131.4               118.4               179.5         131.3   \n",
       "17               169.8               128.6               195.7         124.1   \n",
       "18                98.8                90.8               137.9          74.2   \n",
       "19               134.3               123.2               152.5         107.0   \n",
       "20                56.4                51.2                48.8          47.9   \n",
       "21               191.6               165.0               220.9          91.7   \n",
       "22                53.0                50.1                42.1          55.8   \n",
       "23                63.0                53.8                58.0          75.7   \n",
       "24               152.2               111.8                85.6         175.0   \n",
       "25               283.4               285.1               364.4         222.7   \n",
       "26               167.9               150.7               196.7         126.1   \n",
       "27                91.4                97.5                97.7         123.5   \n",
       "28               183.2               197.5               271.3         121.7   \n",
       "30               209.8               226.2               310.8         121.7   \n",
       "31               205.8               239.8               213.8         103.6   \n",
       "32                62.4                50.1                52.2          67.2   \n",
       "33               184.5               210.4               189.1          95.7   \n",
       "34                87.8                69.0               109.9          54.2   \n",
       "35               132.0               132.0               132.0         135.3   \n",
       "36               139.9               154.5               161.1         117.9   \n",
       "37               216.5               210.1               210.1          98.6   \n",
       "39                92.2                99.2               101.1         130.8   \n",
       "40               167.1               158.3               160.9          83.6   \n",
       "41               199.3               202.0               368.1         176.2   \n",
       "42               165.5               159.8               200.2         134.3   \n",
       "43               185.5               184.3               184.3         167.7   \n",
       "44               157.1               159.2               162.2          93.4   \n",
       "45               131.3               128.5               261.3          79.1   \n",
       "46               242.1               243.0               308.2         187.6   \n",
       "48               210.5               223.8               259.1         142.2   \n",
       "49               167.1               140.0               140.3         105.1   \n",
       "50                94.2                92.1                88.1          75.8   \n",
       "51               367.1               329.1               409.1         207.7   \n",
       "52               298.8               301.7               339.4         117.6   \n",
       "53               120.1               123.2               144.3         142.6   \n",
       "54                96.4               105.3               140.9          88.8   \n",
       "\n",
       "    Area 2007-08  Area 2008-09  Area 2009-10  Area 2010-11  Yield 2006-07  \\\n",
       "1          168.9         175.1         161.2         164.8          119.2   \n",
       "2          115.2         114.0         116.9         119.5          114.4   \n",
       "3          110.6         107.3         111.0         105.2          103.0   \n",
       "4           95.1          87.0          88.5          95.6          144.3   \n",
       "5          160.5         161.6         163.4         169.1          127.3   \n",
       "6           70.9          70.6          64.8          65.8           93.2   \n",
       "7           52.3          45.6          41.8          45.0          106.0   \n",
       "8           67.9          79.5          70.2          79.4          121.0   \n",
       "9          105.6         101.8         102.6         105.4          130.1   \n",
       "10         129.9         130.3         126.8         129.8          126.3   \n",
       "11         123.1         128.8         133.3         149.9          115.0   \n",
       "12         104.3          94.5          97.0         122.2           97.3   \n",
       "13         133.8         117.1         126.1         139.1          105.9   \n",
       "17         139.1         136.3         121.1         129.5           92.8   \n",
       "18          78.4          78.8          84.6          90.7          128.7   \n",
       "19          91.8          99.3          88.1         108.8          129.6   \n",
       "20          51.3          44.8          37.5          39.4          116.8   \n",
       "21         114.8         126.4         107.2         128.5          136.0   \n",
       "22          47.4          43.6          42.6          36.1          120.6   \n",
       "23          65.8          63.5          60.6          59.9           86.0   \n",
       "24         154.5         146.5         119.3          75.1           92.2   \n",
       "25         237.5         254.5         260.3         256.8          113.7   \n",
       "26         126.9         131.0         123.4         129.4          116.7   \n",
       "27         121.4         121.4         120.9         120.9          115.5   \n",
       "28         125.3         125.2         134.8         149.5          152.9   \n",
       "30         125.3         125.2         134.8         149.5          175.2   \n",
       "31         106.4         102.6         106.0         101.1          212.7   \n",
       "32          69.1          54.5          44.5          46.6          121.6   \n",
       "33          98.3          92.2          92.7          89.3          209.7   \n",
       "34          51.4          45.0          45.0          47.6          180.7   \n",
       "35         137.8         137.8         137.8         137.8           97.7   \n",
       "36         119.8         121.9         123.7         125.4          117.0   \n",
       "37         138.1         143.8         149.2         149.2          218.5   \n",
       "39         104.7         126.9         104.2          97.8          102.6   \n",
       "40          88.3          85.4          84.0          86.8          195.5   \n",
       "41         172.9         180.4         179.4         247.4          117.1   \n",
       "42         131.9         136.2         136.2         146.7          118.1   \n",
       "43         169.5         169.7         175.4         175.4          108.8   \n",
       "44          77.8          87.5          85.8          82.7          170.5   \n",
       "45          94.8          97.9          88.8         130.7          159.8   \n",
       "46         241.6         195.8         194.4         236.8          120.6   \n",
       "48         148.8         175.1         175.8         178.4           95.5   \n",
       "49         103.9         114.8          95.1          90.6          139.2   \n",
       "50          75.4          88.4          84.6          80.4          106.9   \n",
       "51         208.4         246.8         223.6         314.7          115.8   \n",
       "52         131.2         174.8         189.8         204.6          161.0   \n",
       "53         140.0         122.2         115.6         135.2          105.1   \n",
       "54          83.9          94.2         107.1         118.8           99.1   \n",
       "\n",
       "    Yield 2007-08  Yield 2008-09  Yield 2009-10  Yield 2010-11  \n",
       "1           123.1          121.8          118.9          125.2  \n",
       "2           118.4          122.8          120.0          126.3  \n",
       "3           124.6          117.4          105.0          115.8  \n",
       "4           169.7          165.4          119.0          175.8  \n",
       "5           155.5          160.7          134.7          169.1  \n",
       "6           117.9          112.2          113.2          129.6  \n",
       "7           118.3          109.7          102.7          182.4  \n",
       "8           116.9          141.0          127.9          138.9  \n",
       "9           157.6          160.7          133.5          169.2  \n",
       "10          134.4          136.4          129.7          141.1  \n",
       "11          103.7          121.7          124.5          121.7  \n",
       "12          123.6          100.4          106.5           98.1  \n",
       "13          111.3          112.2           93.9          129.0  \n",
       "17          156.3          124.6          106.2          151.2  \n",
       "18          149.1          125.4          107.4          151.9  \n",
       "19          118.5          135.2          139.9          140.2  \n",
       "20          106.1          126.0          136.5          123.9  \n",
       "21          150.1          151.5          153.9          171.9  \n",
       "22          132.6          121.5          117.5          116.7  \n",
       "23           89.6           99.2           88.8           96.9  \n",
       "24          124.5          103.9           93.7          114.0  \n",
       "25          132.1          111.4          109.5          141.9  \n",
       "26          142.0          128.1          122.1          152.0  \n",
       "27           75.3           75.3           80.7           80.8  \n",
       "28          169.9          146.3          146.5          181.5  \n",
       "30          194.6          167.6          167.8          207.9  \n",
       "31          205.2          200.5          226.3          211.5  \n",
       "32          122.5          114.6          112.7          112.0  \n",
       "33          203.0          200.1          227.0          211.8  \n",
       "34          182.7          195.2          179.4          230.9  \n",
       "35           96.3           95.8           95.8           95.8  \n",
       "36          116.7          114.8          125.0          128.5  \n",
       "37          151.1          151.9          140.9          140.9  \n",
       "39           87.4           72.7           95.2          103.4  \n",
       "40          193.4          195.8          188.4          185.5  \n",
       "41          116.0          110.5          112.6          148.8  \n",
       "42          121.4          121.5          117.4          136.4  \n",
       "43          108.7          109.3          105.1          105.1  \n",
       "44          174.7          179.6          185.6          196.1  \n",
       "45          177.2          134.1          144.7          199.9  \n",
       "46          128.8          123.6          125.0          130.1  \n",
       "48          117.1          120.2          127.4          145.2  \n",
       "49          145.7          145.6          147.1          154.8  \n",
       "50          105.2          106.6          108.8          109.6  \n",
       "51          118.7          148.8          147.1          130.0  \n",
       "52          153.3          171.0          159.0          165.9  \n",
       "53          104.8           98.3          106.6          106.7  \n",
       "54           88.3          102.4          109.6          118.6  "
      ]
     },
     "execution_count": 14,
     "metadata": {},
     "output_type": "execute_result"
    }
   ],
   "source": [
    "mask = df2['Crop'].str.contains('Total', case=False)\n",
    "\n",
    "# Filter out rows where \"Total\" is present in the \"Crops\" column\n",
    "df2 = df2[~mask]\n",
    "\n",
    "# Display the resulting DataFrame without the rows containing \"Total\"\n",
    "df2"
   ]
  },
  {
   "cell_type": "code",
   "execution_count": null,
   "metadata": {},
   "outputs": [
    {
     "data": {
      "text/html": [
       "<div>\n",
       "<style scoped>\n",
       "    .dataframe tbody tr th:only-of-type {\n",
       "        vertical-align: middle;\n",
       "    }\n",
       "\n",
       "    .dataframe tbody tr th {\n",
       "        vertical-align: top;\n",
       "    }\n",
       "\n",
       "    .dataframe thead th {\n",
       "        text-align: right;\n",
       "    }\n",
       "</style>\n",
       "<table border=\"1\" class=\"dataframe\">\n",
       "  <thead>\n",
       "    <tr style=\"text-align: right;\">\n",
       "      <th></th>\n",
       "      <th>Crop</th>\n",
       "      <th>Variety</th>\n",
       "      <th>Season/ duration in days</th>\n",
       "      <th>Recommended Zone</th>\n",
       "      <th>Unnamed: 4</th>\n",
       "    </tr>\n",
       "  </thead>\n",
       "  <tbody>\n",
       "    <tr>\n",
       "      <th>60</th>\n",
       "      <td>Horse Gram</td>\n",
       "      <td>CRIDALATHA (CRHG-4)</td>\n",
       "      <td>110</td>\n",
       "      <td>South India under rainfed conditions.</td>\n",
       "      <td>NaN</td>\n",
       "    </tr>\n",
       "    <tr>\n",
       "      <th>67</th>\n",
       "      <td>Oat</td>\n",
       "      <td>JO 03-91 (SC)</td>\n",
       "      <td>NaN</td>\n",
       "      <td>Madhya Pradesh, Chhattisgarh, Bundelkhand regi...</td>\n",
       "      <td>NaN</td>\n",
       "    </tr>\n",
       "    <tr>\n",
       "      <th>28</th>\n",
       "      <td>Pearl Millet</td>\n",
       "      <td>86M64 (MSH 203) (Hybrid)</td>\n",
       "      <td>80-85</td>\n",
       "      <td>Rajasthan, Gujarat, Maharashtra and Tamil Nadu...</td>\n",
       "      <td>NaN</td>\n",
       "    </tr>\n",
       "    <tr>\n",
       "      <th>18</th>\n",
       "      <td>Barley</td>\n",
       "      <td>DWRB 73</td>\n",
       "      <td>NaN</td>\n",
       "      <td>Punjab, Haryana, Western Uttar Pradesh, Delhi ...</td>\n",
       "      <td>NaN</td>\n",
       "    </tr>\n",
       "    <tr>\n",
       "      <th>35</th>\n",
       "      <td>Indian Mustard</td>\n",
       "      <td>Pusa Mustard 26 (NPJ-113)</td>\n",
       "      <td>NaN</td>\n",
       "      <td>Plains of Jammu &amp; Kashmir, Punjab, Haryana, Ra...</td>\n",
       "      <td>NaN</td>\n",
       "    </tr>\n",
       "    <tr>\n",
       "      <th>17</th>\n",
       "      <td>Barley</td>\n",
       "      <td>BH-902</td>\n",
       "      <td>130</td>\n",
       "      <td>Punjab, Haryana, Western Uttar Pradesh (Exclud...</td>\n",
       "      <td>NaN</td>\n",
       "    </tr>\n",
       "    <tr>\n",
       "      <th>65</th>\n",
       "      <td>Oat</td>\n",
       "      <td>Narendra Jayee -1 (NDO - 1)</td>\n",
       "      <td>120</td>\n",
       "      <td>Oat growing areas of India for single cut syst...</td>\n",
       "      <td>NaN</td>\n",
       "    </tr>\n",
       "    <tr>\n",
       "      <th>74</th>\n",
       "      <td>Cotton</td>\n",
       "      <td>CNH012</td>\n",
       "      <td>165</td>\n",
       "      <td>Gujarat, Maharashtra and Madhya Pradesh.</td>\n",
       "      <td>NaN</td>\n",
       "    </tr>\n",
       "    <tr>\n",
       "      <th>69</th>\n",
       "      <td>Cowpea (Fodder)</td>\n",
       "      <td>UPC 628</td>\n",
       "      <td>145-150</td>\n",
       "      <td>States of Uttarakhand, HP, J &amp; K, Punjab, Hary...</td>\n",
       "      <td>NaN</td>\n",
       "    </tr>\n",
       "    <tr>\n",
       "      <th>68</th>\n",
       "      <td>Tall Fescue Grass</td>\n",
       "      <td>EC 178182</td>\n",
       "      <td>NaN</td>\n",
       "      <td>The temperate and sub-temperate grasslands and...</td>\n",
       "      <td>NaN</td>\n",
       "    </tr>\n",
       "  </tbody>\n",
       "</table>\n",
       "</div>"
      ],
      "text/plain": [
       "                 Crop                      Variety Season/ duration in days  \\\n",
       "60         Horse Gram          CRIDALATHA (CRHG-4)                      110   \n",
       "67                Oat                JO 03-91 (SC)                      NaN   \n",
       "28       Pearl Millet     86M64 (MSH 203) (Hybrid)                    80-85   \n",
       "18             Barley                      DWRB 73                      NaN   \n",
       "35     Indian Mustard    Pusa Mustard 26 (NPJ-113)                      NaN   \n",
       "17             Barley                       BH-902                      130   \n",
       "65                Oat  Narendra Jayee -1 (NDO - 1)                      120   \n",
       "74             Cotton                       CNH012                      165   \n",
       "69    Cowpea (Fodder)                      UPC 628                  145-150   \n",
       "68  Tall Fescue Grass                    EC 178182                      NaN   \n",
       "\n",
       "                                     Recommended Zone  Unnamed: 4  \n",
       "60              South India under rainfed conditions.         NaN  \n",
       "67  Madhya Pradesh, Chhattisgarh, Bundelkhand regi...         NaN  \n",
       "28  Rajasthan, Gujarat, Maharashtra and Tamil Nadu...         NaN  \n",
       "18  Punjab, Haryana, Western Uttar Pradesh, Delhi ...         NaN  \n",
       "35  Plains of Jammu & Kashmir, Punjab, Haryana, Ra...         NaN  \n",
       "17  Punjab, Haryana, Western Uttar Pradesh (Exclud...         NaN  \n",
       "65  Oat growing areas of India for single cut syst...         NaN  \n",
       "74           Gujarat, Maharashtra and Madhya Pradesh.         NaN  \n",
       "69  States of Uttarakhand, HP, J & K, Punjab, Hary...         NaN  \n",
       "68  The temperate and sub-temperate grasslands and...         NaN  "
      ]
     },
     "execution_count": 15,
     "metadata": {},
     "output_type": "execute_result"
    }
   ],
   "source": [
    "df3.sample(10)"
   ]
  },
  {
   "cell_type": "code",
   "execution_count": null,
   "metadata": {},
   "outputs": [
    {
     "data": {
      "text/html": [
       "<div>\n",
       "<style scoped>\n",
       "    .dataframe tbody tr th:only-of-type {\n",
       "        vertical-align: middle;\n",
       "    }\n",
       "\n",
       "    .dataframe tbody tr th {\n",
       "        vertical-align: top;\n",
       "    }\n",
       "\n",
       "    .dataframe thead th {\n",
       "        text-align: right;\n",
       "    }\n",
       "</style>\n",
       "<table border=\"1\" class=\"dataframe\">\n",
       "  <thead>\n",
       "    <tr style=\"text-align: right;\">\n",
       "      <th></th>\n",
       "      <th>Crop</th>\n",
       "      <th>2004-05</th>\n",
       "      <th>2005-06</th>\n",
       "      <th>2006-07</th>\n",
       "      <th>2007-08</th>\n",
       "      <th>2008-09</th>\n",
       "      <th>2009-10</th>\n",
       "      <th>2010-11</th>\n",
       "      <th>2011-12</th>\n",
       "    </tr>\n",
       "  </thead>\n",
       "  <tbody>\n",
       "    <tr>\n",
       "      <th>0</th>\n",
       "      <td>Rice</td>\n",
       "      <td>100.0</td>\n",
       "      <td>101.0</td>\n",
       "      <td>99.0</td>\n",
       "      <td>105.0</td>\n",
       "      <td>112.0</td>\n",
       "      <td>121.0</td>\n",
       "      <td>117.0</td>\n",
       "      <td>110.0</td>\n",
       "    </tr>\n",
       "    <tr>\n",
       "      <th>1</th>\n",
       "      <td>Wheat</td>\n",
       "      <td>100.0</td>\n",
       "      <td>101.0</td>\n",
       "      <td>112.0</td>\n",
       "      <td>115.0</td>\n",
       "      <td>117.0</td>\n",
       "      <td>127.0</td>\n",
       "      <td>120.0</td>\n",
       "      <td>108.0</td>\n",
       "    </tr>\n",
       "    <tr>\n",
       "      <th>2</th>\n",
       "      <td>Coarse Cereals</td>\n",
       "      <td>100.0</td>\n",
       "      <td>107.0</td>\n",
       "      <td>110.0</td>\n",
       "      <td>115.0</td>\n",
       "      <td>113.0</td>\n",
       "      <td>123.0</td>\n",
       "      <td>122.0</td>\n",
       "      <td>136.0</td>\n",
       "    </tr>\n",
       "    <tr>\n",
       "      <th>3</th>\n",
       "      <td>Pulses</td>\n",
       "      <td>100.0</td>\n",
       "      <td>108.0</td>\n",
       "      <td>134.0</td>\n",
       "      <td>124.0</td>\n",
       "      <td>124.0</td>\n",
       "      <td>146.0</td>\n",
       "      <td>137.0</td>\n",
       "      <td>129.0</td>\n",
       "    </tr>\n",
       "    <tr>\n",
       "      <th>4</th>\n",
       "      <td>Vegetables</td>\n",
       "      <td>100.0</td>\n",
       "      <td>109.0</td>\n",
       "      <td>103.0</td>\n",
       "      <td>118.0</td>\n",
       "      <td>113.0</td>\n",
       "      <td>124.0</td>\n",
       "      <td>128.0</td>\n",
       "      <td>115.0</td>\n",
       "    </tr>\n",
       "    <tr>\n",
       "      <th>5</th>\n",
       "      <td>Fruits</td>\n",
       "      <td>100.0</td>\n",
       "      <td>99.0</td>\n",
       "      <td>99.0</td>\n",
       "      <td>98.0</td>\n",
       "      <td>102.0</td>\n",
       "      <td>104.0</td>\n",
       "      <td>114.0</td>\n",
       "      <td>119.0</td>\n",
       "    </tr>\n",
       "    <tr>\n",
       "      <th>6</th>\n",
       "      <td>Milk</td>\n",
       "      <td>100.0</td>\n",
       "      <td>97.0</td>\n",
       "      <td>98.0</td>\n",
       "      <td>98.0</td>\n",
       "      <td>98.0</td>\n",
       "      <td>112.0</td>\n",
       "      <td>123.0</td>\n",
       "      <td>124.0</td>\n",
       "    </tr>\n",
       "    <tr>\n",
       "      <th>7</th>\n",
       "      <td>Eggs, Fish and Meat</td>\n",
       "      <td>100.0</td>\n",
       "      <td>102.0</td>\n",
       "      <td>101.0</td>\n",
       "      <td>100.0</td>\n",
       "      <td>99.0</td>\n",
       "      <td>116.0</td>\n",
       "      <td>133.0</td>\n",
       "      <td>137.0</td>\n",
       "    </tr>\n",
       "    <tr>\n",
       "      <th>8</th>\n",
       "      <td>Oilseeds</td>\n",
       "      <td>100.0</td>\n",
       "      <td>86.0</td>\n",
       "      <td>85.0</td>\n",
       "      <td>97.0</td>\n",
       "      <td>104.0</td>\n",
       "      <td>103.0</td>\n",
       "      <td>99.0</td>\n",
       "      <td>102.0</td>\n",
       "    </tr>\n",
       "    <tr>\n",
       "      <th>9</th>\n",
       "      <td>Sugarcane</td>\n",
       "      <td>100.0</td>\n",
       "      <td>96.0</td>\n",
       "      <td>91.0</td>\n",
       "      <td>87.0</td>\n",
       "      <td>80.0</td>\n",
       "      <td>81.0</td>\n",
       "      <td>109.0</td>\n",
       "      <td>107.0</td>\n",
       "    </tr>\n",
       "    <tr>\n",
       "      <th>10</th>\n",
       "      <td>Fibers</td>\n",
       "      <td>100.0</td>\n",
       "      <td>92.0</td>\n",
       "      <td>91.0</td>\n",
       "      <td>96.0</td>\n",
       "      <td>109.0</td>\n",
       "      <td>107.0</td>\n",
       "      <td>138.0</td>\n",
       "      <td>140.0</td>\n",
       "    </tr>\n",
       "    <tr>\n",
       "      <th>11</th>\n",
       "      <td>All Agriculture</td>\n",
       "      <td>100.0</td>\n",
       "      <td>99.0</td>\n",
       "      <td>101.0</td>\n",
       "      <td>104.0</td>\n",
       "      <td>106.0</td>\n",
       "      <td>115.0</td>\n",
       "      <td>123.0</td>\n",
       "      <td>122.0</td>\n",
       "    </tr>\n",
       "    <tr>\n",
       "      <th>12</th>\n",
       "      <td>NaN</td>\n",
       "      <td>NaN</td>\n",
       "      <td>NaN</td>\n",
       "      <td>NaN</td>\n",
       "      <td>NaN</td>\n",
       "      <td>NaN</td>\n",
       "      <td>NaN</td>\n",
       "      <td>NaN</td>\n",
       "      <td>NaN</td>\n",
       "    </tr>\n",
       "  </tbody>\n",
       "</table>\n",
       "</div>"
      ],
      "text/plain": [
       "                   Crop  2004-05  2005-06  2006-07  2007-08  2008-09  2009-10  \\\n",
       "0                  Rice    100.0    101.0     99.0    105.0    112.0    121.0   \n",
       "1                 Wheat    100.0    101.0    112.0    115.0    117.0    127.0   \n",
       "2        Coarse Cereals    100.0    107.0    110.0    115.0    113.0    123.0   \n",
       "3                Pulses    100.0    108.0    134.0    124.0    124.0    146.0   \n",
       "4           Vegetables     100.0    109.0    103.0    118.0    113.0    124.0   \n",
       "5                Fruits    100.0     99.0     99.0     98.0    102.0    104.0   \n",
       "6                  Milk    100.0     97.0     98.0     98.0     98.0    112.0   \n",
       "7   Eggs, Fish and Meat    100.0    102.0    101.0    100.0     99.0    116.0   \n",
       "8              Oilseeds    100.0     86.0     85.0     97.0    104.0    103.0   \n",
       "9            Sugarcane     100.0     96.0     91.0     87.0     80.0     81.0   \n",
       "10               Fibers    100.0     92.0     91.0     96.0    109.0    107.0   \n",
       "11      All Agriculture    100.0     99.0    101.0    104.0    106.0    115.0   \n",
       "12                  NaN      NaN      NaN      NaN      NaN      NaN      NaN   \n",
       "\n",
       "    2010-11  2011-12  \n",
       "0     117.0    110.0  \n",
       "1     120.0    108.0  \n",
       "2     122.0    136.0  \n",
       "3     137.0    129.0  \n",
       "4     128.0    115.0  \n",
       "5     114.0    119.0  \n",
       "6     123.0    124.0  \n",
       "7     133.0    137.0  \n",
       "8      99.0    102.0  \n",
       "9     109.0    107.0  \n",
       "10    138.0    140.0  \n",
       "11    123.0    122.0  \n",
       "12      NaN      NaN  "
      ]
     },
     "execution_count": 16,
     "metadata": {},
     "output_type": "execute_result"
    }
   ],
   "source": [
    "df4.head(16)"
   ]
  },
  {
   "cell_type": "code",
   "execution_count": null,
   "metadata": {},
   "outputs": [
    {
     "data": {
      "text/html": [
       "<div>\n",
       "<style scoped>\n",
       "    .dataframe tbody tr th:only-of-type {\n",
       "        vertical-align: middle;\n",
       "    }\n",
       "\n",
       "    .dataframe tbody tr th {\n",
       "        vertical-align: top;\n",
       "    }\n",
       "\n",
       "    .dataframe thead th {\n",
       "        text-align: right;\n",
       "    }\n",
       "</style>\n",
       "<table border=\"1\" class=\"dataframe\">\n",
       "  <thead>\n",
       "    <tr style=\"text-align: right;\">\n",
       "      <th></th>\n",
       "      <th>Particulars</th>\n",
       "      <th>Frequency</th>\n",
       "      <th>Unit</th>\n",
       "      <th>3-1993</th>\n",
       "      <th>3-1994</th>\n",
       "      <th>3-1995</th>\n",
       "      <th>3-1996</th>\n",
       "      <th>3-1997</th>\n",
       "      <th>3-1998</th>\n",
       "      <th>3-1999</th>\n",
       "      <th>...</th>\n",
       "      <th>3-2005</th>\n",
       "      <th>3-2006</th>\n",
       "      <th>3-2007</th>\n",
       "      <th>3-2008</th>\n",
       "      <th>3-2009</th>\n",
       "      <th>3-2010</th>\n",
       "      <th>3-2011</th>\n",
       "      <th>3-2012</th>\n",
       "      <th>3-2013</th>\n",
       "      <th>3-2014</th>\n",
       "    </tr>\n",
       "  </thead>\n",
       "  <tbody>\n",
       "    <tr>\n",
       "      <th>98</th>\n",
       "      <td>Agriculture Production Foodgrains Area 5 Yr Av...</td>\n",
       "      <td>Annual, Ending mar Of Each Year</td>\n",
       "      <td>ha mn</td>\n",
       "      <td>NaN</td>\n",
       "      <td>NaN</td>\n",
       "      <td>NaN</td>\n",
       "      <td>NaN</td>\n",
       "      <td>NaN</td>\n",
       "      <td>NaN</td>\n",
       "      <td>NaN</td>\n",
       "      <td>...</td>\n",
       "      <td>6.00000</td>\n",
       "      <td>6.3700</td>\n",
       "      <td>6.5800</td>\n",
       "      <td>6.8000</td>\n",
       "      <td>6.8700</td>\n",
       "      <td>6.960000</td>\n",
       "      <td>7.060000</td>\n",
       "      <td>7.150000</td>\n",
       "      <td>NaN</td>\n",
       "      <td>NaN</td>\n",
       "    </tr>\n",
       "    <tr>\n",
       "      <th>94</th>\n",
       "      <td>Agriculture Production Foodgrains Area 5 Yr Av...</td>\n",
       "      <td>Annual, Ending mar Of Each Year</td>\n",
       "      <td>ha mn</td>\n",
       "      <td>NaN</td>\n",
       "      <td>NaN</td>\n",
       "      <td>NaN</td>\n",
       "      <td>NaN</td>\n",
       "      <td>NaN</td>\n",
       "      <td>NaN</td>\n",
       "      <td>NaN</td>\n",
       "      <td>...</td>\n",
       "      <td>4.60000</td>\n",
       "      <td>4.2100</td>\n",
       "      <td>4.0600</td>\n",
       "      <td>3.9100</td>\n",
       "      <td>3.6000</td>\n",
       "      <td>3.430000</td>\n",
       "      <td>3.290000</td>\n",
       "      <td>3.060000</td>\n",
       "      <td>NaN</td>\n",
       "      <td>NaN</td>\n",
       "    </tr>\n",
       "    <tr>\n",
       "      <th>379</th>\n",
       "      <td>Agricultural Production Foodgrains Coarse Cere...</td>\n",
       "      <td>Annual, Ending mar Of Each Year</td>\n",
       "      <td>ha mn</td>\n",
       "      <td>NaN</td>\n",
       "      <td>NaN</td>\n",
       "      <td>NaN</td>\n",
       "      <td>NaN</td>\n",
       "      <td>NaN</td>\n",
       "      <td>NaN</td>\n",
       "      <td>NaN</td>\n",
       "      <td>...</td>\n",
       "      <td>0.29000</td>\n",
       "      <td>0.2700</td>\n",
       "      <td>0.2600</td>\n",
       "      <td>0.2600</td>\n",
       "      <td>0.2700</td>\n",
       "      <td>0.260000</td>\n",
       "      <td>0.260000</td>\n",
       "      <td>0.250000</td>\n",
       "      <td>0.25</td>\n",
       "      <td>NaN</td>\n",
       "    </tr>\n",
       "    <tr>\n",
       "      <th>413</th>\n",
       "      <td>Agricultural Production Foodgrains Coarse Cere...</td>\n",
       "      <td>Annual, Ending mar Of Each Year</td>\n",
       "      <td>kg/ha</td>\n",
       "      <td>NaN</td>\n",
       "      <td>NaN</td>\n",
       "      <td>NaN</td>\n",
       "      <td>NaN</td>\n",
       "      <td>NaN</td>\n",
       "      <td>NaN</td>\n",
       "      <td>NaN</td>\n",
       "      <td>...</td>\n",
       "      <td>535.00000</td>\n",
       "      <td>460.0000</td>\n",
       "      <td>537.0000</td>\n",
       "      <td>712.0000</td>\n",
       "      <td>657.0000</td>\n",
       "      <td>669.000000</td>\n",
       "      <td>821.000000</td>\n",
       "      <td>778.000000</td>\n",
       "      <td>923.00</td>\n",
       "      <td>NaN</td>\n",
       "    </tr>\n",
       "    <tr>\n",
       "      <th>327</th>\n",
       "      <td>Agricultural Production Foodgrains Wheat Volum...</td>\n",
       "      <td>Annual, Ending mar Of Each Year</td>\n",
       "      <td>Ton th</td>\n",
       "      <td>NaN</td>\n",
       "      <td>NaN</td>\n",
       "      <td>NaN</td>\n",
       "      <td>NaN</td>\n",
       "      <td>NaN</td>\n",
       "      <td>NaN</td>\n",
       "      <td>NaN</td>\n",
       "      <td>...</td>\n",
       "      <td>179.00000</td>\n",
       "      <td>217.0000</td>\n",
       "      <td>205.0000</td>\n",
       "      <td>261.0000</td>\n",
       "      <td>247.0000</td>\n",
       "      <td>251.000000</td>\n",
       "      <td>279.000000</td>\n",
       "      <td>190.000000</td>\n",
       "      <td>170.00</td>\n",
       "      <td>NaN</td>\n",
       "    </tr>\n",
       "    <tr>\n",
       "      <th>261</th>\n",
       "      <td>Agricultural Production Foodgrains Rice Volume...</td>\n",
       "      <td>Annual, Ending mar Of Each Year</td>\n",
       "      <td>Ton th</td>\n",
       "      <td>NaN</td>\n",
       "      <td>NaN</td>\n",
       "      <td>NaN</td>\n",
       "      <td>NaN</td>\n",
       "      <td>NaN</td>\n",
       "      <td>NaN</td>\n",
       "      <td>NaN</td>\n",
       "      <td>...</td>\n",
       "      <td>122.00000</td>\n",
       "      <td>112.1000</td>\n",
       "      <td>123.5000</td>\n",
       "      <td>121.5000</td>\n",
       "      <td>118.3000</td>\n",
       "      <td>105.900000</td>\n",
       "      <td>129.000000</td>\n",
       "      <td>131.600000</td>\n",
       "      <td>134.30</td>\n",
       "      <td>NaN</td>\n",
       "    </tr>\n",
       "    <tr>\n",
       "      <th>215</th>\n",
       "      <td>Agricultural Production Foodgrains Volume Others</td>\n",
       "      <td>Annual, Ending mar Of Each Year</td>\n",
       "      <td>Ton mn</td>\n",
       "      <td>NaN</td>\n",
       "      <td>NaN</td>\n",
       "      <td>NaN</td>\n",
       "      <td>NaN</td>\n",
       "      <td>NaN</td>\n",
       "      <td>NaN</td>\n",
       "      <td>NaN</td>\n",
       "      <td>...</td>\n",
       "      <td>6.25000</td>\n",
       "      <td>5.9400</td>\n",
       "      <td>NaN</td>\n",
       "      <td>NaN</td>\n",
       "      <td>6.3125</td>\n",
       "      <td>5.351800</td>\n",
       "      <td>6.750000</td>\n",
       "      <td>6.770000</td>\n",
       "      <td>6.64</td>\n",
       "      <td>NaN</td>\n",
       "    </tr>\n",
       "    <tr>\n",
       "      <th>410</th>\n",
       "      <td>Agricultural Production Foodgrains Coarse Cere...</td>\n",
       "      <td>Annual, Ending mar Of Each Year</td>\n",
       "      <td>Ton th</td>\n",
       "      <td>NaN</td>\n",
       "      <td>NaN</td>\n",
       "      <td>NaN</td>\n",
       "      <td>NaN</td>\n",
       "      <td>NaN</td>\n",
       "      <td>NaN</td>\n",
       "      <td>NaN</td>\n",
       "      <td>...</td>\n",
       "      <td>162.00000</td>\n",
       "      <td>150.3000</td>\n",
       "      <td>274.7000</td>\n",
       "      <td>265.8000</td>\n",
       "      <td>365.4000</td>\n",
       "      <td>404.000000</td>\n",
       "      <td>407.900000</td>\n",
       "      <td>380.000000</td>\n",
       "      <td>630.00</td>\n",
       "      <td>NaN</td>\n",
       "    </tr>\n",
       "    <tr>\n",
       "      <th>142</th>\n",
       "      <td>Agriculture Production Foodgrains Production O...</td>\n",
       "      <td>Annual, Ending mar Of Each Year</td>\n",
       "      <td>Ton mn</td>\n",
       "      <td>NaN</td>\n",
       "      <td>NaN</td>\n",
       "      <td>NaN</td>\n",
       "      <td>NaN</td>\n",
       "      <td>NaN</td>\n",
       "      <td>NaN</td>\n",
       "      <td>NaN</td>\n",
       "      <td>...</td>\n",
       "      <td>10.70000</td>\n",
       "      <td>13.4600</td>\n",
       "      <td>15.9800</td>\n",
       "      <td>19.4300</td>\n",
       "      <td>21.1400</td>\n",
       "      <td>22.660000</td>\n",
       "      <td>25.560000</td>\n",
       "      <td>28.080000</td>\n",
       "      <td>NaN</td>\n",
       "      <td>NaN</td>\n",
       "    </tr>\n",
       "    <tr>\n",
       "      <th>20</th>\n",
       "      <td>Agricultural Production Foodgrains Cereals</td>\n",
       "      <td>Annual, Ending mar Of Each Year</td>\n",
       "      <td>Ton mn</td>\n",
       "      <td>NaN</td>\n",
       "      <td>NaN</td>\n",
       "      <td>NaN</td>\n",
       "      <td>NaN</td>\n",
       "      <td>NaN</td>\n",
       "      <td>NaN</td>\n",
       "      <td>NaN</td>\n",
       "      <td>...</td>\n",
       "      <td>185.23332</td>\n",
       "      <td>195.2172</td>\n",
       "      <td>203.0846</td>\n",
       "      <td>216.0135</td>\n",
       "      <td>219.8998</td>\n",
       "      <td>203.445583</td>\n",
       "      <td>226.250864</td>\n",
       "      <td>242.197129</td>\n",
       "      <td>238.79</td>\n",
       "      <td>244.8127</td>\n",
       "    </tr>\n",
       "  </tbody>\n",
       "</table>\n",
       "<p>10 rows × 25 columns</p>\n",
       "</div>"
      ],
      "text/plain": [
       "                                           Particulars  \\\n",
       "98   Agriculture Production Foodgrains Area 5 Yr Av...   \n",
       "94   Agriculture Production Foodgrains Area 5 Yr Av...   \n",
       "379  Agricultural Production Foodgrains Coarse Cere...   \n",
       "413  Agricultural Production Foodgrains Coarse Cere...   \n",
       "327  Agricultural Production Foodgrains Wheat Volum...   \n",
       "261  Agricultural Production Foodgrains Rice Volume...   \n",
       "215   Agricultural Production Foodgrains Volume Others   \n",
       "410  Agricultural Production Foodgrains Coarse Cere...   \n",
       "142  Agriculture Production Foodgrains Production O...   \n",
       "20          Agricultural Production Foodgrains Cereals   \n",
       "\n",
       "                           Frequency    Unit   3-1993   3-1994   3-1995  \\\n",
       "98   Annual, Ending mar Of Each Year   ha mn      NaN      NaN      NaN   \n",
       "94   Annual, Ending mar Of Each Year   ha mn      NaN      NaN      NaN   \n",
       "379  Annual, Ending mar Of Each Year   ha mn      NaN      NaN      NaN   \n",
       "413  Annual, Ending mar Of Each Year   kg/ha      NaN      NaN      NaN   \n",
       "327  Annual, Ending mar Of Each Year  Ton th      NaN      NaN      NaN   \n",
       "261  Annual, Ending mar Of Each Year  Ton th      NaN      NaN      NaN   \n",
       "215  Annual, Ending mar Of Each Year  Ton mn      NaN      NaN      NaN   \n",
       "410  Annual, Ending mar Of Each Year  Ton th      NaN      NaN      NaN   \n",
       "142  Annual, Ending mar Of Each Year  Ton mn      NaN      NaN      NaN   \n",
       "20   Annual, Ending mar Of Each Year  Ton mn      NaN      NaN      NaN   \n",
       "\n",
       "      3-1996   3-1997   3-1998   3-1999  ...     3-2005    3-2006    3-2007  \\\n",
       "98       NaN      NaN      NaN      NaN  ...    6.00000    6.3700    6.5800   \n",
       "94       NaN      NaN      NaN      NaN  ...    4.60000    4.2100    4.0600   \n",
       "379      NaN      NaN      NaN      NaN  ...    0.29000    0.2700    0.2600   \n",
       "413      NaN      NaN      NaN      NaN  ...  535.00000  460.0000  537.0000   \n",
       "327      NaN      NaN      NaN      NaN  ...  179.00000  217.0000  205.0000   \n",
       "261      NaN      NaN      NaN      NaN  ...  122.00000  112.1000  123.5000   \n",
       "215      NaN      NaN      NaN      NaN  ...    6.25000    5.9400       NaN   \n",
       "410      NaN      NaN      NaN      NaN  ...  162.00000  150.3000  274.7000   \n",
       "142      NaN      NaN      NaN      NaN  ...   10.70000   13.4600   15.9800   \n",
       "20       NaN      NaN      NaN      NaN  ...  185.23332  195.2172  203.0846   \n",
       "\n",
       "       3-2008    3-2009      3-2010      3-2011      3-2012   3-2013    3-2014  \n",
       "98     6.8000    6.8700    6.960000    7.060000    7.150000      NaN       NaN  \n",
       "94     3.9100    3.6000    3.430000    3.290000    3.060000      NaN       NaN  \n",
       "379    0.2600    0.2700    0.260000    0.260000    0.250000     0.25       NaN  \n",
       "413  712.0000  657.0000  669.000000  821.000000  778.000000   923.00       NaN  \n",
       "327  261.0000  247.0000  251.000000  279.000000  190.000000   170.00       NaN  \n",
       "261  121.5000  118.3000  105.900000  129.000000  131.600000   134.30       NaN  \n",
       "215       NaN    6.3125    5.351800    6.750000    6.770000     6.64       NaN  \n",
       "410  265.8000  365.4000  404.000000  407.900000  380.000000   630.00       NaN  \n",
       "142   19.4300   21.1400   22.660000   25.560000   28.080000      NaN       NaN  \n",
       "20   216.0135  219.8998  203.445583  226.250864  242.197129   238.79  244.8127  \n",
       "\n",
       "[10 rows x 25 columns]"
      ]
     },
     "execution_count": 17,
     "metadata": {},
     "output_type": "execute_result"
    }
   ],
   "source": [
    "df5.sample(10)"
   ]
  },
  {
   "cell_type": "code",
   "execution_count": null,
   "metadata": {},
   "outputs": [
    {
     "data": {
      "text/plain": [
       "Crop                                     0\n",
       "State                                    0\n",
       "Cost of Cultivation (`/Hectare) A2+FL    0\n",
       "Cost of Cultivation (`/Hectare) C2       0\n",
       "Cost of Production (`/Quintal) C2        0\n",
       "Yield (Quintal/ Hectare)                 0\n",
       "dtype: int64"
      ]
     },
     "execution_count": 18,
     "metadata": {},
     "output_type": "execute_result"
    }
   ],
   "source": [
    "df1.isna().sum()"
   ]
  },
  {
   "cell_type": "code",
   "execution_count": null,
   "metadata": {},
   "outputs": [
    {
     "data": {
      "text/plain": [
       "Crop                  0\n",
       "Production 2006-07    0\n",
       "Production 2007-08    0\n",
       "Production 2008-09    0\n",
       "Production 2009-10    0\n",
       "Production 2010-11    0\n",
       "Area 2006-07          0\n",
       "Area 2007-08          0\n",
       "Area 2008-09          0\n",
       "Area 2009-10          0\n",
       "Area 2010-11          0\n",
       "Yield 2006-07         0\n",
       "Yield 2007-08         0\n",
       "Yield 2008-09         0\n",
       "Yield 2009-10         0\n",
       "Yield 2010-11         0\n",
       "dtype: int64"
      ]
     },
     "execution_count": 19,
     "metadata": {},
     "output_type": "execute_result"
    }
   ],
   "source": [
    "df2.isna().sum()"
   ]
  },
  {
   "cell_type": "code",
   "execution_count": null,
   "metadata": {},
   "outputs": [
    {
     "data": {
      "text/plain": [
       "Crop                         0\n",
       "Variety                      0\n",
       "Season/ duration in days    28\n",
       "Recommended Zone             1\n",
       "Unnamed: 4                  78\n",
       "dtype: int64"
      ]
     },
     "execution_count": 20,
     "metadata": {},
     "output_type": "execute_result"
    }
   ],
   "source": [
    "df3.isna().sum()"
   ]
  },
  {
   "cell_type": "code",
   "execution_count": null,
   "metadata": {},
   "outputs": [
    {
     "data": {
      "text/plain": [
       "Crop       1\n",
       "2004-05    1\n",
       "2005-06    1\n",
       "2006-07    1\n",
       "2007-08    1\n",
       "2008-09    1\n",
       "2009-10    1\n",
       "2010-11    1\n",
       "2011-12    1\n",
       "dtype: int64"
      ]
     },
     "execution_count": 21,
     "metadata": {},
     "output_type": "execute_result"
    }
   ],
   "source": [
    "df4.isna().sum()"
   ]
  },
  {
   "cell_type": "code",
   "execution_count": null,
   "metadata": {},
   "outputs": [
    {
     "data": {
      "text/plain": [
       "Particulars      0\n",
       "Frequency        0\n",
       "Unit             0\n",
       " 3-1993        426\n",
       " 3-1994        425\n",
       " 3-1995        425\n",
       " 3-1996        423\n",
       " 3-1997        419\n",
       " 3-1998        419\n",
       " 3-1999        418\n",
       " 3-2000        409\n",
       " 3-2001        407\n",
       " 3-2002        393\n",
       " 3-2003        301\n",
       " 3-2004         68\n",
       " 3-2005          4\n",
       " 3-2006          6\n",
       " 3-2007         11\n",
       " 3-2008         12\n",
       " 3-2009         11\n",
       " 3-2010         26\n",
       " 3-2011         25\n",
       " 3-2012         41\n",
       " 3-2013        131\n",
       " 3-2014        366\n",
       "dtype: int64"
      ]
     },
     "execution_count": 22,
     "metadata": {},
     "output_type": "execute_result"
    }
   ],
   "source": [
    "df5.isna().sum()"
   ]
  },
  {
   "cell_type": "code",
   "execution_count": null,
   "metadata": {},
   "outputs": [
    {
     "data": {
      "text/plain": [
       "(429, 25)"
      ]
     },
     "execution_count": 23,
     "metadata": {},
     "output_type": "execute_result"
    }
   ],
   "source": [
    "df5.shape"
   ]
  },
  {
   "cell_type": "code",
   "execution_count": null,
   "metadata": {},
   "outputs": [],
   "source": [
    "df4.dropna(subset=['Crop'],axis=0,inplace =True)"
   ]
  },
  {
   "cell_type": "code",
   "execution_count": null,
   "metadata": {},
   "outputs": [
    {
     "data": {
      "text/html": [
       "<div>\n",
       "<style scoped>\n",
       "    .dataframe tbody tr th:only-of-type {\n",
       "        vertical-align: middle;\n",
       "    }\n",
       "\n",
       "    .dataframe tbody tr th {\n",
       "        vertical-align: top;\n",
       "    }\n",
       "\n",
       "    .dataframe thead th {\n",
       "        text-align: right;\n",
       "    }\n",
       "</style>\n",
       "<table border=\"1\" class=\"dataframe\">\n",
       "  <thead>\n",
       "    <tr style=\"text-align: right;\">\n",
       "      <th></th>\n",
       "      <th>Crop</th>\n",
       "      <th>2004-05</th>\n",
       "      <th>2005-06</th>\n",
       "      <th>2006-07</th>\n",
       "      <th>2007-08</th>\n",
       "      <th>2008-09</th>\n",
       "      <th>2009-10</th>\n",
       "      <th>2010-11</th>\n",
       "      <th>2011-12</th>\n",
       "    </tr>\n",
       "  </thead>\n",
       "  <tbody>\n",
       "    <tr>\n",
       "      <th>0</th>\n",
       "      <td>Rice</td>\n",
       "      <td>100.0</td>\n",
       "      <td>101.0</td>\n",
       "      <td>99.0</td>\n",
       "      <td>105.0</td>\n",
       "      <td>112.0</td>\n",
       "      <td>121.0</td>\n",
       "      <td>117.0</td>\n",
       "      <td>110.0</td>\n",
       "    </tr>\n",
       "    <tr>\n",
       "      <th>1</th>\n",
       "      <td>Wheat</td>\n",
       "      <td>100.0</td>\n",
       "      <td>101.0</td>\n",
       "      <td>112.0</td>\n",
       "      <td>115.0</td>\n",
       "      <td>117.0</td>\n",
       "      <td>127.0</td>\n",
       "      <td>120.0</td>\n",
       "      <td>108.0</td>\n",
       "    </tr>\n",
       "    <tr>\n",
       "      <th>2</th>\n",
       "      <td>Coarse Cereals</td>\n",
       "      <td>100.0</td>\n",
       "      <td>107.0</td>\n",
       "      <td>110.0</td>\n",
       "      <td>115.0</td>\n",
       "      <td>113.0</td>\n",
       "      <td>123.0</td>\n",
       "      <td>122.0</td>\n",
       "      <td>136.0</td>\n",
       "    </tr>\n",
       "    <tr>\n",
       "      <th>3</th>\n",
       "      <td>Pulses</td>\n",
       "      <td>100.0</td>\n",
       "      <td>108.0</td>\n",
       "      <td>134.0</td>\n",
       "      <td>124.0</td>\n",
       "      <td>124.0</td>\n",
       "      <td>146.0</td>\n",
       "      <td>137.0</td>\n",
       "      <td>129.0</td>\n",
       "    </tr>\n",
       "    <tr>\n",
       "      <th>4</th>\n",
       "      <td>Vegetables</td>\n",
       "      <td>100.0</td>\n",
       "      <td>109.0</td>\n",
       "      <td>103.0</td>\n",
       "      <td>118.0</td>\n",
       "      <td>113.0</td>\n",
       "      <td>124.0</td>\n",
       "      <td>128.0</td>\n",
       "      <td>115.0</td>\n",
       "    </tr>\n",
       "    <tr>\n",
       "      <th>5</th>\n",
       "      <td>Fruits</td>\n",
       "      <td>100.0</td>\n",
       "      <td>99.0</td>\n",
       "      <td>99.0</td>\n",
       "      <td>98.0</td>\n",
       "      <td>102.0</td>\n",
       "      <td>104.0</td>\n",
       "      <td>114.0</td>\n",
       "      <td>119.0</td>\n",
       "    </tr>\n",
       "    <tr>\n",
       "      <th>6</th>\n",
       "      <td>Milk</td>\n",
       "      <td>100.0</td>\n",
       "      <td>97.0</td>\n",
       "      <td>98.0</td>\n",
       "      <td>98.0</td>\n",
       "      <td>98.0</td>\n",
       "      <td>112.0</td>\n",
       "      <td>123.0</td>\n",
       "      <td>124.0</td>\n",
       "    </tr>\n",
       "    <tr>\n",
       "      <th>7</th>\n",
       "      <td>Eggs, Fish and Meat</td>\n",
       "      <td>100.0</td>\n",
       "      <td>102.0</td>\n",
       "      <td>101.0</td>\n",
       "      <td>100.0</td>\n",
       "      <td>99.0</td>\n",
       "      <td>116.0</td>\n",
       "      <td>133.0</td>\n",
       "      <td>137.0</td>\n",
       "    </tr>\n",
       "    <tr>\n",
       "      <th>8</th>\n",
       "      <td>Oilseeds</td>\n",
       "      <td>100.0</td>\n",
       "      <td>86.0</td>\n",
       "      <td>85.0</td>\n",
       "      <td>97.0</td>\n",
       "      <td>104.0</td>\n",
       "      <td>103.0</td>\n",
       "      <td>99.0</td>\n",
       "      <td>102.0</td>\n",
       "    </tr>\n",
       "    <tr>\n",
       "      <th>9</th>\n",
       "      <td>Sugarcane</td>\n",
       "      <td>100.0</td>\n",
       "      <td>96.0</td>\n",
       "      <td>91.0</td>\n",
       "      <td>87.0</td>\n",
       "      <td>80.0</td>\n",
       "      <td>81.0</td>\n",
       "      <td>109.0</td>\n",
       "      <td>107.0</td>\n",
       "    </tr>\n",
       "    <tr>\n",
       "      <th>10</th>\n",
       "      <td>Fibers</td>\n",
       "      <td>100.0</td>\n",
       "      <td>92.0</td>\n",
       "      <td>91.0</td>\n",
       "      <td>96.0</td>\n",
       "      <td>109.0</td>\n",
       "      <td>107.0</td>\n",
       "      <td>138.0</td>\n",
       "      <td>140.0</td>\n",
       "    </tr>\n",
       "    <tr>\n",
       "      <th>11</th>\n",
       "      <td>All Agriculture</td>\n",
       "      <td>100.0</td>\n",
       "      <td>99.0</td>\n",
       "      <td>101.0</td>\n",
       "      <td>104.0</td>\n",
       "      <td>106.0</td>\n",
       "      <td>115.0</td>\n",
       "      <td>123.0</td>\n",
       "      <td>122.0</td>\n",
       "    </tr>\n",
       "  </tbody>\n",
       "</table>\n",
       "</div>"
      ],
      "text/plain": [
       "                   Crop  2004-05  2005-06  2006-07  2007-08  2008-09  2009-10  \\\n",
       "0                  Rice    100.0    101.0     99.0    105.0    112.0    121.0   \n",
       "1                 Wheat    100.0    101.0    112.0    115.0    117.0    127.0   \n",
       "2        Coarse Cereals    100.0    107.0    110.0    115.0    113.0    123.0   \n",
       "3                Pulses    100.0    108.0    134.0    124.0    124.0    146.0   \n",
       "4           Vegetables     100.0    109.0    103.0    118.0    113.0    124.0   \n",
       "5                Fruits    100.0     99.0     99.0     98.0    102.0    104.0   \n",
       "6                  Milk    100.0     97.0     98.0     98.0     98.0    112.0   \n",
       "7   Eggs, Fish and Meat    100.0    102.0    101.0    100.0     99.0    116.0   \n",
       "8              Oilseeds    100.0     86.0     85.0     97.0    104.0    103.0   \n",
       "9            Sugarcane     100.0     96.0     91.0     87.0     80.0     81.0   \n",
       "10               Fibers    100.0     92.0     91.0     96.0    109.0    107.0   \n",
       "11      All Agriculture    100.0     99.0    101.0    104.0    106.0    115.0   \n",
       "\n",
       "    2010-11  2011-12  \n",
       "0     117.0    110.0  \n",
       "1     120.0    108.0  \n",
       "2     122.0    136.0  \n",
       "3     137.0    129.0  \n",
       "4     128.0    115.0  \n",
       "5     114.0    119.0  \n",
       "6     123.0    124.0  \n",
       "7     133.0    137.0  \n",
       "8      99.0    102.0  \n",
       "9     109.0    107.0  \n",
       "10    138.0    140.0  \n",
       "11    123.0    122.0  "
      ]
     },
     "execution_count": 25,
     "metadata": {},
     "output_type": "execute_result"
    }
   ],
   "source": [
    "df4"
   ]
  },
  {
   "cell_type": "code",
   "execution_count": null,
   "metadata": {},
   "outputs": [
    {
     "data": {
      "text/plain": [
       "Crop       0\n",
       "2004-05    0\n",
       "2005-06    0\n",
       "2006-07    0\n",
       "2007-08    0\n",
       "2008-09    0\n",
       "2009-10    0\n",
       "2010-11    0\n",
       "2011-12    0\n",
       "dtype: int64"
      ]
     },
     "execution_count": 26,
     "metadata": {},
     "output_type": "execute_result"
    }
   ],
   "source": [
    "df4.isna().sum()"
   ]
  },
  {
   "cell_type": "markdown",
   "metadata": {},
   "source": [
    "## EDA on the dataset to extract meaning full information "
   ]
  },
  {
   "cell_type": "markdown",
   "metadata": {},
   "source": [
    " ### Q1. What was the share of crops in total prodcution in 2011-12 and 2009-10 ?*"
   ]
  },
  {
   "cell_type": "code",
   "execution_count": null,
   "metadata": {},
   "outputs": [
    {
     "data": {
      "image/png": "[encoded data removed]",
      "text/plain": [
       "<Figure size 864x432 with 1 Axes>"
      ]
     },
     "metadata": {},
     "output_type": "display_data"
    }
   ],
   "source": [
    "plt.figure(figsize=(12,6))\n",
    "sns.set_style('white')\n",
    "color=sns.color_palette('cool')\n",
    "plt.pie(df4['2011-12'],\n",
    "        labels=df4['Crop'],\n",
    "        autopct='%0.1f%%',\n",
    "        shadow= True,\n",
    "        colors=color)\n",
    "plt.title('Production of crops in 2011-12')\n",
    "plt.show()"
   ]
  },
  {
   "cell_type": "code",
   "execution_count": null,
   "metadata": {},
   "outputs": [
    {
     "data": {
      "image/png": "[encoded data removed]",
      "text/plain": [
       "<Figure size 864x432 with 1 Axes>"
      ]
     },
     "metadata": {},
     "output_type": "display_data"
    }
   ],
   "source": [
    "plt.figure(figsize=(12,6))\n",
    "sns.set_style('ticks')\n",
    "color=sns.color_palette('vlag')\n",
    "plt.pie(df4['2009-10'],\n",
    "        labels=df4['Crop'],\n",
    "        autopct='%0.1f%%',\n",
    "        shadow= True,\n",
    "        colors=color)\n",
    "plt.title('Production of crops in 2009-10')\n",
    "plt.show()"
   ]
  },
  {
   "cell_type": "markdown",
   "metadata": {},
   "source": [
    "### Q2. Which crops have different kinds of vareities and who has the most varieties in all these crops?*"
   ]
  },
  {
   "cell_type": "code",
   "execution_count": null,
   "metadata": {},
   "outputs": [
    {
     "data": {
      "image/png": "[encoded data removed]",
      "text/plain": [
       "<Figure size 864x432 with 1 Axes>"
      ]
     },
     "metadata": {},
     "output_type": "display_data"
    }
   ],
   "source": [
    "plt.figure(figsize=(12,6))\n",
    "sns.countplot(x=df3['Crop'],data=df3)\n",
    "plt.xticks(rotation='vertical')\n",
    "plt.xlabel('Crop')\n",
    "plt.ylabel('count')\n",
    "plt.title('Crop Varieties')\n",
    "plt.show()"
   ]
  },
  {
   "cell_type": "markdown",
   "metadata": {},
   "source": [
    "### Q3. What are the different crops and their yield in the year 2010-11?"
   ]
  },
  {
   "cell_type": "code",
   "execution_count": null,
   "metadata": {},
   "outputs": [
    {
     "data": {
      "image/png": "[encoded data removed]",
      "text/plain": [
       "<Figure size 2160x720 with 1 Axes>"
      ]
     },
     "metadata": {},
     "output_type": "display_data"
    }
   ],
   "source": [
    "plt.figure(figsize=(30,10))\n",
    "sns.barplot(x=df2['Crop'],y=df2['Yield 2010-11'],data=df2)\n",
    "plt.xticks(rotation='vertical',fontsize=25)\n",
    "plt.yticks(fontsize=25)\n",
    "plt.xlabel('Crop',fontsize=30)\n",
    "plt.ylabel('Yield',fontsize=30)\n",
    "plt.title('Yield in 2010-11',fontsize=40)\n",
    "plt.show()"
   ]
  },
  {
   "cell_type": "code",
   "execution_count": null,
   "metadata": {},
   "outputs": [
    {
     "name": "stdout",
     "output_type": "stream",
     "text": [
      "34       Sannhamp \n",
      "33    Jute & Mesta\n",
      "31            Jute\n",
      "Name: Crop, dtype: object\n"
     ]
    }
   ],
   "source": [
    "top_3_crops = df2.nlargest(3, 'Yield 2010-11')['Crop']\n",
    "print(top_3_crops)"
   ]
  },
  {
   "cell_type": "markdown",
   "metadata": {},
   "source": [
    "### Q4. What costs does one bear if they decide to grow a particular crop in their farm?"
   ]
  },
  {
   "cell_type": "code",
   "execution_count": null,
   "metadata": {},
   "outputs": [
    {
     "data": {
      "text/plain": [
       "<AxesSubplot:xlabel='Crop'>"
      ]
     },
     "execution_count": 36,
     "metadata": {},
     "output_type": "execute_result"
    },
    {
     "data": {
      "image/png": "[encoded data removed]",
      "text/plain": [
       "<Figure size 864x432 with 1 Axes>"
      ]
     },
     "metadata": {},
     "output_type": "display_data"
    }
   ],
   "source": [
    "s=df1.groupby('Crop')\n",
    "s.mean()\n",
    "cols=df1.columns\n",
    "cols\n",
    "color=sns.color_palette('Pastel1')\n",
    "df1.groupby('Crop')[cols].mean().plot(kind='bar', figsize=(12,6),color=color)"
   ]
  },
  {
   "cell_type": "markdown",
   "metadata": {},
   "source": [
    "### Q5. What is share of states in total yeild of crops?"
   ]
  },
  {
   "cell_type": "code",
   "execution_count": null,
   "metadata": {},
   "outputs": [
    {
     "name": "stderr",
     "output_type": "stream",
     "text": [
      "C:\\Users\\adity\\anaconda3\\lib\\site-packages\\pandas\\core\\dtypes\\cast.py:1229: VisibleDeprecationWarning:\n",
      "\n",
      "Creating an ndarray from ragged nested sequences (which is a list-or-tuple of lists-or-tuples-or ndarrays with different lengths or shapes) is deprecated. If you meant to do this, you must specify 'dtype=object' when creating the ndarray\n",
      "\n",
      "C:\\Users\\adity\\anaconda3\\lib\\site-packages\\pandas\\core\\dtypes\\cast.py:1623: VisibleDeprecationWarning:\n",
      "\n",
      "Creating an ndarray from ragged nested sequences (which is a list-or-tuple of lists-or-tuples-or ndarrays with different lengths or shapes) is deprecated. If you meant to do this, you must specify 'dtype=object' when creating the ndarray\n",
      "\n",
      "C:\\Users\\adity\\anaconda3\\lib\\site-packages\\numpy\\core\\_asarray.py:83: VisibleDeprecationWarning:\n",
      "\n",
      "Creating an ndarray from ragged nested sequences (which is a list-or-tuple of lists-or-tuples-or ndarrays with different lengths or shapes) is deprecated. If you meant to do this, you must specify 'dtype=object' when creating the ndarray\n",
      "\n"
     ]
    },
    {
     "data": {
      "application/vnd.plotly.v1+json": {
       "config": {
        "plotlyServerURL": "https://plot.ly"
       },
       "data": [
        {
         "domain": {
          "x": [
           0,
           1
          ],
          "y": [
           0,
           1
          ]
         },
         "hovertemplate": "label=%{label}<br>value=%{value}<extra></extra>",
         "labels": [
          [
           "Andhra Pradesh",
           [
            6.42,
            17.83,
            16.69,
            11.97,
            42.68,
            5.9,
            56,
            757.92
           ]
          ],
          [
           "Bihar",
           [
            42.95
           ]
          ],
          [
           "Gujarat",
           [
            9.59,
            19.05,
            13.45,
            11.61
           ]
          ],
          [
           "Haryana",
           [
            19.9,
            19.94
           ]
          ],
          [
           "Karnataka",
           [
            7.47,
            4.71,
            31.1,
            1.32,
            986.21
           ]
          ],
          [
           "Madhya Pradesh",
           [
            10.29,
            12.94,
            23.59
           ]
          ],
          [
           "Maharashtra",
           [
            8.72,
            12.69,
            8.05,
            9.33,
            6.7,
            744.01
           ]
          ],
          [
           "Orissa",
           [
            3.01,
            32.42
           ]
          ],
          [
           "Punjab",
           [
            24.39,
            67.41,
            39.83
           ]
          ],
          [
           "Rajasthan",
           [
            6.83,
            23.56,
            4.05,
            13.54,
            37.19
           ]
          ],
          [
           "Tamil Nadu",
           [
            11.98,
            1015.45
           ]
          ],
          [
           "Uttar Pradesh",
           [
            9.83,
            10.93,
            13.7,
            36.61,
            13.57,
            448.89,
            34.99
           ]
          ],
          [
           "West Bengal",
           [
            39.04
           ]
          ]
         ],
         "legendgroup": "",
         "name": "",
         "showlegend": true,
         "type": "pie",
         "values": [
          915.41,
          42.95,
          53.7,
          39.84,
          1030.81,
          46.81999999999999,
          789.5,
          35.43,
          131.63,
          85.16999999999999,
          1027.43,
          568.52,
          39.04
         ]
        }
       ],
       "layout": {
        "legend": {
         "tracegroupgap": 0
        },
        "template": {
         "data": {
          "bar": [
           {
            "error_x": {
             "color": "#2a3f5f"
            },
            "error_y": {
             "color": "#2a3f5f"
            },
            "marker": {
             "line": {
              "color": "#E5ECF6",
              "width": 0.5
             },
             "pattern": {
              "fillmode": "overlay",
              "size": 10,
              "solidity": 0.2
             }
            },
            "type": "bar"
           }
          ],
          "barpolar": [
           {
            "marker": {
             "line": {
              "color": "#E5ECF6",
              "width": 0.5
             },
             "pattern": {
              "fillmode": "overlay",
              "size": 10,
              "solidity": 0.2
             }
            },
            "type": "barpolar"
           }
          ],
          "carpet": [
           {
            "aaxis": {
             "endlinecolor": "#2a3f5f",
             "gridcolor": "white",
             "linecolor": "white",
             "minorgridcolor": "white",
             "startlinecolor": "#2a3f5f"
            },
            "baxis": {
             "endlinecolor": "#2a3f5f",
             "gridcolor": "white",
             "linecolor": "white",
             "minorgridcolor": "white",
             "startlinecolor": "#2a3f5f"
            },
            "type": "carpet"
           }
          ],
          "choropleth": [
           {
            "colorbar": {
             "outlinewidth": 0,
             "ticks": ""
            },
            "type": "choropleth"
           }
          ],
          "contour": [
           {
            "colorbar": {
             "outlinewidth": 0,
             "ticks": ""
            },
            "colorscale": [
             [
              0,
              "#0d0887"
             ],
             [
              0.1111111111111111,
              "#46039f"
             ],
             [
              0.2222222222222222,
              "#7201a8"
             ],
             [
              0.3333333333333333,
              "#9c179e"
             ],
             [
              0.4444444444444444,
              "#bd3786"
             ],
             [
              0.5555555555555556,
              "#d8576b"
             ],
             [
              0.6666666666666666,
              "#ed7953"
             ],
             [
              0.7777777777777778,
              "#fb9f3a"
             ],
             [
              0.8888888888888888,
              "#fdca26"
             ],
             [
              1,
              "#f0f921"
             ]
            ],
            "type": "contour"
           }
          ],
          "contourcarpet": [
           {
            "colorbar": {
             "outlinewidth": 0,
             "ticks": ""
            },
            "type": "contourcarpet"
           }
          ],
          "heatmap": [
           {
            "colorbar": {
             "outlinewidth": 0,
             "ticks": ""
            },
            "colorscale": [
             [
              0,
              "#0d0887"
             ],
             [
              0.1111111111111111,
              "#46039f"
             ],
             [
              0.2222222222222222,
              "#7201a8"
             ],
             [
              0.3333333333333333,
              "#9c179e"
             ],
             [
              0.4444444444444444,
              "#bd3786"
             ],
             [
              0.5555555555555556,
              "#d8576b"
             ],
             [
              0.6666666666666666,
              "#ed7953"
             ],
             [
              0.7777777777777778,
              "#fb9f3a"
             ],
             [
              0.8888888888888888,
              "#fdca26"
             ],
             [
              1,
              "#f0f921"
             ]
            ],
            "type": "heatmap"
           }
          ],
          "heatmapgl": [
           {
            "colorbar": {
             "outlinewidth": 0,
             "ticks": ""
            },
            "colorscale": [
             [
              0,
              "#0d0887"
             ],
             [
              0.1111111111111111,
              "#46039f"
             ],
             [
              0.2222222222222222,
              "#7201a8"
             ],
             [
              0.3333333333333333,
              "#9c179e"
             ],
             [
              0.4444444444444444,
              "#bd3786"
             ],
             [
              0.5555555555555556,
              "#d8576b"
             ],
             [
              0.6666666666666666,
              "#ed7953"
             ],
             [
              0.7777777777777778,
              "#fb9f3a"
             ],
             [
              0.8888888888888888,
              "#fdca26"
             ],
             [
              1,
              "#f0f921"
             ]
            ],
            "type": "heatmapgl"
           }
          ],
          "histogram": [
           {
            "marker": {
             "pattern": {
              "fillmode": "overlay",
              "size": 10,
              "solidity": 0.2
             }
            },
            "type": "histogram"
           }
          ],
          "histogram2d": [
           {
            "colorbar": {
             "outlinewidth": 0,
             "ticks": ""
            },
            "colorscale": [
             [
              0,
              "#0d0887"
             ],
             [
              0.1111111111111111,
              "#46039f"
             ],
             [
              0.2222222222222222,
              "#7201a8"
             ],
             [
              0.3333333333333333,
              "#9c179e"
             ],
             [
              0.4444444444444444,
              "#bd3786"
             ],
             [
              0.5555555555555556,
              "#d8576b"
             ],
             [
              0.6666666666666666,
              "#ed7953"
             ],
             [
              0.7777777777777778,
              "#fb9f3a"
             ],
             [
              0.8888888888888888,
              "#fdca26"
             ],
             [
              1,
              "#f0f921"
             ]
            ],
            "type": "histogram2d"
           }
          ],
          "histogram2dcontour": [
           {
            "colorbar": {
             "outlinewidth": 0,
             "ticks": ""
            },
            "colorscale": [
             [
              0,
              "#0d0887"
             ],
             [
              0.1111111111111111,
              "#46039f"
             ],
             [
              0.2222222222222222,
              "#7201a8"
             ],
             [
              0.3333333333333333,
              "#9c179e"
             ],
             [
              0.4444444444444444,
              "#bd3786"
             ],
             [
              0.5555555555555556,
              "#d8576b"
             ],
             [
              0.6666666666666666,
              "#ed7953"
             ],
             [
              0.7777777777777778,
              "#fb9f3a"
             ],
             [
              0.8888888888888888,
              "#fdca26"
             ],
             [
              1,
              "#f0f921"
             ]
            ],
            "type": "histogram2dcontour"
           }
          ],
          "mesh3d": [
           {
            "colorbar": {
             "outlinewidth": 0,
             "ticks": ""
            },
            "type": "mesh3d"
           }
          ],
          "parcoords": [
           {
            "line": {
             "colorbar": {
              "outlinewidth": 0,
              "ticks": ""
             }
            },
            "type": "parcoords"
           }
          ],
          "pie": [
           {
            "automargin": true,
            "type": "pie"
           }
          ],
          "scatter": [
           {
            "fillpattern": {
             "fillmode": "overlay",
             "size": 10,
             "solidity": 0.2
            },
            "type": "scatter"
           }
          ],
          "scatter3d": [
           {
            "line": {
             "colorbar": {
              "outlinewidth": 0,
              "ticks": ""
             }
            },
            "marker": {
             "colorbar": {
              "outlinewidth": 0,
              "ticks": ""
             }
            },
            "type": "scatter3d"
           }
          ],
          "scattercarpet": [
           {
            "marker": {
             "colorbar": {
              "outlinewidth": 0,
              "ticks": ""
             }
            },
            "type": "scattercarpet"
           }
          ],
          "scattergeo": [
           {
            "marker": {
             "colorbar": {
              "outlinewidth": 0,
              "ticks": ""
             }
            },
            "type": "scattergeo"
           }
          ],
          "scattergl": [
           {
            "marker": {
             "colorbar": {
              "outlinewidth": 0,
              "ticks": ""
             }
            },
            "type": "scattergl"
           }
          ],
          "scattermapbox": [
           {
            "marker": {
             "colorbar": {
              "outlinewidth": 0,
              "ticks": ""
             }
            },
            "type": "scattermapbox"
           }
          ],
          "scatterpolar": [
           {
            "marker": {
             "colorbar": {
              "outlinewidth": 0,
              "ticks": ""
             }
            },
            "type": "scatterpolar"
           }
          ],
          "scatterpolargl": [
           {
            "marker": {
             "colorbar": {
              "outlinewidth": 0,
              "ticks": ""
             }
            },
            "type": "scatterpolargl"
           }
          ],
          "scatterternary": [
           {
            "marker": {
             "colorbar": {
              "outlinewidth": 0,
              "ticks": ""
             }
            },
            "type": "scatterternary"
           }
          ],
          "surface": [
           {
            "colorbar": {
             "outlinewidth": 0,
             "ticks": ""
            },
            "colorscale": [
             [
              0,
              "#0d0887"
             ],
             [
              0.1111111111111111,
              "#46039f"
             ],
             [
              0.2222222222222222,
              "#7201a8"
             ],
             [
              0.3333333333333333,
              "#9c179e"
             ],
             [
              0.4444444444444444,
              "#bd3786"
             ],
             [
              0.5555555555555556,
              "#d8576b"
             ],
             [
              0.6666666666666666,
              "#ed7953"
             ],
             [
              0.7777777777777778,
              "#fb9f3a"
             ],
             [
              0.8888888888888888,
              "#fdca26"
             ],
             [
              1,
              "#f0f921"
             ]
            ],
            "type": "surface"
           }
          ],
          "table": [
           {
            "cells": {
             "fill": {
              "color": "#EBF0F8"
             },
             "line": {
              "color": "white"
             }
            },
            "header": {
             "fill": {
              "color": "#C8D4E3"
             },
             "line": {
              "color": "white"
             }
            },
            "type": "table"
           }
          ]
         },
         "layout": {
          "annotationdefaults": {
           "arrowcolor": "#2a3f5f",
           "arrowhead": 0,
           "arrowwidth": 1
          },
          "autotypenumbers": "strict",
          "coloraxis": {
           "colorbar": {
            "outlinewidth": 0,
            "ticks": ""
           }
          },
          "colorscale": {
           "diverging": [
            [
             0,
             "#8e0152"
            ],
            [
             0.1,
             "#c51b7d"
            ],
            [
             0.2,
             "#de77ae"
            ],
            [
             0.3,
             "#f1b6da"
            ],
            [
             0.4,
             "#fde0ef"
            ],
            [
             0.5,
             "#f7f7f7"
            ],
            [
             0.6,
             "#e6f5d0"
            ],
            [
             0.7,
             "#b8e186"
            ],
            [
             0.8,
             "#7fbc41"
            ],
            [
             0.9,
             "#4d9221"
            ],
            [
             1,
             "#276419"
            ]
           ],
           "sequential": [
            [
             0,
             "#0d0887"
            ],
            [
             0.1111111111111111,
             "#46039f"
            ],
            [
             0.2222222222222222,
             "#7201a8"
            ],
            [
             0.3333333333333333,
             "#9c179e"
            ],
            [
             0.4444444444444444,
             "#bd3786"
            ],
            [
             0.5555555555555556,
             "#d8576b"
            ],
            [
             0.6666666666666666,
             "#ed7953"
            ],
            [
             0.7777777777777778,
             "#fb9f3a"
            ],
            [
             0.8888888888888888,
             "#fdca26"
            ],
            [
             1,
             "#f0f921"
            ]
           ],
           "sequentialminus": [
            [
             0,
             "#0d0887"
            ],
            [
             0.1111111111111111,
             "#46039f"
            ],
            [
             0.2222222222222222,
             "#7201a8"
            ],
            [
             0.3333333333333333,
             "#9c179e"
            ],
            [
             0.4444444444444444,
             "#bd3786"
            ],
            [
             0.5555555555555556,
             "#d8576b"
            ],
            [
             0.6666666666666666,
             "#ed7953"
            ],
            [
             0.7777777777777778,
             "#fb9f3a"
            ],
            [
             0.8888888888888888,
             "#fdca26"
            ],
            [
             1,
             "#f0f921"
            ]
           ]
          },
          "colorway": [
           "#636efa",
           "#EF553B",
           "#00cc96",
           "#ab63fa",
           "#FFA15A",
           "#19d3f3",
           "#FF6692",
           "#B6E880",
           "#FF97FF",
           "#FECB52"
          ],
          "font": {
           "color": "#2a3f5f"
          },
          "geo": {
           "bgcolor": "white",
           "lakecolor": "white",
           "landcolor": "#E5ECF6",
           "showlakes": true,
           "showland": true,
           "subunitcolor": "white"
          },
          "hoverlabel": {
           "align": "left"
          },
          "hovermode": "closest",
          "mapbox": {
           "style": "light"
          },
          "paper_bgcolor": "white",
          "plot_bgcolor": "#E5ECF6",
          "polar": {
           "angularaxis": {
            "gridcolor": "white",
            "linecolor": "white",
            "ticks": ""
           },
           "bgcolor": "#E5ECF6",
           "radialaxis": {
            "gridcolor": "white",
            "linecolor": "white",
            "ticks": ""
           }
          },
          "scene": {
           "xaxis": {
            "backgroundcolor": "#E5ECF6",
            "gridcolor": "white",
            "gridwidth": 2,
            "linecolor": "white",
            "showbackground": true,
            "ticks": "",
            "zerolinecolor": "white"
           },
           "yaxis": {
            "backgroundcolor": "#E5ECF6",
            "gridcolor": "white",
            "gridwidth": 2,
            "linecolor": "white",
            "showbackground": true,
            "ticks": "",
            "zerolinecolor": "white"
           },
           "zaxis": {
            "backgroundcolor": "#E5ECF6",
            "gridcolor": "white",
            "gridwidth": 2,
            "linecolor": "white",
            "showbackground": true,
            "ticks": "",
            "zerolinecolor": "white"
           }
          },
          "shapedefaults": {
           "line": {
            "color": "#2a3f5f"
           }
          },
          "ternary": {
           "aaxis": {
            "gridcolor": "white",
            "linecolor": "white",
            "ticks": ""
           },
           "baxis": {
            "gridcolor": "white",
            "linecolor": "white",
            "ticks": ""
           },
           "bgcolor": "#E5ECF6",
           "caxis": {
            "gridcolor": "white",
            "linecolor": "white",
            "ticks": ""
           }
          },
          "title": {
           "x": 0.05
          },
          "xaxis": {
           "automargin": true,
           "gridcolor": "white",
           "linecolor": "white",
           "ticks": "",
           "title": {
            "standoff": 15
           },
           "zerolinecolor": "white",
           "zerolinewidth": 2
          },
          "yaxis": {
           "automargin": true,
           "gridcolor": "white",
           "linecolor": "white",
           "ticks": "",
           "title": {
            "standoff": 15
           },
           "zerolinecolor": "white",
           "zerolinewidth": 2
          }
         }
        },
        "title": {
         "text": "State wise yeild(Quintal/Hectare) "
        }
       }
      },
      "text/html": [
       "<div>                            <div id=\"0c08a8e7-f5b0-408e-a656-7f54808df1ba\" class=\"plotly-graph-div\" style=\"height:525px; width:100%;\"></div>            <script type=\"text/javascript\">                require([\"plotly\"], function(Plotly) {                    window.PLOTLYENV=window.PLOTLYENV || {};                                    if (document.getElementById(\"0c08a8e7-f5b0-408e-a656-7f54808df1ba\")) {                    Plotly.newPlot(                        \"0c08a8e7-f5b0-408e-a656-7f54808df1ba\",                        [{\"domain\":{\"x\":[0.0,1.0],\"y\":[0.0,1.0]},\"hovertemplate\":\"label=%{label}\\u003cbr\\u003evalue=%{value}\\u003cextra\\u003e\\u003c\\u002fextra\\u003e\",\"labels\":[[\"Andhra Pradesh\",[6.42,17.83,16.69,11.97,42.68,5.9,56.0,757.92]],[\"Bihar\",[42.95]],[\"Gujarat\",[9.59,19.05,13.45,11.61]],[\"Haryana\",[19.9,19.94]],[\"Karnataka\",[7.47,4.71,31.1,1.32,986.21]],[\"Madhya Pradesh\",[10.29,12.94,23.59]],[\"Maharashtra\",[8.72,12.69,8.05,9.33,6.7,744.01]],[\"Orissa\",[3.01,32.42]],[\"Punjab\",[24.39,67.41,39.83]],[\"Rajasthan\",[6.83,23.56,4.05,13.54,37.19]],[\"Tamil Nadu\",[11.98,1015.45]],[\"Uttar Pradesh\",[9.83,10.93,13.7,36.61,13.57,448.89,34.99]],[\"West Bengal\",[39.04]]],\"legendgroup\":\"\",\"name\":\"\",\"showlegend\":true,\"values\":[915.41,42.95,53.7,39.84,1030.81,46.81999999999999,789.5,35.43,131.63,85.16999999999999,1027.43,568.52,39.04],\"type\":\"pie\"}],                        {\"template\":{\"data\":{\"histogram2dcontour\":[{\"type\":\"histogram2dcontour\",\"colorbar\":{\"outlinewidth\":0,\"ticks\":\"\"},\"colorscale\":[[0.0,\"#0d0887\"],[0.1111111111111111,\"#46039f\"],[0.2222222222222222,\"#7201a8\"],[0.3333333333333333,\"#9c179e\"],[0.4444444444444444,\"#bd3786\"],[0.5555555555555556,\"#d8576b\"],[0.6666666666666666,\"#ed7953\"],[0.7777777777777778,\"#fb9f3a\"],[0.8888888888888888,\"#fdca26\"],[1.0,\"#f0f921\"]]}],\"choropleth\":[{\"type\":\"choropleth\",\"colorbar\":{\"outlinewidth\":0,\"ticks\":\"\"}}],\"histogram2d\":[{\"type\":\"histogram2d\",\"colorbar\":{\"outlinewidth\":0,\"ticks\":\"\"},\"colorscale\":[[0.0,\"#0d0887\"],[0.1111111111111111,\"#46039f\"],[0.2222222222222222,\"#7201a8\"],[0.3333333333333333,\"#9c179e\"],[0.4444444444444444,\"#bd3786\"],[0.5555555555555556,\"#d8576b\"],[0.6666666666666666,\"#ed7953\"],[0.7777777777777778,\"#fb9f3a\"],[0.8888888888888888,\"#fdca26\"],[1.0,\"#f0f921\"]]}],\"heatmap\":[{\"type\":\"heatmap\",\"colorbar\":{\"outlinewidth\":0,\"ticks\":\"\"},\"colorscale\":[[0.0,\"#0d0887\"],[0.1111111111111111,\"#46039f\"],[0.2222222222222222,\"#7201a8\"],[0.3333333333333333,\"#9c179e\"],[0.4444444444444444,\"#bd3786\"],[0.5555555555555556,\"#d8576b\"],[0.6666666666666666,\"#ed7953\"],[0.7777777777777778,\"#fb9f3a\"],[0.8888888888888888,\"#fdca26\"],[1.0,\"#f0f921\"]]}],\"heatmapgl\":[{\"type\":\"heatmapgl\",\"colorbar\":{\"outlinewidth\":0,\"ticks\":\"\"},\"colorscale\":[[0.0,\"#0d0887\"],[0.1111111111111111,\"#46039f\"],[0.2222222222222222,\"#7201a8\"],[0.3333333333333333,\"#9c179e\"],[0.4444444444444444,\"#bd3786\"],[0.5555555555555556,\"#d8576b\"],[0.6666666666666666,\"#ed7953\"],[0.7777777777777778,\"#fb9f3a\"],[0.8888888888888888,\"#fdca26\"],[1.0,\"#f0f921\"]]}],\"contourcarpet\":[{\"type\":\"contourcarpet\",\"colorbar\":{\"outlinewidth\":0,\"ticks\":\"\"}}],\"contour\":[{\"type\":\"contour\",\"colorbar\":{\"outlinewidth\":0,\"ticks\":\"\"},\"colorscale\":[[0.0,\"#0d0887\"],[0.1111111111111111,\"#46039f\"],[0.2222222222222222,\"#7201a8\"],[0.3333333333333333,\"#9c179e\"],[0.4444444444444444,\"#bd3786\"],[0.5555555555555556,\"#d8576b\"],[0.6666666666666666,\"#ed7953\"],[0.7777777777777778,\"#fb9f3a\"],[0.8888888888888888,\"#fdca26\"],[1.0,\"#f0f921\"]]}],\"surface\":[{\"type\":\"surface\",\"colorbar\":{\"outlinewidth\":0,\"ticks\":\"\"},\"colorscale\":[[0.0,\"#0d0887\"],[0.1111111111111111,\"#46039f\"],[0.2222222222222222,\"#7201a8\"],[0.3333333333333333,\"#9c179e\"],[0.4444444444444444,\"#bd3786\"],[0.5555555555555556,\"#d8576b\"],[0.6666666666666666,\"#ed7953\"],[0.7777777777777778,\"#fb9f3a\"],[0.8888888888888888,\"#fdca26\"],[1.0,\"#f0f921\"]]}],\"mesh3d\":[{\"type\":\"mesh3d\",\"colorbar\":{\"outlinewidth\":0,\"ticks\":\"\"}}],\"scatter\":[{\"fillpattern\":{\"fillmode\":\"overlay\",\"size\":10,\"solidity\":0.2},\"type\":\"scatter\"}],\"parcoords\":[{\"type\":\"parcoords\",\"line\":{\"colorbar\":{\"outlinewidth\":0,\"ticks\":\"\"}}}],\"scatterpolargl\":[{\"type\":\"scatterpolargl\",\"marker\":{\"colorbar\":{\"outlinewidth\":0,\"ticks\":\"\"}}}],\"bar\":[{\"error_x\":{\"color\":\"#2a3f5f\"},\"error_y\":{\"color\":\"#2a3f5f\"},\"marker\":{\"line\":{\"color\":\"#E5ECF6\",\"width\":0.5},\"pattern\":{\"fillmode\":\"overlay\",\"size\":10,\"solidity\":0.2}},\"type\":\"bar\"}],\"scattergeo\":[{\"type\":\"scattergeo\",\"marker\":{\"colorbar\":{\"outlinewidth\":0,\"ticks\":\"\"}}}],\"scatterpolar\":[{\"type\":\"scatterpolar\",\"marker\":{\"colorbar\":{\"outlinewidth\":0,\"ticks\":\"\"}}}],\"histogram\":[{\"marker\":{\"pattern\":{\"fillmode\":\"overlay\",\"size\":10,\"solidity\":0.2}},\"type\":\"histogram\"}],\"scattergl\":[{\"type\":\"scattergl\",\"marker\":{\"colorbar\":{\"outlinewidth\":0,\"ticks\":\"\"}}}],\"scatter3d\":[{\"type\":\"scatter3d\",\"line\":{\"colorbar\":{\"outlinewidth\":0,\"ticks\":\"\"}},\"marker\":{\"colorbar\":{\"outlinewidth\":0,\"ticks\":\"\"}}}],\"scattermapbox\":[{\"type\":\"scattermapbox\",\"marker\":{\"colorbar\":{\"outlinewidth\":0,\"ticks\":\"\"}}}],\"scatterternary\":[{\"type\":\"scatterternary\",\"marker\":{\"colorbar\":{\"outlinewidth\":0,\"ticks\":\"\"}}}],\"scattercarpet\":[{\"type\":\"scattercarpet\",\"marker\":{\"colorbar\":{\"outlinewidth\":0,\"ticks\":\"\"}}}],\"carpet\":[{\"aaxis\":{\"endlinecolor\":\"#2a3f5f\",\"gridcolor\":\"white\",\"linecolor\":\"white\",\"minorgridcolor\":\"white\",\"startlinecolor\":\"#2a3f5f\"},\"baxis\":{\"endlinecolor\":\"#2a3f5f\",\"gridcolor\":\"white\",\"linecolor\":\"white\",\"minorgridcolor\":\"white\",\"startlinecolor\":\"#2a3f5f\"},\"type\":\"carpet\"}],\"table\":[{\"cells\":{\"fill\":{\"color\":\"#EBF0F8\"},\"line\":{\"color\":\"white\"}},\"header\":{\"fill\":{\"color\":\"#C8D4E3\"},\"line\":{\"color\":\"white\"}},\"type\":\"table\"}],\"barpolar\":[{\"marker\":{\"line\":{\"color\":\"#E5ECF6\",\"width\":0.5},\"pattern\":{\"fillmode\":\"overlay\",\"size\":10,\"solidity\":0.2}},\"type\":\"barpolar\"}],\"pie\":[{\"automargin\":true,\"type\":\"pie\"}]},\"layout\":{\"autotypenumbers\":\"strict\",\"colorway\":[\"#636efa\",\"#EF553B\",\"#00cc96\",\"#ab63fa\",\"#FFA15A\",\"#19d3f3\",\"#FF6692\",\"#B6E880\",\"#FF97FF\",\"#FECB52\"],\"font\":{\"color\":\"#2a3f5f\"},\"hovermode\":\"closest\",\"hoverlabel\":{\"align\":\"left\"},\"paper_bgcolor\":\"white\",\"plot_bgcolor\":\"#E5ECF6\",\"polar\":{\"bgcolor\":\"#E5ECF6\",\"angularaxis\":{\"gridcolor\":\"white\",\"linecolor\":\"white\",\"ticks\":\"\"},\"radialaxis\":{\"gridcolor\":\"white\",\"linecolor\":\"white\",\"ticks\":\"\"}},\"ternary\":{\"bgcolor\":\"#E5ECF6\",\"aaxis\":{\"gridcolor\":\"white\",\"linecolor\":\"white\",\"ticks\":\"\"},\"baxis\":{\"gridcolor\":\"white\",\"linecolor\":\"white\",\"ticks\":\"\"},\"caxis\":{\"gridcolor\":\"white\",\"linecolor\":\"white\",\"ticks\":\"\"}},\"coloraxis\":{\"colorbar\":{\"outlinewidth\":0,\"ticks\":\"\"}},\"colorscale\":{\"sequential\":[[0.0,\"#0d0887\"],[0.1111111111111111,\"#46039f\"],[0.2222222222222222,\"#7201a8\"],[0.3333333333333333,\"#9c179e\"],[0.4444444444444444,\"#bd3786\"],[0.5555555555555556,\"#d8576b\"],[0.6666666666666666,\"#ed7953\"],[0.7777777777777778,\"#fb9f3a\"],[0.8888888888888888,\"#fdca26\"],[1.0,\"#f0f921\"]],\"sequentialminus\":[[0.0,\"#0d0887\"],[0.1111111111111111,\"#46039f\"],[0.2222222222222222,\"#7201a8\"],[0.3333333333333333,\"#9c179e\"],[0.4444444444444444,\"#bd3786\"],[0.5555555555555556,\"#d8576b\"],[0.6666666666666666,\"#ed7953\"],[0.7777777777777778,\"#fb9f3a\"],[0.8888888888888888,\"#fdca26\"],[1.0,\"#f0f921\"]],\"diverging\":[[0,\"#8e0152\"],[0.1,\"#c51b7d\"],[0.2,\"#de77ae\"],[0.3,\"#f1b6da\"],[0.4,\"#fde0ef\"],[0.5,\"#f7f7f7\"],[0.6,\"#e6f5d0\"],[0.7,\"#b8e186\"],[0.8,\"#7fbc41\"],[0.9,\"#4d9221\"],[1,\"#276419\"]]},\"xaxis\":{\"gridcolor\":\"white\",\"linecolor\":\"white\",\"ticks\":\"\",\"title\":{\"standoff\":15},\"zerolinecolor\":\"white\",\"automargin\":true,\"zerolinewidth\":2},\"yaxis\":{\"gridcolor\":\"white\",\"linecolor\":\"white\",\"ticks\":\"\",\"title\":{\"standoff\":15},\"zerolinecolor\":\"white\",\"automargin\":true,\"zerolinewidth\":2},\"scene\":{\"xaxis\":{\"backgroundcolor\":\"#E5ECF6\",\"gridcolor\":\"white\",\"linecolor\":\"white\",\"showbackground\":true,\"ticks\":\"\",\"zerolinecolor\":\"white\",\"gridwidth\":2},\"yaxis\":{\"backgroundcolor\":\"#E5ECF6\",\"gridcolor\":\"white\",\"linecolor\":\"white\",\"showbackground\":true,\"ticks\":\"\",\"zerolinecolor\":\"white\",\"gridwidth\":2},\"zaxis\":{\"backgroundcolor\":\"#E5ECF6\",\"gridcolor\":\"white\",\"linecolor\":\"white\",\"showbackground\":true,\"ticks\":\"\",\"zerolinecolor\":\"white\",\"gridwidth\":2}},\"shapedefaults\":{\"line\":{\"color\":\"#2a3f5f\"}},\"annotationdefaults\":{\"arrowcolor\":\"#2a3f5f\",\"arrowhead\":0,\"arrowwidth\":1},\"geo\":{\"bgcolor\":\"white\",\"landcolor\":\"#E5ECF6\",\"subunitcolor\":\"white\",\"showland\":true,\"showlakes\":true,\"lakecolor\":\"white\"},\"title\":{\"x\":0.05},\"mapbox\":{\"style\":\"light\"}}},\"legend\":{\"tracegroupgap\":0},\"title\":{\"text\":\"State wise yeild(Quintal\\u002fHectare) \"}},                        {\"responsive\": true}                    ).then(function(){\n",
       "                            \n",
       "var gd = document.getElementById('0c08a8e7-f5b0-408e-a656-7f54808df1ba');\n",
       "var x = new MutationObserver(function (mutations, observer) {{\n",
       "        var display = window.getComputedStyle(gd).display;\n",
       "        if (!display || display === 'none') {{\n",
       "            console.log([gd, 'removed!']);\n",
       "            Plotly.purge(gd);\n",
       "            observer.disconnect();\n",
       "        }}\n",
       "}});\n",
       "\n",
       "// Listen for the removal of the full notebook cells\n",
       "var notebookContainer = gd.closest('#notebook-container');\n",
       "if (notebookContainer) {{\n",
       "    x.observe(notebookContainer, {childList: true});\n",
       "}}\n",
       "\n",
       "// Listen for the clearing of the current output cell\n",
       "var outputEl = gd.closest('.output');\n",
       "if (outputEl) {{\n",
       "    x.observe(outputEl, {childList: true});\n",
       "}}\n",
       "\n",
       "                        })                };                });            </script>        </div>"
      ]
     },
     "metadata": {},
     "output_type": "display_data"
    }
   ],
   "source": [
    "fig=px.pie(df1,values=df1.groupby('State')[cols[-1]].sum(),names=df1.groupby('State')[cols[-1]],\n",
    "           title='State wise yeild(Quintal/Hectare) ')\n",
    "fig.show()"
   ]
  },
  {
   "cell_type": "code",
   "execution_count": null,
   "metadata": {},
   "outputs": [
    {
     "data": {
      "image/png": "[encoded data removed]",
      "text/plain": [
       "<Figure size 1440x504 with 1 Axes>"
      ]
     },
     "metadata": {},
     "output_type": "display_data"
    }
   ],
   "source": [
    "plt.figure(figsize=(20,7))\n",
    "sns.barplot(data=df2,x=\"Crop\",y=\"Production 2008-09\",color='silver')\n",
    "sns.lineplot(data=df2,x=\"Crop\",y=\"Area 2008-09\",marker='o',label='Area 2008-09')\n",
    "sns.lineplot(data=df2,x=\"Crop\",y=\"Yield 2008-09\",marker='o',label='Yield 2008-09')\n",
    "plt.xticks(rotation=90)\n",
    "plt.show()"
   ]
  },
  {
   "cell_type": "markdown",
   "metadata": {},
   "source": [
    "### Q6. Which crop has the biggest combined production?"
   ]
  },
  {
   "cell_type": "code",
   "execution_count": null,
   "metadata": {},
   "outputs": [
    {
     "data": {
      "text/html": [
       "<div>\n",
       "<style scoped>\n",
       "    .dataframe tbody tr th:only-of-type {\n",
       "        vertical-align: middle;\n",
       "    }\n",
       "\n",
       "    .dataframe tbody tr th {\n",
       "        vertical-align: top;\n",
       "    }\n",
       "\n",
       "    .dataframe thead th {\n",
       "        text-align: right;\n",
       "    }\n",
       "</style>\n",
       "<table border=\"1\" class=\"dataframe\">\n",
       "  <thead>\n",
       "    <tr style=\"text-align: right;\">\n",
       "      <th></th>\n",
       "      <th>Crop</th>\n",
       "      <th>Production 2006-07</th>\n",
       "      <th>Production 2007-08</th>\n",
       "      <th>Production 2008-09</th>\n",
       "      <th>Production 2009-10</th>\n",
       "      <th>Production 2010-11</th>\n",
       "    </tr>\n",
       "  </thead>\n",
       "  <tbody>\n",
       "    <tr>\n",
       "      <th>Rice</th>\n",
       "      <td>Rice</td>\n",
       "      <td>200.8</td>\n",
       "      <td>207.9</td>\n",
       "      <td>213.3</td>\n",
       "      <td>191.6</td>\n",
       "      <td>206.4</td>\n",
       "    </tr>\n",
       "    <tr>\n",
       "      <th>Wheat</th>\n",
       "      <td>Wheat</td>\n",
       "      <td>131.6</td>\n",
       "      <td>136.4</td>\n",
       "      <td>140.1</td>\n",
       "      <td>140.3</td>\n",
       "      <td>150.8</td>\n",
       "    </tr>\n",
       "    <tr>\n",
       "      <th>Jowar</th>\n",
       "      <td>Jowar</td>\n",
       "      <td>124.3</td>\n",
       "      <td>137.8</td>\n",
       "      <td>126.0</td>\n",
       "      <td>116.5</td>\n",
       "      <td>121.8</td>\n",
       "    </tr>\n",
       "    <tr>\n",
       "      <th>Bajra</th>\n",
       "      <td>Bajra</td>\n",
       "      <td>136.4</td>\n",
       "      <td>161.5</td>\n",
       "      <td>143.9</td>\n",
       "      <td>105.4</td>\n",
       "      <td>167.9</td>\n",
       "    </tr>\n",
       "    <tr>\n",
       "      <th>Maize</th>\n",
       "      <td>Maize</td>\n",
       "      <td>198.8</td>\n",
       "      <td>249.6</td>\n",
       "      <td>259.8</td>\n",
       "      <td>220.1</td>\n",
       "      <td>286.0</td>\n",
       "    </tr>\n",
       "    <tr>\n",
       "      <th>Ragi</th>\n",
       "      <td>Ragi</td>\n",
       "      <td>56.1</td>\n",
       "      <td>83.6</td>\n",
       "      <td>79.3</td>\n",
       "      <td>73.4</td>\n",
       "      <td>85.2</td>\n",
       "    </tr>\n",
       "    <tr>\n",
       "      <th>Small millets</th>\n",
       "      <td>Small millets</td>\n",
       "      <td>53.9</td>\n",
       "      <td>61.9</td>\n",
       "      <td>50.0</td>\n",
       "      <td>42.9</td>\n",
       "      <td>82.0</td>\n",
       "    </tr>\n",
       "    <tr>\n",
       "      <th>Barley</th>\n",
       "      <td>Barley</td>\n",
       "      <td>88.1</td>\n",
       "      <td>79.3</td>\n",
       "      <td>112.0</td>\n",
       "      <td>89.9</td>\n",
       "      <td>110.3</td>\n",
       "    </tr>\n",
       "    <tr>\n",
       "      <th>Coarse Cereals</th>\n",
       "      <td>Coarse Cereals</td>\n",
       "      <td>138.5</td>\n",
       "      <td>166.4</td>\n",
       "      <td>163.5</td>\n",
       "      <td>137.0</td>\n",
       "      <td>178.4</td>\n",
       "    </tr>\n",
       "    <tr>\n",
       "      <th>Cereals</th>\n",
       "      <td>Cereals</td>\n",
       "      <td>164.1</td>\n",
       "      <td>174.6</td>\n",
       "      <td>177.7</td>\n",
       "      <td>164.4</td>\n",
       "      <td>183.1</td>\n",
       "    </tr>\n",
       "    <tr>\n",
       "      <th>Gram</th>\n",
       "      <td>Gram</td>\n",
       "      <td>140.6</td>\n",
       "      <td>127.6</td>\n",
       "      <td>156.5</td>\n",
       "      <td>165.9</td>\n",
       "      <td>182.5</td>\n",
       "    </tr>\n",
       "    <tr>\n",
       "      <th>Arhar</th>\n",
       "      <td>Arhar</td>\n",
       "      <td>97.0</td>\n",
       "      <td>128.9</td>\n",
       "      <td>94.9</td>\n",
       "      <td>103.3</td>\n",
       "      <td>119.9</td>\n",
       "    </tr>\n",
       "    <tr>\n",
       "      <th>Other Pulses</th>\n",
       "      <td>Other Pulses</td>\n",
       "      <td>139.1</td>\n",
       "      <td>148.9</td>\n",
       "      <td>131.4</td>\n",
       "      <td>118.4</td>\n",
       "      <td>179.5</td>\n",
       "    </tr>\n",
       "    <tr>\n",
       "      <th>Groundnut</th>\n",
       "      <td>Groundnut</td>\n",
       "      <td>115.2</td>\n",
       "      <td>217.5</td>\n",
       "      <td>169.8</td>\n",
       "      <td>128.6</td>\n",
       "      <td>195.7</td>\n",
       "    </tr>\n",
       "    <tr>\n",
       "      <th>Sesamum</th>\n",
       "      <td>Sesamum</td>\n",
       "      <td>95.5</td>\n",
       "      <td>116.8</td>\n",
       "      <td>98.8</td>\n",
       "      <td>90.8</td>\n",
       "      <td>137.9</td>\n",
       "    </tr>\n",
       "    <tr>\n",
       "      <th>Rapeseed &amp;Mustard</th>\n",
       "      <td>Rapeseed &amp;Mustard</td>\n",
       "      <td>138.7</td>\n",
       "      <td>108.8</td>\n",
       "      <td>134.3</td>\n",
       "      <td>123.2</td>\n",
       "      <td>152.5</td>\n",
       "    </tr>\n",
       "    <tr>\n",
       "      <th>Linseed</th>\n",
       "      <td>Linseed</td>\n",
       "      <td>55.9</td>\n",
       "      <td>54.4</td>\n",
       "      <td>56.4</td>\n",
       "      <td>51.2</td>\n",
       "      <td>48.8</td>\n",
       "    </tr>\n",
       "    <tr>\n",
       "      <th>Castor seed</th>\n",
       "      <td>Castor seed</td>\n",
       "      <td>124.7</td>\n",
       "      <td>172.3</td>\n",
       "      <td>191.6</td>\n",
       "      <td>165.0</td>\n",
       "      <td>220.9</td>\n",
       "    </tr>\n",
       "    <tr>\n",
       "      <th>Safflower</th>\n",
       "      <td>Safflower</td>\n",
       "      <td>67.3</td>\n",
       "      <td>62.8</td>\n",
       "      <td>53.0</td>\n",
       "      <td>50.1</td>\n",
       "      <td>42.1</td>\n",
       "    </tr>\n",
       "    <tr>\n",
       "      <th>Niger seed</th>\n",
       "      <td>Niger seed</td>\n",
       "      <td>65.1</td>\n",
       "      <td>59.0</td>\n",
       "      <td>63.0</td>\n",
       "      <td>53.8</td>\n",
       "      <td>58.0</td>\n",
       "    </tr>\n",
       "    <tr>\n",
       "      <th>Sunflower</th>\n",
       "      <td>Sunflower</td>\n",
       "      <td>161.3</td>\n",
       "      <td>192.3</td>\n",
       "      <td>152.2</td>\n",
       "      <td>111.8</td>\n",
       "      <td>85.6</td>\n",
       "    </tr>\n",
       "    <tr>\n",
       "      <th>Soyabean</th>\n",
       "      <td>Soyabean</td>\n",
       "      <td>253.2</td>\n",
       "      <td>313.8</td>\n",
       "      <td>283.4</td>\n",
       "      <td>285.1</td>\n",
       "      <td>364.4</td>\n",
       "    </tr>\n",
       "    <tr>\n",
       "      <th>Nine Oilseeds</th>\n",
       "      <td>Nine Oilseeds</td>\n",
       "      <td>147.1</td>\n",
       "      <td>180.2</td>\n",
       "      <td>167.9</td>\n",
       "      <td>150.7</td>\n",
       "      <td>196.7</td>\n",
       "    </tr>\n",
       "    <tr>\n",
       "      <th>Coconut</th>\n",
       "      <td>Coconut</td>\n",
       "      <td>142.7</td>\n",
       "      <td>91.4</td>\n",
       "      <td>91.4</td>\n",
       "      <td>97.5</td>\n",
       "      <td>97.7</td>\n",
       "    </tr>\n",
       "    <tr>\n",
       "      <th>Cotton seed</th>\n",
       "      <td>Cotton seed</td>\n",
       "      <td>186.1</td>\n",
       "      <td>212.8</td>\n",
       "      <td>183.2</td>\n",
       "      <td>197.5</td>\n",
       "      <td>271.3</td>\n",
       "    </tr>\n",
       "    <tr>\n",
       "      <th>Cotton(lint)</th>\n",
       "      <td>Cotton(lint)</td>\n",
       "      <td>213.1</td>\n",
       "      <td>243.8</td>\n",
       "      <td>209.8</td>\n",
       "      <td>226.2</td>\n",
       "      <td>310.8</td>\n",
       "    </tr>\n",
       "    <tr>\n",
       "      <th>Jute</th>\n",
       "      <td>Jute</td>\n",
       "      <td>220.3</td>\n",
       "      <td>218.3</td>\n",
       "      <td>205.8</td>\n",
       "      <td>239.8</td>\n",
       "      <td>213.8</td>\n",
       "    </tr>\n",
       "    <tr>\n",
       "      <th>Mesta</th>\n",
       "      <td>Mesta</td>\n",
       "      <td>81.7</td>\n",
       "      <td>84.6</td>\n",
       "      <td>62.4</td>\n",
       "      <td>50.1</td>\n",
       "      <td>52.2</td>\n",
       "    </tr>\n",
       "    <tr>\n",
       "      <th>Jute &amp; Mesta</th>\n",
       "      <td>Jute &amp; Mesta</td>\n",
       "      <td>200.7</td>\n",
       "      <td>199.6</td>\n",
       "      <td>184.5</td>\n",
       "      <td>210.4</td>\n",
       "      <td>189.1</td>\n",
       "    </tr>\n",
       "    <tr>\n",
       "      <th>Sannhamp</th>\n",
       "      <td>Sannhamp</td>\n",
       "      <td>97.9</td>\n",
       "      <td>93.0</td>\n",
       "      <td>87.8</td>\n",
       "      <td>69.0</td>\n",
       "      <td>109.9</td>\n",
       "    </tr>\n",
       "    <tr>\n",
       "      <th>Tea</th>\n",
       "      <td>Tea</td>\n",
       "      <td>132.2</td>\n",
       "      <td>132.8</td>\n",
       "      <td>132.0</td>\n",
       "      <td>132.0</td>\n",
       "      <td>132.0</td>\n",
       "    </tr>\n",
       "    <tr>\n",
       "      <th>Coffee</th>\n",
       "      <td>Coffee</td>\n",
       "      <td>138.0</td>\n",
       "      <td>139.8</td>\n",
       "      <td>139.9</td>\n",
       "      <td>154.5</td>\n",
       "      <td>161.1</td>\n",
       "    </tr>\n",
       "    <tr>\n",
       "      <th>Rubber</th>\n",
       "      <td>Rubber</td>\n",
       "      <td>215.5</td>\n",
       "      <td>208.6</td>\n",
       "      <td>216.5</td>\n",
       "      <td>210.1</td>\n",
       "      <td>210.1</td>\n",
       "    </tr>\n",
       "    <tr>\n",
       "      <th>Black pepper</th>\n",
       "      <td>Black pepper</td>\n",
       "      <td>134.2</td>\n",
       "      <td>91.5</td>\n",
       "      <td>92.2</td>\n",
       "      <td>99.2</td>\n",
       "      <td>101.1</td>\n",
       "    </tr>\n",
       "    <tr>\n",
       "      <th>Dry chilies</th>\n",
       "      <td>Dry chilies</td>\n",
       "      <td>163.5</td>\n",
       "      <td>170.8</td>\n",
       "      <td>167.1</td>\n",
       "      <td>158.3</td>\n",
       "      <td>160.9</td>\n",
       "    </tr>\n",
       "    <tr>\n",
       "      <th>Dry ginger</th>\n",
       "      <td>Dry ginger</td>\n",
       "      <td>206.3</td>\n",
       "      <td>200.6</td>\n",
       "      <td>199.3</td>\n",
       "      <td>202.0</td>\n",
       "      <td>368.1</td>\n",
       "    </tr>\n",
       "    <tr>\n",
       "      <th>Turmeric</th>\n",
       "      <td>Turmeric</td>\n",
       "      <td>158.6</td>\n",
       "      <td>160.1</td>\n",
       "      <td>165.5</td>\n",
       "      <td>159.8</td>\n",
       "      <td>200.2</td>\n",
       "    </tr>\n",
       "    <tr>\n",
       "      <th>Arecanut</th>\n",
       "      <td>Arecanut</td>\n",
       "      <td>182.5</td>\n",
       "      <td>184.3</td>\n",
       "      <td>185.5</td>\n",
       "      <td>184.3</td>\n",
       "      <td>184.3</td>\n",
       "    </tr>\n",
       "    <tr>\n",
       "      <th>Cardamom</th>\n",
       "      <td>Cardamom</td>\n",
       "      <td>159.2</td>\n",
       "      <td>135.8</td>\n",
       "      <td>157.1</td>\n",
       "      <td>159.2</td>\n",
       "      <td>162.2</td>\n",
       "    </tr>\n",
       "    <tr>\n",
       "      <th>Coriander</th>\n",
       "      <td>Coriander</td>\n",
       "      <td>126.4</td>\n",
       "      <td>167.9</td>\n",
       "      <td>131.3</td>\n",
       "      <td>128.5</td>\n",
       "      <td>261.3</td>\n",
       "    </tr>\n",
       "    <tr>\n",
       "      <th>Garlic</th>\n",
       "      <td>Garlic</td>\n",
       "      <td>226.2</td>\n",
       "      <td>311.3</td>\n",
       "      <td>242.1</td>\n",
       "      <td>243.0</td>\n",
       "      <td>308.2</td>\n",
       "    </tr>\n",
       "    <tr>\n",
       "      <th>Potato</th>\n",
       "      <td>Potato</td>\n",
       "      <td>135.7</td>\n",
       "      <td>174.2</td>\n",
       "      <td>210.5</td>\n",
       "      <td>223.8</td>\n",
       "      <td>259.1</td>\n",
       "    </tr>\n",
       "    <tr>\n",
       "      <th>Tapioca</th>\n",
       "      <td>Tapioca</td>\n",
       "      <td>146.4</td>\n",
       "      <td>151.5</td>\n",
       "      <td>167.1</td>\n",
       "      <td>140.0</td>\n",
       "      <td>140.3</td>\n",
       "    </tr>\n",
       "    <tr>\n",
       "      <th>Sweet potato</th>\n",
       "      <td>Sweet potato</td>\n",
       "      <td>81.1</td>\n",
       "      <td>79.3</td>\n",
       "      <td>94.2</td>\n",
       "      <td>92.1</td>\n",
       "      <td>88.1</td>\n",
       "    </tr>\n",
       "    <tr>\n",
       "      <th>Onion</th>\n",
       "      <td>Onion</td>\n",
       "      <td>240.5</td>\n",
       "      <td>247.3</td>\n",
       "      <td>367.1</td>\n",
       "      <td>329.1</td>\n",
       "      <td>409.1</td>\n",
       "    </tr>\n",
       "    <tr>\n",
       "      <th>Banana</th>\n",
       "      <td>Banana</td>\n",
       "      <td>189.3</td>\n",
       "      <td>201.1</td>\n",
       "      <td>298.8</td>\n",
       "      <td>301.7</td>\n",
       "      <td>339.4</td>\n",
       "    </tr>\n",
       "    <tr>\n",
       "      <th>Sugarcane</th>\n",
       "      <td>Sugarcane</td>\n",
       "      <td>149.8</td>\n",
       "      <td>146.7</td>\n",
       "      <td>120.1</td>\n",
       "      <td>123.2</td>\n",
       "      <td>144.3</td>\n",
       "    </tr>\n",
       "    <tr>\n",
       "      <th>Tobacco</th>\n",
       "      <td>Tobacco</td>\n",
       "      <td>88.1</td>\n",
       "      <td>83.6</td>\n",
       "      <td>96.4</td>\n",
       "      <td>105.3</td>\n",
       "      <td>140.9</td>\n",
       "    </tr>\n",
       "  </tbody>\n",
       "</table>\n",
       "</div>"
      ],
      "text/plain": [
       "                                Crop  Production 2006-07  Production 2007-08  \\\n",
       "Rice                            Rice               200.8               207.9   \n",
       "Wheat                          Wheat               131.6               136.4   \n",
       "Jowar                          Jowar               124.3               137.8   \n",
       "Bajra                          Bajra               136.4               161.5   \n",
       "Maize                          Maize               198.8               249.6   \n",
       "Ragi                            Ragi                56.1                83.6   \n",
       "Small millets          Small millets                53.9                61.9   \n",
       "Barley                        Barley                88.1                79.3   \n",
       "Coarse Cereals        Coarse Cereals               138.5               166.4   \n",
       "Cereals                      Cereals               164.1               174.6   \n",
       "Gram                            Gram               140.6               127.6   \n",
       "Arhar                          Arhar                97.0               128.9   \n",
       "Other Pulses            Other Pulses               139.1               148.9   \n",
       "Groundnut                  Groundnut               115.2               217.5   \n",
       "Sesamum                      Sesamum                95.5               116.8   \n",
       "Rapeseed &Mustard  Rapeseed &Mustard               138.7               108.8   \n",
       "Linseed                      Linseed                55.9                54.4   \n",
       "Castor seed              Castor seed               124.7               172.3   \n",
       "Safflower                  Safflower                67.3                62.8   \n",
       "Niger seed                Niger seed                65.1                59.0   \n",
       "Sunflower                  Sunflower               161.3               192.3   \n",
       "Soyabean                    Soyabean               253.2               313.8   \n",
       "Nine Oilseeds          Nine Oilseeds               147.1               180.2   \n",
       "Coconut                      Coconut               142.7                91.4   \n",
       "Cotton seed              Cotton seed               186.1               212.8   \n",
       "Cotton(lint)            Cotton(lint)               213.1               243.8   \n",
       "Jute                            Jute               220.3               218.3   \n",
       "Mesta                          Mesta                81.7                84.6   \n",
       "Jute & Mesta            Jute & Mesta               200.7               199.6   \n",
       "Sannhamp                   Sannhamp                 97.9                93.0   \n",
       "Tea                             Tea                132.2               132.8   \n",
       "Coffee                       Coffee                138.0               139.8   \n",
       "Rubber                       Rubber                215.5               208.6   \n",
       "Black pepper            Black pepper               134.2                91.5   \n",
       "Dry chilies             Dry chilies                163.5               170.8   \n",
       "Dry ginger               Dry ginger                206.3               200.6   \n",
       "Turmeric                   Turmeric                158.6               160.1   \n",
       "Arecanut                  Arecanut                 182.5               184.3   \n",
       "Cardamom                   Cardamom                159.2               135.8   \n",
       "Coriander                  Coriander               126.4               167.9   \n",
       "Garlic                      Garlic                 226.2               311.3   \n",
       "Potato                        Potato               135.7               174.2   \n",
       "Tapioca                      Tapioca               146.4               151.5   \n",
       "Sweet potato          Sweet potato                  81.1                79.3   \n",
       "Onion                          Onion               240.5               247.3   \n",
       "Banana                      Banana                 189.3               201.1   \n",
       "Sugarcane                  Sugarcane               149.8               146.7   \n",
       "Tobacco                      Tobacco                88.1                83.6   \n",
       "\n",
       "                   Production 2008-09  Production 2009-10  Production 2010-11  \n",
       "Rice                            213.3               191.6               206.4  \n",
       "Wheat                           140.1               140.3               150.8  \n",
       "Jowar                           126.0               116.5               121.8  \n",
       "Bajra                           143.9               105.4               167.9  \n",
       "Maize                           259.8               220.1               286.0  \n",
       "Ragi                             79.3                73.4                85.2  \n",
       "Small millets                    50.0                42.9                82.0  \n",
       "Barley                          112.0                89.9               110.3  \n",
       "Coarse Cereals                  163.5               137.0               178.4  \n",
       "Cereals                         177.7               164.4               183.1  \n",
       "Gram                            156.5               165.9               182.5  \n",
       "Arhar                            94.9               103.3               119.9  \n",
       "Other Pulses                    131.4               118.4               179.5  \n",
       "Groundnut                       169.8               128.6               195.7  \n",
       "Sesamum                          98.8                90.8               137.9  \n",
       "Rapeseed &Mustard               134.3               123.2               152.5  \n",
       "Linseed                          56.4                51.2                48.8  \n",
       "Castor seed                     191.6               165.0               220.9  \n",
       "Safflower                        53.0                50.1                42.1  \n",
       "Niger seed                       63.0                53.8                58.0  \n",
       "Sunflower                       152.2               111.8                85.6  \n",
       "Soyabean                        283.4               285.1               364.4  \n",
       "Nine Oilseeds                   167.9               150.7               196.7  \n",
       "Coconut                          91.4                97.5                97.7  \n",
       "Cotton seed                     183.2               197.5               271.3  \n",
       "Cotton(lint)                    209.8               226.2               310.8  \n",
       "Jute                            205.8               239.8               213.8  \n",
       "Mesta                            62.4                50.1                52.2  \n",
       "Jute & Mesta                    184.5               210.4               189.1  \n",
       "Sannhamp                         87.8                69.0               109.9  \n",
       "Tea                             132.0               132.0               132.0  \n",
       "Coffee                          139.9               154.5               161.1  \n",
       "Rubber                          216.5               210.1               210.1  \n",
       "Black pepper                     92.2                99.2               101.1  \n",
       "Dry chilies                     167.1               158.3               160.9  \n",
       "Dry ginger                      199.3               202.0               368.1  \n",
       "Turmeric                        165.5               159.8               200.2  \n",
       "Arecanut                        185.5               184.3               184.3  \n",
       "Cardamom                        157.1               159.2               162.2  \n",
       "Coriander                       131.3               128.5               261.3  \n",
       "Garlic                          242.1               243.0               308.2  \n",
       "Potato                          210.5               223.8               259.1  \n",
       "Tapioca                         167.1               140.0               140.3  \n",
       "Sweet potato                     94.2                92.1                88.1  \n",
       "Onion                           367.1               329.1               409.1  \n",
       "Banana                          298.8               301.7               339.4  \n",
       "Sugarcane                       120.1               123.2               144.3  \n",
       "Tobacco                          96.4               105.3               140.9  "
      ]
     },
     "execution_count": 41,
     "metadata": {},
     "output_type": "execute_result"
    }
   ],
   "source": [
    "t=df2[['Crop','Production 2006-07','Production 2007-08','Production 2008-09','Production 2009-10','Production 2010-11']]\n",
    "t.rename(index=t['Crop'],inplace=True)\n",
    "t"
   ]
  },
  {
   "cell_type": "code",
   "execution_count": null,
   "metadata": {},
   "outputs": [
    {
     "name": "stderr",
     "output_type": "stream",
     "text": [
      "C:\\Users\\adity\\anaconda3\\lib\\site-packages\\pandas\\plotting\\_matplotlib\\core.py:226: UserWarning:\n",
      "\n",
      "'color' and 'colormap' cannot be used simultaneously. Using 'color'\n",
      "\n",
      "C:\\Users\\adity\\anaconda3\\lib\\site-packages\\pandas\\plotting\\_matplotlib\\style.py:27: UserWarning:\n",
      "\n",
      "'color' and 'colormap' cannot be used simultaneously. Using 'color'\n",
      "\n"
     ]
    },
    {
     "data": {
      "image/png": "[encoded data removed]",
      "text/plain": [
       "<Figure size 864x432 with 1 Axes>"
      ]
     },
     "metadata": {},
     "output_type": "display_data"
    }
   ],
   "source": [
    "t.plot(kind='bar',stacked= True,figsize=(12,6),color=sns.color_palette('Pastel1'),cmap=True)\n",
    "plt.title('Total Production of Crops in 2006-2011 period')\n",
    "plt.xlabel('Crops')\n",
    "plt.ylabel('Production')\n",
    "plt.xticks(fontsize=10)\n",
    "plt.show()"
   ]
  },
  {
   "cell_type": "code",
   "execution_count": null,
   "metadata": {},
   "outputs": [
    {
     "data": {
      "text/html": [
       "<div>\n",
       "<style scoped>\n",
       "    .dataframe tbody tr th:only-of-type {\n",
       "        vertical-align: middle;\n",
       "    }\n",
       "\n",
       "    .dataframe tbody tr th {\n",
       "        vertical-align: top;\n",
       "    }\n",
       "\n",
       "    .dataframe thead th {\n",
       "        text-align: right;\n",
       "    }\n",
       "</style>\n",
       "<table border=\"1\" class=\"dataframe\">\n",
       "  <thead>\n",
       "    <tr style=\"text-align: right;\">\n",
       "      <th></th>\n",
       "      <th></th>\n",
       "      <th>Yield (Quintal/ Hectare)</th>\n",
       "    </tr>\n",
       "    <tr>\n",
       "      <th>Crop</th>\n",
       "      <th>State</th>\n",
       "      <th></th>\n",
       "    </tr>\n",
       "  </thead>\n",
       "  <tbody>\n",
       "    <tr>\n",
       "      <th rowspan=\"5\" valign=\"top\">ARHAR</th>\n",
       "      <th>Andhra Pradesh</th>\n",
       "      <td>6.42</td>\n",
       "    </tr>\n",
       "    <tr>\n",
       "      <th>Gujarat</th>\n",
       "      <td>9.59</td>\n",
       "    </tr>\n",
       "    <tr>\n",
       "      <th>Karnataka</th>\n",
       "      <td>7.47</td>\n",
       "    </tr>\n",
       "    <tr>\n",
       "      <th>Maharashtra</th>\n",
       "      <td>8.72</td>\n",
       "    </tr>\n",
       "    <tr>\n",
       "      <th>Uttar Pradesh</th>\n",
       "      <td>9.83</td>\n",
       "    </tr>\n",
       "    <tr>\n",
       "      <th rowspan=\"5\" valign=\"top\">COTTON</th>\n",
       "      <th>Andhra Pradesh</th>\n",
       "      <td>17.83</td>\n",
       "    </tr>\n",
       "    <tr>\n",
       "      <th>Gujarat</th>\n",
       "      <td>19.05</td>\n",
       "    </tr>\n",
       "    <tr>\n",
       "      <th>Haryana</th>\n",
       "      <td>19.90</td>\n",
       "    </tr>\n",
       "    <tr>\n",
       "      <th>Maharashtra</th>\n",
       "      <td>12.69</td>\n",
       "    </tr>\n",
       "    <tr>\n",
       "      <th>Punjab</th>\n",
       "      <td>24.39</td>\n",
       "    </tr>\n",
       "    <tr>\n",
       "      <th rowspan=\"5\" valign=\"top\">GRAM</th>\n",
       "      <th>Andhra Pradesh</th>\n",
       "      <td>16.69</td>\n",
       "    </tr>\n",
       "    <tr>\n",
       "      <th>Madhya Pradesh</th>\n",
       "      <td>10.29</td>\n",
       "    </tr>\n",
       "    <tr>\n",
       "      <th>Maharashtra</th>\n",
       "      <td>8.05</td>\n",
       "    </tr>\n",
       "    <tr>\n",
       "      <th>Rajasthan</th>\n",
       "      <td>6.83</td>\n",
       "    </tr>\n",
       "    <tr>\n",
       "      <th>Uttar Pradesh</th>\n",
       "      <td>10.93</td>\n",
       "    </tr>\n",
       "    <tr>\n",
       "      <th rowspan=\"5\" valign=\"top\">GROUNDNUT</th>\n",
       "      <th>Andhra Pradesh</th>\n",
       "      <td>11.97</td>\n",
       "    </tr>\n",
       "    <tr>\n",
       "      <th>Gujarat</th>\n",
       "      <td>13.45</td>\n",
       "    </tr>\n",
       "    <tr>\n",
       "      <th>Karnataka</th>\n",
       "      <td>4.71</td>\n",
       "    </tr>\n",
       "    <tr>\n",
       "      <th>Maharashtra</th>\n",
       "      <td>9.33</td>\n",
       "    </tr>\n",
       "    <tr>\n",
       "      <th>Tamil Nadu</th>\n",
       "      <td>11.98</td>\n",
       "    </tr>\n",
       "    <tr>\n",
       "      <th rowspan=\"5\" valign=\"top\">MAIZE</th>\n",
       "      <th>Andhra Pradesh</th>\n",
       "      <td>42.68</td>\n",
       "    </tr>\n",
       "    <tr>\n",
       "      <th>Bihar</th>\n",
       "      <td>42.95</td>\n",
       "    </tr>\n",
       "    <tr>\n",
       "      <th>Karnataka</th>\n",
       "      <td>31.10</td>\n",
       "    </tr>\n",
       "    <tr>\n",
       "      <th>Rajasthan</th>\n",
       "      <td>23.56</td>\n",
       "    </tr>\n",
       "    <tr>\n",
       "      <th>Uttar Pradesh</th>\n",
       "      <td>13.70</td>\n",
       "    </tr>\n",
       "    <tr>\n",
       "      <th rowspan=\"5\" valign=\"top\">MOONG</th>\n",
       "      <th>Andhra Pradesh</th>\n",
       "      <td>5.90</td>\n",
       "    </tr>\n",
       "    <tr>\n",
       "      <th>Karnataka</th>\n",
       "      <td>1.32</td>\n",
       "    </tr>\n",
       "    <tr>\n",
       "      <th>Maharashtra</th>\n",
       "      <td>6.70</td>\n",
       "    </tr>\n",
       "    <tr>\n",
       "      <th>Orissa</th>\n",
       "      <td>3.01</td>\n",
       "    </tr>\n",
       "    <tr>\n",
       "      <th>Rajasthan</th>\n",
       "      <td>4.05</td>\n",
       "    </tr>\n",
       "    <tr>\n",
       "      <th rowspan=\"5\" valign=\"top\">PADDY</th>\n",
       "      <th>Andhra Pradesh</th>\n",
       "      <td>56.00</td>\n",
       "    </tr>\n",
       "    <tr>\n",
       "      <th>Orissa</th>\n",
       "      <td>32.42</td>\n",
       "    </tr>\n",
       "    <tr>\n",
       "      <th>Punjab</th>\n",
       "      <td>67.41</td>\n",
       "    </tr>\n",
       "    <tr>\n",
       "      <th>Uttar Pradesh</th>\n",
       "      <td>36.61</td>\n",
       "    </tr>\n",
       "    <tr>\n",
       "      <th>West Bengal</th>\n",
       "      <td>39.04</td>\n",
       "    </tr>\n",
       "    <tr>\n",
       "      <th rowspan=\"5\" valign=\"top\">RAPESEED AND MUSTARD</th>\n",
       "      <th>Gujarat</th>\n",
       "      <td>11.61</td>\n",
       "    </tr>\n",
       "    <tr>\n",
       "      <th>Haryana</th>\n",
       "      <td>19.94</td>\n",
       "    </tr>\n",
       "    <tr>\n",
       "      <th>Madhya Pradesh</th>\n",
       "      <td>12.94</td>\n",
       "    </tr>\n",
       "    <tr>\n",
       "      <th>Rajasthan</th>\n",
       "      <td>13.54</td>\n",
       "    </tr>\n",
       "    <tr>\n",
       "      <th>Uttar Pradesh</th>\n",
       "      <td>13.57</td>\n",
       "    </tr>\n",
       "    <tr>\n",
       "      <th rowspan=\"5\" valign=\"top\">SUGARCANE</th>\n",
       "      <th>Andhra Pradesh</th>\n",
       "      <td>757.92</td>\n",
       "    </tr>\n",
       "    <tr>\n",
       "      <th>Karnataka</th>\n",
       "      <td>986.21</td>\n",
       "    </tr>\n",
       "    <tr>\n",
       "      <th>Maharashtra</th>\n",
       "      <td>744.01</td>\n",
       "    </tr>\n",
       "    <tr>\n",
       "      <th>Tamil Nadu</th>\n",
       "      <td>1015.45</td>\n",
       "    </tr>\n",
       "    <tr>\n",
       "      <th>Uttar Pradesh</th>\n",
       "      <td>448.89</td>\n",
       "    </tr>\n",
       "    <tr>\n",
       "      <th rowspan=\"4\" valign=\"top\">WHEAT</th>\n",
       "      <th>Madhya Pradesh</th>\n",
       "      <td>23.59</td>\n",
       "    </tr>\n",
       "    <tr>\n",
       "      <th>Punjab</th>\n",
       "      <td>39.83</td>\n",
       "    </tr>\n",
       "    <tr>\n",
       "      <th>Rajasthan</th>\n",
       "      <td>37.19</td>\n",
       "    </tr>\n",
       "    <tr>\n",
       "      <th>Uttar Pradesh</th>\n",
       "      <td>34.99</td>\n",
       "    </tr>\n",
       "  </tbody>\n",
       "</table>\n",
       "</div>"
      ],
      "text/plain": [
       "                                     Yield (Quintal/ Hectare) \n",
       "Crop                 State                                    \n",
       "ARHAR                Andhra Pradesh                       6.42\n",
       "                     Gujarat                              9.59\n",
       "                     Karnataka                            7.47\n",
       "                     Maharashtra                          8.72\n",
       "                     Uttar Pradesh                        9.83\n",
       "COTTON               Andhra Pradesh                      17.83\n",
       "                     Gujarat                             19.05\n",
       "                     Haryana                             19.90\n",
       "                     Maharashtra                         12.69\n",
       "                     Punjab                              24.39\n",
       "GRAM                 Andhra Pradesh                      16.69\n",
       "                     Madhya Pradesh                      10.29\n",
       "                     Maharashtra                          8.05\n",
       "                     Rajasthan                            6.83\n",
       "                     Uttar Pradesh                       10.93\n",
       "GROUNDNUT            Andhra Pradesh                      11.97\n",
       "                     Gujarat                             13.45\n",
       "                     Karnataka                            4.71\n",
       "                     Maharashtra                          9.33\n",
       "                     Tamil Nadu                          11.98\n",
       "MAIZE                Andhra Pradesh                      42.68\n",
       "                     Bihar                               42.95\n",
       "                     Karnataka                           31.10\n",
       "                     Rajasthan                           23.56\n",
       "                     Uttar Pradesh                       13.70\n",
       "MOONG                Andhra Pradesh                       5.90\n",
       "                     Karnataka                            1.32\n",
       "                     Maharashtra                          6.70\n",
       "                     Orissa                               3.01\n",
       "                     Rajasthan                            4.05\n",
       "PADDY                Andhra Pradesh                      56.00\n",
       "                     Orissa                              32.42\n",
       "                     Punjab                              67.41\n",
       "                     Uttar Pradesh                       36.61\n",
       "                     West Bengal                         39.04\n",
       "RAPESEED AND MUSTARD Gujarat                             11.61\n",
       "                     Haryana                             19.94\n",
       "                     Madhya Pradesh                      12.94\n",
       "                     Rajasthan                           13.54\n",
       "                     Uttar Pradesh                       13.57\n",
       "SUGARCANE            Andhra Pradesh                     757.92\n",
       "                     Karnataka                          986.21\n",
       "                     Maharashtra                        744.01\n",
       "                     Tamil Nadu                        1015.45\n",
       "                     Uttar Pradesh                      448.89\n",
       "WHEAT                Madhya Pradesh                      23.59\n",
       "                     Punjab                              39.83\n",
       "                     Rajasthan                           37.19\n",
       "                     Uttar Pradesh                       34.99"
      ]
     },
     "execution_count": 43,
     "metadata": {},
     "output_type": "execute_result"
    }
   ],
   "source": [
    "e=df1.groupby(['Crop','State'])['Yield (Quintal/ Hectare) '].sum()\n",
    "e=pd.DataFrame(e)\n",
    "e"
   ]
  },
  {
   "cell_type": "markdown",
   "metadata": {},
   "source": [
    "### Q7. What is the states' best yield capacity crop?"
   ]
  },
  {
   "cell_type": "code",
   "execution_count": null,
   "metadata": {},
   "outputs": [
    {
     "data": {
      "application/vnd.plotly.v1+json": {
       "config": {
        "plotlyServerURL": "https://plot.ly"
       },
       "data": [
        {
         "branchvalues": "total",
         "customdata": [
          [
           6.42
          ],
          [
           9.59
          ],
          [
           7.47
          ],
          [
           8.72
          ],
          [
           9.83
          ],
          [
           17.83
          ],
          [
           19.05
          ],
          [
           19.9
          ],
          [
           12.69
          ],
          [
           24.39
          ],
          [
           16.69
          ],
          [
           10.29
          ],
          [
           8.05
          ],
          [
           6.83
          ],
          [
           10.93
          ],
          [
           11.97
          ],
          [
           13.45
          ],
          [
           4.71
          ],
          [
           9.33
          ],
          [
           11.98
          ],
          [
           42.68
          ],
          [
           42.95
          ],
          [
           31.1
          ],
          [
           23.56
          ],
          [
           13.7
          ],
          [
           5.9
          ],
          [
           1.32
          ],
          [
           6.7
          ],
          [
           3.01
          ],
          [
           4.05
          ],
          [
           56
          ],
          [
           32.42
          ],
          [
           67.41
          ],
          [
           36.61
          ],
          [
           39.04
          ],
          [
           11.61
          ],
          [
           19.94
          ],
          [
           12.94
          ],
          [
           13.54
          ],
          [
           13.57
          ],
          [
           757.92
          ],
          [
           986.21
          ],
          [
           744.01
          ],
          [
           1015.45
          ],
          [
           448.89
          ],
          [
           23.59
          ],
          [
           39.83
          ],
          [
           37.19
          ],
          [
           34.99
          ],
          [
           915.41
          ],
          [
           42.95
          ],
          [
           53.7
          ],
          [
           39.84
          ],
          [
           1030.81
          ],
          [
           46.81999999999999
          ],
          [
           789.5
          ],
          [
           35.43
          ],
          [
           131.63
          ],
          [
           85.16999999999999
          ],
          [
           1027.43
          ],
          [
           568.52
          ],
          [
           39.04
          ]
         ],
         "domain": {
          "x": [
           0,
           1
          ],
          "y": [
           0,
           1
          ]
         },
         "hovertemplate": "labels=%{label}<br>Yield (Quintal/ Hectare) =%{customdata[0]}<br>parent=%{parent}<br>id=%{id}<extra></extra>",
         "ids": [
          "Andhra Pradesh/ARHAR",
          "Gujarat/ARHAR",
          "Karnataka/ARHAR",
          "Maharashtra/ARHAR",
          "Uttar Pradesh/ARHAR",
          "Andhra Pradesh/COTTON",
          "Gujarat/COTTON",
          "Haryana/COTTON",
          "Maharashtra/COTTON",
          "Punjab/COTTON",
          "Andhra Pradesh/GRAM",
          "Madhya Pradesh/GRAM",
          "Maharashtra/GRAM",
          "Rajasthan/GRAM",
          "Uttar Pradesh/GRAM",
          "Andhra Pradesh/GROUNDNUT",
          "Gujarat/GROUNDNUT",
          "Karnataka/GROUNDNUT",
          "Maharashtra/GROUNDNUT",
          "Tamil Nadu/GROUNDNUT",
          "Andhra Pradesh/MAIZE",
          "Bihar/MAIZE",
          "Karnataka/MAIZE",
          "Rajasthan/MAIZE",
          "Uttar Pradesh/MAIZE",
          "Andhra Pradesh/MOONG",
          "Karnataka/MOONG",
          "Maharashtra/MOONG",
          "Orissa/MOONG",
          "Rajasthan/MOONG",
          "Andhra Pradesh/PADDY",
          "Orissa/PADDY",
          "Punjab/PADDY",
          "Uttar Pradesh/PADDY",
          "West Bengal/PADDY",
          "Gujarat/RAPESEED AND MUSTARD",
          "Haryana/RAPESEED AND MUSTARD",
          "Madhya Pradesh/RAPESEED AND MUSTARD",
          "Rajasthan/RAPESEED AND MUSTARD",
          "Uttar Pradesh/RAPESEED AND MUSTARD",
          "Andhra Pradesh/SUGARCANE",
          "Karnataka/SUGARCANE",
          "Maharashtra/SUGARCANE",
          "Tamil Nadu/SUGARCANE",
          "Uttar Pradesh/SUGARCANE",
          "Madhya Pradesh/WHEAT",
          "Punjab/WHEAT",
          "Rajasthan/WHEAT",
          "Uttar Pradesh/WHEAT",
          "Andhra Pradesh",
          "Bihar",
          "Gujarat",
          "Haryana",
          "Karnataka",
          "Madhya Pradesh",
          "Maharashtra",
          "Orissa",
          "Punjab",
          "Rajasthan",
          "Tamil Nadu",
          "Uttar Pradesh",
          "West Bengal"
         ],
         "labels": [
          "ARHAR",
          "ARHAR",
          "ARHAR",
          "ARHAR",
          "ARHAR",
          "COTTON",
          "COTTON",
          "COTTON",
          "COTTON",
          "COTTON",
          "GRAM",
          "GRAM",
          "GRAM",
          "GRAM",
          "GRAM",
          "GROUNDNUT",
          "GROUNDNUT",
          "GROUNDNUT",
          "GROUNDNUT",
          "GROUNDNUT",
          "MAIZE",
          "MAIZE",
          "MAIZE",
          "MAIZE",
          "MAIZE",
          "MOONG",
          "MOONG",
          "MOONG",
          "MOONG",
          "MOONG",
          "PADDY",
          "PADDY",
          "PADDY",
          "PADDY",
          "PADDY",
          "RAPESEED AND MUSTARD",
          "RAPESEED AND MUSTARD",
          "RAPESEED AND MUSTARD",
          "RAPESEED AND MUSTARD",
          "RAPESEED AND MUSTARD",
          "SUGARCANE",
          "SUGARCANE",
          "SUGARCANE",
          "SUGARCANE",
          "SUGARCANE",
          "WHEAT",
          "WHEAT",
          "WHEAT",
          "WHEAT",
          "Andhra Pradesh",
          "Bihar",
          "Gujarat",
          "Haryana",
          "Karnataka",
          "Madhya Pradesh",
          "Maharashtra",
          "Orissa",
          "Punjab",
          "Rajasthan",
          "Tamil Nadu",
          "Uttar Pradesh",
          "West Bengal"
         ],
         "name": "",
         "parents": [
          "Andhra Pradesh",
          "Gujarat",
          "Karnataka",
          "Maharashtra",
          "Uttar Pradesh",
          "Andhra Pradesh",
          "Gujarat",
          "Haryana",
          "Maharashtra",
          "Punjab",
          "Andhra Pradesh",
          "Madhya Pradesh",
          "Maharashtra",
          "Rajasthan",
          "Uttar Pradesh",
          "Andhra Pradesh",
          "Gujarat",
          "Karnataka",
          "Maharashtra",
          "Tamil Nadu",
          "Andhra Pradesh",
          "Bihar",
          "Karnataka",
          "Rajasthan",
          "Uttar Pradesh",
          "Andhra Pradesh",
          "Karnataka",
          "Maharashtra",
          "Orissa",
          "Rajasthan",
          "Andhra Pradesh",
          "Orissa",
          "Punjab",
          "Uttar Pradesh",
          "West Bengal",
          "Gujarat",
          "Haryana",
          "Madhya Pradesh",
          "Rajasthan",
          "Uttar Pradesh",
          "Andhra Pradesh",
          "Karnataka",
          "Maharashtra",
          "Tamil Nadu",
          "Uttar Pradesh",
          "Madhya Pradesh",
          "Punjab",
          "Rajasthan",
          "Uttar Pradesh",
          "",
          "",
          "",
          "",
          "",
          "",
          "",
          "",
          "",
          "",
          "",
          "",
          ""
         ],
         "type": "sunburst",
         "values": [
          6.42,
          9.59,
          7.47,
          8.72,
          9.83,
          17.83,
          19.05,
          19.9,
          12.69,
          24.39,
          16.69,
          10.29,
          8.05,
          6.83,
          10.93,
          11.97,
          13.45,
          4.71,
          9.33,
          11.98,
          42.68,
          42.95,
          31.1,
          23.56,
          13.7,
          5.9,
          1.32,
          6.7,
          3.01,
          4.05,
          56,
          32.42,
          67.41,
          36.61,
          39.04,
          11.61,
          19.94,
          12.94,
          13.54,
          13.57,
          757.92,
          986.21,
          744.01,
          1015.45,
          448.89,
          23.59,
          39.83,
          37.19,
          34.99,
          915.41,
          42.95,
          53.7,
          39.84,
          1030.81,
          46.81999999999999,
          789.5,
          35.43,
          131.63,
          85.16999999999999,
          1027.43,
          568.52,
          39.04
         ]
        }
       ],
       "layout": {
        "legend": {
         "tracegroupgap": 0
        },
        "margin": {
         "t": 60
        },
        "template": {
         "data": {
          "bar": [
           {
            "error_x": {
             "color": "#2a3f5f"
            },
            "error_y": {
             "color": "#2a3f5f"
            },
            "marker": {
             "line": {
              "color": "#E5ECF6",
              "width": 0.5
             },
             "pattern": {
              "fillmode": "overlay",
              "size": 10,
              "solidity": 0.2
             }
            },
            "type": "bar"
           }
          ],
          "barpolar": [
           {
            "marker": {
             "line": {
              "color": "#E5ECF6",
              "width": 0.5
             },
             "pattern": {
              "fillmode": "overlay",
              "size": 10,
              "solidity": 0.2
             }
            },
            "type": "barpolar"
           }
          ],
          "carpet": [
           {
            "aaxis": {
             "endlinecolor": "#2a3f5f",
             "gridcolor": "white",
             "linecolor": "white",
             "minorgridcolor": "white",
             "startlinecolor": "#2a3f5f"
            },
            "baxis": {
             "endlinecolor": "#2a3f5f",
             "gridcolor": "white",
             "linecolor": "white",
             "minorgridcolor": "white",
             "startlinecolor": "#2a3f5f"
            },
            "type": "carpet"
           }
          ],
          "choropleth": [
           {
            "colorbar": {
             "outlinewidth": 0,
             "ticks": ""
            },
            "type": "choropleth"
           }
          ],
          "contour": [
           {
            "colorbar": {
             "outlinewidth": 0,
             "ticks": ""
            },
            "colorscale": [
             [
              0,
              "#0d0887"
             ],
             [
              0.1111111111111111,
              "#46039f"
             ],
             [
              0.2222222222222222,
              "#7201a8"
             ],
             [
              0.3333333333333333,
              "#9c179e"
             ],
             [
              0.4444444444444444,
              "#bd3786"
             ],
             [
              0.5555555555555556,
              "#d8576b"
             ],
             [
              0.6666666666666666,
              "#ed7953"
             ],
             [
              0.7777777777777778,
              "#fb9f3a"
             ],
             [
              0.8888888888888888,
              "#fdca26"
             ],
             [
              1,
              "#f0f921"
             ]
            ],
            "type": "contour"
           }
          ],
          "contourcarpet": [
           {
            "colorbar": {
             "outlinewidth": 0,
             "ticks": ""
            },
            "type": "contourcarpet"
           }
          ],
          "heatmap": [
           {
            "colorbar": {
             "outlinewidth": 0,
             "ticks": ""
            },
            "colorscale": [
             [
              0,
              "#0d0887"
             ],
             [
              0.1111111111111111,
              "#46039f"
             ],
             [
              0.2222222222222222,
              "#7201a8"
             ],
             [
              0.3333333333333333,
              "#9c179e"
             ],
             [
              0.4444444444444444,
              "#bd3786"
             ],
             [
              0.5555555555555556,
              "#d8576b"
             ],
             [
              0.6666666666666666,
              "#ed7953"
             ],
             [
              0.7777777777777778,
              "#fb9f3a"
             ],
             [
              0.8888888888888888,
              "#fdca26"
             ],
             [
              1,
              "#f0f921"
             ]
            ],
            "type": "heatmap"
           }
          ],
          "heatmapgl": [
           {
            "colorbar": {
             "outlinewidth": 0,
             "ticks": ""
            },
            "colorscale": [
             [
              0,
              "#0d0887"
             ],
             [
              0.1111111111111111,
              "#46039f"
             ],
             [
              0.2222222222222222,
              "#7201a8"
             ],
             [
              0.3333333333333333,
              "#9c179e"
             ],
             [
              0.4444444444444444,
              "#bd3786"
             ],
             [
              0.5555555555555556,
              "#d8576b"
             ],
             [
              0.6666666666666666,
              "#ed7953"
             ],
             [
              0.7777777777777778,
              "#fb9f3a"
             ],
             [
              0.8888888888888888,
              "#fdca26"
             ],
             [
              1,
              "#f0f921"
             ]
            ],
            "type": "heatmapgl"
           }
          ],
          "histogram": [
           {
            "marker": {
             "pattern": {
              "fillmode": "overlay",
              "size": 10,
              "solidity": 0.2
             }
            },
            "type": "histogram"
           }
          ],
          "histogram2d": [
           {
            "colorbar": {
             "outlinewidth": 0,
             "ticks": ""
            },
            "colorscale": [
             [
              0,
              "#0d0887"
             ],
             [
              0.1111111111111111,
              "#46039f"
             ],
             [
              0.2222222222222222,
              "#7201a8"
             ],
             [
              0.3333333333333333,
              "#9c179e"
             ],
             [
              0.4444444444444444,
              "#bd3786"
             ],
             [
              0.5555555555555556,
              "#d8576b"
             ],
             [
              0.6666666666666666,
              "#ed7953"
             ],
             [
              0.7777777777777778,
              "#fb9f3a"
             ],
             [
              0.8888888888888888,
              "#fdca26"
             ],
             [
              1,
              "#f0f921"
             ]
            ],
            "type": "histogram2d"
           }
          ],
          "histogram2dcontour": [
           {
            "colorbar": {
             "outlinewidth": 0,
             "ticks": ""
            },
            "colorscale": [
             [
              0,
              "#0d0887"
             ],
             [
              0.1111111111111111,
              "#46039f"
             ],
             [
              0.2222222222222222,
              "#7201a8"
             ],
             [
              0.3333333333333333,
              "#9c179e"
             ],
             [
              0.4444444444444444,
              "#bd3786"
             ],
             [
              0.5555555555555556,
              "#d8576b"
             ],
             [
              0.6666666666666666,
              "#ed7953"
             ],
             [
              0.7777777777777778,
              "#fb9f3a"
             ],
             [
              0.8888888888888888,
              "#fdca26"
             ],
             [
              1,
              "#f0f921"
             ]
            ],
            "type": "histogram2dcontour"
           }
          ],
          "mesh3d": [
           {
            "colorbar": {
             "outlinewidth": 0,
             "ticks": ""
            },
            "type": "mesh3d"
           }
          ],
          "parcoords": [
           {
            "line": {
             "colorbar": {
              "outlinewidth": 0,
              "ticks": ""
             }
            },
            "type": "parcoords"
           }
          ],
          "pie": [
           {
            "automargin": true,
            "type": "pie"
           }
          ],
          "scatter": [
           {
            "fillpattern": {
             "fillmode": "overlay",
             "size": 10,
             "solidity": 0.2
            },
            "type": "scatter"
           }
          ],
          "scatter3d": [
           {
            "line": {
             "colorbar": {
              "outlinewidth": 0,
              "ticks": ""
             }
            },
            "marker": {
             "colorbar": {
              "outlinewidth": 0,
              "ticks": ""
             }
            },
            "type": "scatter3d"
           }
          ],
          "scattercarpet": [
           {
            "marker": {
             "colorbar": {
              "outlinewidth": 0,
              "ticks": ""
             }
            },
            "type": "scattercarpet"
           }
          ],
          "scattergeo": [
           {
            "marker": {
             "colorbar": {
              "outlinewidth": 0,
              "ticks": ""
             }
            },
            "type": "scattergeo"
           }
          ],
          "scattergl": [
           {
            "marker": {
             "colorbar": {
              "outlinewidth": 0,
              "ticks": ""
             }
            },
            "type": "scattergl"
           }
          ],
          "scattermapbox": [
           {
            "marker": {
             "colorbar": {
              "outlinewidth": 0,
              "ticks": ""
             }
            },
            "type": "scattermapbox"
           }
          ],
          "scatterpolar": [
           {
            "marker": {
             "colorbar": {
              "outlinewidth": 0,
              "ticks": ""
             }
            },
            "type": "scatterpolar"
           }
          ],
          "scatterpolargl": [
           {
            "marker": {
             "colorbar": {
              "outlinewidth": 0,
              "ticks": ""
             }
            },
            "type": "scatterpolargl"
           }
          ],
          "scatterternary": [
           {
            "marker": {
             "colorbar": {
              "outlinewidth": 0,
              "ticks": ""
             }
            },
            "type": "scatterternary"
           }
          ],
          "surface": [
           {
            "colorbar": {
             "outlinewidth": 0,
             "ticks": ""
            },
            "colorscale": [
             [
              0,
              "#0d0887"
             ],
             [
              0.1111111111111111,
              "#46039f"
             ],
             [
              0.2222222222222222,
              "#7201a8"
             ],
             [
              0.3333333333333333,
              "#9c179e"
             ],
             [
              0.4444444444444444,
              "#bd3786"
             ],
             [
              0.5555555555555556,
              "#d8576b"
             ],
             [
              0.6666666666666666,
              "#ed7953"
             ],
             [
              0.7777777777777778,
              "#fb9f3a"
             ],
             [
              0.8888888888888888,
              "#fdca26"
             ],
             [
              1,
              "#f0f921"
             ]
            ],
            "type": "surface"
           }
          ],
          "table": [
           {
            "cells": {
             "fill": {
              "color": "#EBF0F8"
             },
             "line": {
              "color": "white"
             }
            },
            "header": {
             "fill": {
              "color": "#C8D4E3"
             },
             "line": {
              "color": "white"
             }
            },
            "type": "table"
           }
          ]
         },
         "layout": {
          "annotationdefaults": {
           "arrowcolor": "#2a3f5f",
           "arrowhead": 0,
           "arrowwidth": 1
          },
          "autotypenumbers": "strict",
          "coloraxis": {
           "colorbar": {
            "outlinewidth": 0,
            "ticks": ""
           }
          },
          "colorscale": {
           "diverging": [
            [
             0,
             "#8e0152"
            ],
            [
             0.1,
             "#c51b7d"
            ],
            [
             0.2,
             "#de77ae"
            ],
            [
             0.3,
             "#f1b6da"
            ],
            [
             0.4,
             "#fde0ef"
            ],
            [
             0.5,
             "#f7f7f7"
            ],
            [
             0.6,
             "#e6f5d0"
            ],
            [
             0.7,
             "#b8e186"
            ],
            [
             0.8,
             "#7fbc41"
            ],
            [
             0.9,
             "#4d9221"
            ],
            [
             1,
             "#276419"
            ]
           ],
           "sequential": [
            [
             0,
             "#0d0887"
            ],
            [
             0.1111111111111111,
             "#46039f"
            ],
            [
             0.2222222222222222,
             "#7201a8"
            ],
            [
             0.3333333333333333,
             "#9c179e"
            ],
            [
             0.4444444444444444,
             "#bd3786"
            ],
            [
             0.5555555555555556,
             "#d8576b"
            ],
            [
             0.6666666666666666,
             "#ed7953"
            ],
            [
             0.7777777777777778,
             "#fb9f3a"
            ],
            [
             0.8888888888888888,
             "#fdca26"
            ],
            [
             1,
             "#f0f921"
            ]
           ],
           "sequentialminus": [
            [
             0,
             "#0d0887"
            ],
            [
             0.1111111111111111,
             "#46039f"
            ],
            [
             0.2222222222222222,
             "#7201a8"
            ],
            [
             0.3333333333333333,
             "#9c179e"
            ],
            [
             0.4444444444444444,
             "#bd3786"
            ],
            [
             0.5555555555555556,
             "#d8576b"
            ],
            [
             0.6666666666666666,
             "#ed7953"
            ],
            [
             0.7777777777777778,
             "#fb9f3a"
            ],
            [
             0.8888888888888888,
             "#fdca26"
            ],
            [
             1,
             "#f0f921"
            ]
           ]
          },
          "colorway": [
           "#636efa",
           "#EF553B",
           "#00cc96",
           "#ab63fa",
           "#FFA15A",
           "#19d3f3",
           "#FF6692",
           "#B6E880",
           "#FF97FF",
           "#FECB52"
          ],
          "font": {
           "color": "#2a3f5f"
          },
          "geo": {
           "bgcolor": "white",
           "lakecolor": "white",
           "landcolor": "#E5ECF6",
           "showlakes": true,
           "showland": true,
           "subunitcolor": "white"
          },
          "hoverlabel": {
           "align": "left"
          },
          "hovermode": "closest",
          "mapbox": {
           "style": "light"
          },
          "paper_bgcolor": "white",
          "plot_bgcolor": "#E5ECF6",
          "polar": {
           "angularaxis": {
            "gridcolor": "white",
            "linecolor": "white",
            "ticks": ""
           },
           "bgcolor": "#E5ECF6",
           "radialaxis": {
            "gridcolor": "white",
            "linecolor": "white",
            "ticks": ""
           }
          },
          "scene": {
           "xaxis": {
            "backgroundcolor": "#E5ECF6",
            "gridcolor": "white",
            "gridwidth": 2,
            "linecolor": "white",
            "showbackground": true,
            "ticks": "",
            "zerolinecolor": "white"
           },
           "yaxis": {
            "backgroundcolor": "#E5ECF6",
            "gridcolor": "white",
            "gridwidth": 2,
            "linecolor": "white",
            "showbackground": true,
            "ticks": "",
            "zerolinecolor": "white"
           },
           "zaxis": {
            "backgroundcolor": "#E5ECF6",
            "gridcolor": "white",
            "gridwidth": 2,
            "linecolor": "white",
            "showbackground": true,
            "ticks": "",
            "zerolinecolor": "white"
           }
          },
          "shapedefaults": {
           "line": {
            "color": "#2a3f5f"
           }
          },
          "ternary": {
           "aaxis": {
            "gridcolor": "white",
            "linecolor": "white",
            "ticks": ""
           },
           "baxis": {
            "gridcolor": "white",
            "linecolor": "white",
            "ticks": ""
           },
           "bgcolor": "#E5ECF6",
           "caxis": {
            "gridcolor": "white",
            "linecolor": "white",
            "ticks": ""
           }
          },
          "title": {
           "x": 0.05
          },
          "xaxis": {
           "automargin": true,
           "gridcolor": "white",
           "linecolor": "white",
           "ticks": "",
           "title": {
            "standoff": 15
           },
           "zerolinecolor": "white",
           "zerolinewidth": 2
          },
          "yaxis": {
           "automargin": true,
           "gridcolor": "white",
           "linecolor": "white",
           "ticks": "",
           "title": {
            "standoff": 15
           },
           "zerolinecolor": "white",
           "zerolinewidth": 2
          }
         }
        }
       }
      },
      "text/html": [
       "<div>                            <div id=\"79d8c04c-4c09-44bd-b65d-441058fb23e1\" class=\"plotly-graph-div\" style=\"height:525px; width:100%;\"></div>            <script type=\"text/javascript\">                require([\"plotly\"], function(Plotly) {                    window.PLOTLYENV=window.PLOTLYENV || {};                                    if (document.getElementById(\"79d8c04c-4c09-44bd-b65d-441058fb23e1\")) {                    Plotly.newPlot(                        \"79d8c04c-4c09-44bd-b65d-441058fb23e1\",                        [{\"branchvalues\":\"total\",\"customdata\":[[6.42],[9.59],[7.47],[8.72],[9.83],[17.83],[19.05],[19.9],[12.69],[24.39],[16.69],[10.29],[8.05],[6.83],[10.93],[11.97],[13.45],[4.71],[9.33],[11.98],[42.68],[42.95],[31.1],[23.56],[13.7],[5.9],[1.32],[6.7],[3.01],[4.05],[56.0],[32.42],[67.41],[36.61],[39.04],[11.61],[19.94],[12.94],[13.54],[13.57],[757.92],[986.21],[744.01],[1015.45],[448.89],[23.59],[39.83],[37.19],[34.99],[915.41],[42.95],[53.7],[39.84],[1030.81],[46.81999999999999],[789.5],[35.43],[131.63],[85.16999999999999],[1027.43],[568.52],[39.04]],\"domain\":{\"x\":[0.0,1.0],\"y\":[0.0,1.0]},\"hovertemplate\":\"labels=%{label}\\u003cbr\\u003eYield (Quintal\\u002f Hectare) =%{customdata[0]}\\u003cbr\\u003eparent=%{parent}\\u003cbr\\u003eid=%{id}\\u003cextra\\u003e\\u003c\\u002fextra\\u003e\",\"ids\":[\"Andhra Pradesh\\u002fARHAR\",\"Gujarat\\u002fARHAR\",\"Karnataka\\u002fARHAR\",\"Maharashtra\\u002fARHAR\",\"Uttar Pradesh\\u002fARHAR\",\"Andhra Pradesh\\u002fCOTTON\",\"Gujarat\\u002fCOTTON\",\"Haryana\\u002fCOTTON\",\"Maharashtra\\u002fCOTTON\",\"Punjab\\u002fCOTTON\",\"Andhra Pradesh\\u002fGRAM\",\"Madhya Pradesh\\u002fGRAM\",\"Maharashtra\\u002fGRAM\",\"Rajasthan\\u002fGRAM\",\"Uttar Pradesh\\u002fGRAM\",\"Andhra Pradesh\\u002fGROUNDNUT\",\"Gujarat\\u002fGROUNDNUT\",\"Karnataka\\u002fGROUNDNUT\",\"Maharashtra\\u002fGROUNDNUT\",\"Tamil Nadu\\u002fGROUNDNUT\",\"Andhra Pradesh\\u002fMAIZE\",\"Bihar\\u002fMAIZE\",\"Karnataka\\u002fMAIZE\",\"Rajasthan\\u002fMAIZE\",\"Uttar Pradesh\\u002fMAIZE\",\"Andhra Pradesh\\u002fMOONG\",\"Karnataka\\u002fMOONG\",\"Maharashtra\\u002fMOONG\",\"Orissa\\u002fMOONG\",\"Rajasthan\\u002fMOONG\",\"Andhra Pradesh\\u002fPADDY\",\"Orissa\\u002fPADDY\",\"Punjab\\u002fPADDY\",\"Uttar Pradesh\\u002fPADDY\",\"West Bengal\\u002fPADDY\",\"Gujarat\\u002fRAPESEED AND MUSTARD\",\"Haryana\\u002fRAPESEED AND MUSTARD\",\"Madhya Pradesh\\u002fRAPESEED AND MUSTARD\",\"Rajasthan\\u002fRAPESEED AND MUSTARD\",\"Uttar Pradesh\\u002fRAPESEED AND MUSTARD\",\"Andhra Pradesh\\u002fSUGARCANE\",\"Karnataka\\u002fSUGARCANE\",\"Maharashtra\\u002fSUGARCANE\",\"Tamil Nadu\\u002fSUGARCANE\",\"Uttar Pradesh\\u002fSUGARCANE\",\"Madhya Pradesh\\u002fWHEAT\",\"Punjab\\u002fWHEAT\",\"Rajasthan\\u002fWHEAT\",\"Uttar Pradesh\\u002fWHEAT\",\"Andhra Pradesh\",\"Bihar\",\"Gujarat\",\"Haryana\",\"Karnataka\",\"Madhya Pradesh\",\"Maharashtra\",\"Orissa\",\"Punjab\",\"Rajasthan\",\"Tamil Nadu\",\"Uttar Pradesh\",\"West Bengal\"],\"labels\":[\"ARHAR\",\"ARHAR\",\"ARHAR\",\"ARHAR\",\"ARHAR\",\"COTTON\",\"COTTON\",\"COTTON\",\"COTTON\",\"COTTON\",\"GRAM\",\"GRAM\",\"GRAM\",\"GRAM\",\"GRAM\",\"GROUNDNUT\",\"GROUNDNUT\",\"GROUNDNUT\",\"GROUNDNUT\",\"GROUNDNUT\",\"MAIZE\",\"MAIZE\",\"MAIZE\",\"MAIZE\",\"MAIZE\",\"MOONG\",\"MOONG\",\"MOONG\",\"MOONG\",\"MOONG\",\"PADDY\",\"PADDY\",\"PADDY\",\"PADDY\",\"PADDY\",\"RAPESEED AND MUSTARD\",\"RAPESEED AND MUSTARD\",\"RAPESEED AND MUSTARD\",\"RAPESEED AND MUSTARD\",\"RAPESEED AND MUSTARD\",\"SUGARCANE\",\"SUGARCANE\",\"SUGARCANE\",\"SUGARCANE\",\"SUGARCANE\",\"WHEAT\",\"WHEAT\",\"WHEAT\",\"WHEAT\",\"Andhra Pradesh\",\"Bihar\",\"Gujarat\",\"Haryana\",\"Karnataka\",\"Madhya Pradesh\",\"Maharashtra\",\"Orissa\",\"Punjab\",\"Rajasthan\",\"Tamil Nadu\",\"Uttar Pradesh\",\"West Bengal\"],\"name\":\"\",\"parents\":[\"Andhra Pradesh\",\"Gujarat\",\"Karnataka\",\"Maharashtra\",\"Uttar Pradesh\",\"Andhra Pradesh\",\"Gujarat\",\"Haryana\",\"Maharashtra\",\"Punjab\",\"Andhra Pradesh\",\"Madhya Pradesh\",\"Maharashtra\",\"Rajasthan\",\"Uttar Pradesh\",\"Andhra Pradesh\",\"Gujarat\",\"Karnataka\",\"Maharashtra\",\"Tamil Nadu\",\"Andhra Pradesh\",\"Bihar\",\"Karnataka\",\"Rajasthan\",\"Uttar Pradesh\",\"Andhra Pradesh\",\"Karnataka\",\"Maharashtra\",\"Orissa\",\"Rajasthan\",\"Andhra Pradesh\",\"Orissa\",\"Punjab\",\"Uttar Pradesh\",\"West Bengal\",\"Gujarat\",\"Haryana\",\"Madhya Pradesh\",\"Rajasthan\",\"Uttar Pradesh\",\"Andhra Pradesh\",\"Karnataka\",\"Maharashtra\",\"Tamil Nadu\",\"Uttar Pradesh\",\"Madhya Pradesh\",\"Punjab\",\"Rajasthan\",\"Uttar Pradesh\",\"\",\"\",\"\",\"\",\"\",\"\",\"\",\"\",\"\",\"\",\"\",\"\",\"\"],\"values\":[6.42,9.59,7.47,8.72,9.83,17.83,19.05,19.9,12.69,24.39,16.69,10.29,8.05,6.83,10.93,11.97,13.45,4.71,9.33,11.98,42.68,42.95,31.1,23.56,13.7,5.9,1.32,6.7,3.01,4.05,56.0,32.42,67.41,36.61,39.04,11.61,19.94,12.94,13.54,13.57,757.92,986.21,744.01,1015.45,448.89,23.59,39.83,37.19,34.99,915.41,42.95,53.7,39.84,1030.81,46.81999999999999,789.5,35.43,131.63,85.16999999999999,1027.43,568.52,39.04],\"type\":\"sunburst\"}],                        {\"template\":{\"data\":{\"histogram2dcontour\":[{\"type\":\"histogram2dcontour\",\"colorbar\":{\"outlinewidth\":0,\"ticks\":\"\"},\"colorscale\":[[0.0,\"#0d0887\"],[0.1111111111111111,\"#46039f\"],[0.2222222222222222,\"#7201a8\"],[0.3333333333333333,\"#9c179e\"],[0.4444444444444444,\"#bd3786\"],[0.5555555555555556,\"#d8576b\"],[0.6666666666666666,\"#ed7953\"],[0.7777777777777778,\"#fb9f3a\"],[0.8888888888888888,\"#fdca26\"],[1.0,\"#f0f921\"]]}],\"choropleth\":[{\"type\":\"choropleth\",\"colorbar\":{\"outlinewidth\":0,\"ticks\":\"\"}}],\"histogram2d\":[{\"type\":\"histogram2d\",\"colorbar\":{\"outlinewidth\":0,\"ticks\":\"\"},\"colorscale\":[[0.0,\"#0d0887\"],[0.1111111111111111,\"#46039f\"],[0.2222222222222222,\"#7201a8\"],[0.3333333333333333,\"#9c179e\"],[0.4444444444444444,\"#bd3786\"],[0.5555555555555556,\"#d8576b\"],[0.6666666666666666,\"#ed7953\"],[0.7777777777777778,\"#fb9f3a\"],[0.8888888888888888,\"#fdca26\"],[1.0,\"#f0f921\"]]}],\"heatmap\":[{\"type\":\"heatmap\",\"colorbar\":{\"outlinewidth\":0,\"ticks\":\"\"},\"colorscale\":[[0.0,\"#0d0887\"],[0.1111111111111111,\"#46039f\"],[0.2222222222222222,\"#7201a8\"],[0.3333333333333333,\"#9c179e\"],[0.4444444444444444,\"#bd3786\"],[0.5555555555555556,\"#d8576b\"],[0.6666666666666666,\"#ed7953\"],[0.7777777777777778,\"#fb9f3a\"],[0.8888888888888888,\"#fdca26\"],[1.0,\"#f0f921\"]]}],\"heatmapgl\":[{\"type\":\"heatmapgl\",\"colorbar\":{\"outlinewidth\":0,\"ticks\":\"\"},\"colorscale\":[[0.0,\"#0d0887\"],[0.1111111111111111,\"#46039f\"],[0.2222222222222222,\"#7201a8\"],[0.3333333333333333,\"#9c179e\"],[0.4444444444444444,\"#bd3786\"],[0.5555555555555556,\"#d8576b\"],[0.6666666666666666,\"#ed7953\"],[0.7777777777777778,\"#fb9f3a\"],[0.8888888888888888,\"#fdca26\"],[1.0,\"#f0f921\"]]}],\"contourcarpet\":[{\"type\":\"contourcarpet\",\"colorbar\":{\"outlinewidth\":0,\"ticks\":\"\"}}],\"contour\":[{\"type\":\"contour\",\"colorbar\":{\"outlinewidth\":0,\"ticks\":\"\"},\"colorscale\":[[0.0,\"#0d0887\"],[0.1111111111111111,\"#46039f\"],[0.2222222222222222,\"#7201a8\"],[0.3333333333333333,\"#9c179e\"],[0.4444444444444444,\"#bd3786\"],[0.5555555555555556,\"#d8576b\"],[0.6666666666666666,\"#ed7953\"],[0.7777777777777778,\"#fb9f3a\"],[0.8888888888888888,\"#fdca26\"],[1.0,\"#f0f921\"]]}],\"surface\":[{\"type\":\"surface\",\"colorbar\":{\"outlinewidth\":0,\"ticks\":\"\"},\"colorscale\":[[0.0,\"#0d0887\"],[0.1111111111111111,\"#46039f\"],[0.2222222222222222,\"#7201a8\"],[0.3333333333333333,\"#9c179e\"],[0.4444444444444444,\"#bd3786\"],[0.5555555555555556,\"#d8576b\"],[0.6666666666666666,\"#ed7953\"],[0.7777777777777778,\"#fb9f3a\"],[0.8888888888888888,\"#fdca26\"],[1.0,\"#f0f921\"]]}],\"mesh3d\":[{\"type\":\"mesh3d\",\"colorbar\":{\"outlinewidth\":0,\"ticks\":\"\"}}],\"scatter\":[{\"fillpattern\":{\"fillmode\":\"overlay\",\"size\":10,\"solidity\":0.2},\"type\":\"scatter\"}],\"parcoords\":[{\"type\":\"parcoords\",\"line\":{\"colorbar\":{\"outlinewidth\":0,\"ticks\":\"\"}}}],\"scatterpolargl\":[{\"type\":\"scatterpolargl\",\"marker\":{\"colorbar\":{\"outlinewidth\":0,\"ticks\":\"\"}}}],\"bar\":[{\"error_x\":{\"color\":\"#2a3f5f\"},\"error_y\":{\"color\":\"#2a3f5f\"},\"marker\":{\"line\":{\"color\":\"#E5ECF6\",\"width\":0.5},\"pattern\":{\"fillmode\":\"overlay\",\"size\":10,\"solidity\":0.2}},\"type\":\"bar\"}],\"scattergeo\":[{\"type\":\"scattergeo\",\"marker\":{\"colorbar\":{\"outlinewidth\":0,\"ticks\":\"\"}}}],\"scatterpolar\":[{\"type\":\"scatterpolar\",\"marker\":{\"colorbar\":{\"outlinewidth\":0,\"ticks\":\"\"}}}],\"histogram\":[{\"marker\":{\"pattern\":{\"fillmode\":\"overlay\",\"size\":10,\"solidity\":0.2}},\"type\":\"histogram\"}],\"scattergl\":[{\"type\":\"scattergl\",\"marker\":{\"colorbar\":{\"outlinewidth\":0,\"ticks\":\"\"}}}],\"scatter3d\":[{\"type\":\"scatter3d\",\"line\":{\"colorbar\":{\"outlinewidth\":0,\"ticks\":\"\"}},\"marker\":{\"colorbar\":{\"outlinewidth\":0,\"ticks\":\"\"}}}],\"scattermapbox\":[{\"type\":\"scattermapbox\",\"marker\":{\"colorbar\":{\"outlinewidth\":0,\"ticks\":\"\"}}}],\"scatterternary\":[{\"type\":\"scatterternary\",\"marker\":{\"colorbar\":{\"outlinewidth\":0,\"ticks\":\"\"}}}],\"scattercarpet\":[{\"type\":\"scattercarpet\",\"marker\":{\"colorbar\":{\"outlinewidth\":0,\"ticks\":\"\"}}}],\"carpet\":[{\"aaxis\":{\"endlinecolor\":\"#2a3f5f\",\"gridcolor\":\"white\",\"linecolor\":\"white\",\"minorgridcolor\":\"white\",\"startlinecolor\":\"#2a3f5f\"},\"baxis\":{\"endlinecolor\":\"#2a3f5f\",\"gridcolor\":\"white\",\"linecolor\":\"white\",\"minorgridcolor\":\"white\",\"startlinecolor\":\"#2a3f5f\"},\"type\":\"carpet\"}],\"table\":[{\"cells\":{\"fill\":{\"color\":\"#EBF0F8\"},\"line\":{\"color\":\"white\"}},\"header\":{\"fill\":{\"color\":\"#C8D4E3\"},\"line\":{\"color\":\"white\"}},\"type\":\"table\"}],\"barpolar\":[{\"marker\":{\"line\":{\"color\":\"#E5ECF6\",\"width\":0.5},\"pattern\":{\"fillmode\":\"overlay\",\"size\":10,\"solidity\":0.2}},\"type\":\"barpolar\"}],\"pie\":[{\"automargin\":true,\"type\":\"pie\"}]},\"layout\":{\"autotypenumbers\":\"strict\",\"colorway\":[\"#636efa\",\"#EF553B\",\"#00cc96\",\"#ab63fa\",\"#FFA15A\",\"#19d3f3\",\"#FF6692\",\"#B6E880\",\"#FF97FF\",\"#FECB52\"],\"font\":{\"color\":\"#2a3f5f\"},\"hovermode\":\"closest\",\"hoverlabel\":{\"align\":\"left\"},\"paper_bgcolor\":\"white\",\"plot_bgcolor\":\"#E5ECF6\",\"polar\":{\"bgcolor\":\"#E5ECF6\",\"angularaxis\":{\"gridcolor\":\"white\",\"linecolor\":\"white\",\"ticks\":\"\"},\"radialaxis\":{\"gridcolor\":\"white\",\"linecolor\":\"white\",\"ticks\":\"\"}},\"ternary\":{\"bgcolor\":\"#E5ECF6\",\"aaxis\":{\"gridcolor\":\"white\",\"linecolor\":\"white\",\"ticks\":\"\"},\"baxis\":{\"gridcolor\":\"white\",\"linecolor\":\"white\",\"ticks\":\"\"},\"caxis\":{\"gridcolor\":\"white\",\"linecolor\":\"white\",\"ticks\":\"\"}},\"coloraxis\":{\"colorbar\":{\"outlinewidth\":0,\"ticks\":\"\"}},\"colorscale\":{\"sequential\":[[0.0,\"#0d0887\"],[0.1111111111111111,\"#46039f\"],[0.2222222222222222,\"#7201a8\"],[0.3333333333333333,\"#9c179e\"],[0.4444444444444444,\"#bd3786\"],[0.5555555555555556,\"#d8576b\"],[0.6666666666666666,\"#ed7953\"],[0.7777777777777778,\"#fb9f3a\"],[0.8888888888888888,\"#fdca26\"],[1.0,\"#f0f921\"]],\"sequentialminus\":[[0.0,\"#0d0887\"],[0.1111111111111111,\"#46039f\"],[0.2222222222222222,\"#7201a8\"],[0.3333333333333333,\"#9c179e\"],[0.4444444444444444,\"#bd3786\"],[0.5555555555555556,\"#d8576b\"],[0.6666666666666666,\"#ed7953\"],[0.7777777777777778,\"#fb9f3a\"],[0.8888888888888888,\"#fdca26\"],[1.0,\"#f0f921\"]],\"diverging\":[[0,\"#8e0152\"],[0.1,\"#c51b7d\"],[0.2,\"#de77ae\"],[0.3,\"#f1b6da\"],[0.4,\"#fde0ef\"],[0.5,\"#f7f7f7\"],[0.6,\"#e6f5d0\"],[0.7,\"#b8e186\"],[0.8,\"#7fbc41\"],[0.9,\"#4d9221\"],[1,\"#276419\"]]},\"xaxis\":{\"gridcolor\":\"white\",\"linecolor\":\"white\",\"ticks\":\"\",\"title\":{\"standoff\":15},\"zerolinecolor\":\"white\",\"automargin\":true,\"zerolinewidth\":2},\"yaxis\":{\"gridcolor\":\"white\",\"linecolor\":\"white\",\"ticks\":\"\",\"title\":{\"standoff\":15},\"zerolinecolor\":\"white\",\"automargin\":true,\"zerolinewidth\":2},\"scene\":{\"xaxis\":{\"backgroundcolor\":\"#E5ECF6\",\"gridcolor\":\"white\",\"linecolor\":\"white\",\"showbackground\":true,\"ticks\":\"\",\"zerolinecolor\":\"white\",\"gridwidth\":2},\"yaxis\":{\"backgroundcolor\":\"#E5ECF6\",\"gridcolor\":\"white\",\"linecolor\":\"white\",\"showbackground\":true,\"ticks\":\"\",\"zerolinecolor\":\"white\",\"gridwidth\":2},\"zaxis\":{\"backgroundcolor\":\"#E5ECF6\",\"gridcolor\":\"white\",\"linecolor\":\"white\",\"showbackground\":true,\"ticks\":\"\",\"zerolinecolor\":\"white\",\"gridwidth\":2}},\"shapedefaults\":{\"line\":{\"color\":\"#2a3f5f\"}},\"annotationdefaults\":{\"arrowcolor\":\"#2a3f5f\",\"arrowhead\":0,\"arrowwidth\":1},\"geo\":{\"bgcolor\":\"white\",\"landcolor\":\"#E5ECF6\",\"subunitcolor\":\"white\",\"showland\":true,\"showlakes\":true,\"lakecolor\":\"white\"},\"title\":{\"x\":0.05},\"mapbox\":{\"style\":\"light\"}}},\"legend\":{\"tracegroupgap\":0},\"margin\":{\"t\":60}},                        {\"responsive\": true}                    ).then(function(){\n",
       "                            \n",
       "var gd = document.getElementById('79d8c04c-4c09-44bd-b65d-441058fb23e1');\n",
       "var x = new MutationObserver(function (mutations, observer) {{\n",
       "        var display = window.getComputedStyle(gd).display;\n",
       "        if (!display || display === 'none') {{\n",
       "            console.log([gd, 'removed!']);\n",
       "            Plotly.purge(gd);\n",
       "            observer.disconnect();\n",
       "        }}\n",
       "}});\n",
       "\n",
       "// Listen for the removal of the full notebook cells\n",
       "var notebookContainer = gd.closest('#notebook-container');\n",
       "if (notebookContainer) {{\n",
       "    x.observe(notebookContainer, {childList: true});\n",
       "}}\n",
       "\n",
       "// Listen for the clearing of the current output cell\n",
       "var outputEl = gd.closest('.output');\n",
       "if (outputEl) {{\n",
       "    x.observe(outputEl, {childList: true});\n",
       "}}\n",
       "\n",
       "                        })                };                });            </script>        </div>"
      ]
     },
     "metadata": {},
     "output_type": "display_data"
    },
    {
     "data": {
      "text/plain": [
       "<Figure size 864x432 with 0 Axes>"
      ]
     },
     "metadata": {},
     "output_type": "display_data"
    }
   ],
   "source": [
    "plt.figure(figsize=(12,6))\n",
    "pie=px.sunburst(df1,path=['State','Crop'],values='Yield (Quintal/ Hectare) ',\n",
    "              hover_data=['Yield (Quintal/ Hectare) '])\n",
    "pie.show()"
   ]
  },
  {
   "cell_type": "markdown",
   "metadata": {},
   "source": [
    "### Q8. What is the crop production in the time frame of 2004-2012?"
   ]
  },
  {
   "cell_type": "code",
   "execution_count": null,
   "metadata": {},
   "outputs": [
    {
     "data": {
      "text/html": [
       "<div>\n",
       "<style scoped>\n",
       "    .dataframe tbody tr th:only-of-type {\n",
       "        vertical-align: middle;\n",
       "    }\n",
       "\n",
       "    .dataframe tbody tr th {\n",
       "        vertical-align: top;\n",
       "    }\n",
       "\n",
       "    .dataframe thead th {\n",
       "        text-align: right;\n",
       "    }\n",
       "</style>\n",
       "<table border=\"1\" class=\"dataframe\">\n",
       "  <thead>\n",
       "    <tr style=\"text-align: right;\">\n",
       "      <th></th>\n",
       "      <th>Rice</th>\n",
       "      <th>Wheat</th>\n",
       "      <th>Coarse Cereals</th>\n",
       "      <th>Pulses</th>\n",
       "      <th>Vegetables</th>\n",
       "      <th>Fruits</th>\n",
       "      <th>Milk</th>\n",
       "      <th>Eggs, Fish and Meat</th>\n",
       "      <th>Oilseeds</th>\n",
       "      <th>Sugarcane</th>\n",
       "      <th>Fibers</th>\n",
       "      <th>All Agriculture</th>\n",
       "    </tr>\n",
       "  </thead>\n",
       "  <tbody>\n",
       "    <tr>\n",
       "      <th>2004-05</th>\n",
       "      <td>100</td>\n",
       "      <td>100</td>\n",
       "      <td>100</td>\n",
       "      <td>100</td>\n",
       "      <td>100</td>\n",
       "      <td>100</td>\n",
       "      <td>100</td>\n",
       "      <td>100</td>\n",
       "      <td>100</td>\n",
       "      <td>100</td>\n",
       "      <td>100</td>\n",
       "      <td>100</td>\n",
       "    </tr>\n",
       "    <tr>\n",
       "      <th>2005-06</th>\n",
       "      <td>101</td>\n",
       "      <td>101</td>\n",
       "      <td>107</td>\n",
       "      <td>108</td>\n",
       "      <td>109</td>\n",
       "      <td>99</td>\n",
       "      <td>97</td>\n",
       "      <td>102</td>\n",
       "      <td>86</td>\n",
       "      <td>96</td>\n",
       "      <td>92</td>\n",
       "      <td>99</td>\n",
       "    </tr>\n",
       "    <tr>\n",
       "      <th>2006-07</th>\n",
       "      <td>99</td>\n",
       "      <td>112</td>\n",
       "      <td>110</td>\n",
       "      <td>134</td>\n",
       "      <td>103</td>\n",
       "      <td>99</td>\n",
       "      <td>98</td>\n",
       "      <td>101</td>\n",
       "      <td>85</td>\n",
       "      <td>91</td>\n",
       "      <td>91</td>\n",
       "      <td>101</td>\n",
       "    </tr>\n",
       "    <tr>\n",
       "      <th>2007-08</th>\n",
       "      <td>105</td>\n",
       "      <td>115</td>\n",
       "      <td>115</td>\n",
       "      <td>124</td>\n",
       "      <td>118</td>\n",
       "      <td>98</td>\n",
       "      <td>98</td>\n",
       "      <td>100</td>\n",
       "      <td>97</td>\n",
       "      <td>87</td>\n",
       "      <td>96</td>\n",
       "      <td>104</td>\n",
       "    </tr>\n",
       "    <tr>\n",
       "      <th>2008-09</th>\n",
       "      <td>112</td>\n",
       "      <td>117</td>\n",
       "      <td>113</td>\n",
       "      <td>124</td>\n",
       "      <td>113</td>\n",
       "      <td>102</td>\n",
       "      <td>98</td>\n",
       "      <td>99</td>\n",
       "      <td>104</td>\n",
       "      <td>80</td>\n",
       "      <td>109</td>\n",
       "      <td>106</td>\n",
       "    </tr>\n",
       "    <tr>\n",
       "      <th>2009-10</th>\n",
       "      <td>121</td>\n",
       "      <td>127</td>\n",
       "      <td>123</td>\n",
       "      <td>146</td>\n",
       "      <td>124</td>\n",
       "      <td>104</td>\n",
       "      <td>112</td>\n",
       "      <td>116</td>\n",
       "      <td>103</td>\n",
       "      <td>81</td>\n",
       "      <td>107</td>\n",
       "      <td>115</td>\n",
       "    </tr>\n",
       "    <tr>\n",
       "      <th>2010-11</th>\n",
       "      <td>117</td>\n",
       "      <td>120</td>\n",
       "      <td>122</td>\n",
       "      <td>137</td>\n",
       "      <td>128</td>\n",
       "      <td>114</td>\n",
       "      <td>123</td>\n",
       "      <td>133</td>\n",
       "      <td>99</td>\n",
       "      <td>109</td>\n",
       "      <td>138</td>\n",
       "      <td>123</td>\n",
       "    </tr>\n",
       "    <tr>\n",
       "      <th>2011-12</th>\n",
       "      <td>110</td>\n",
       "      <td>108</td>\n",
       "      <td>136</td>\n",
       "      <td>129</td>\n",
       "      <td>115</td>\n",
       "      <td>119</td>\n",
       "      <td>124</td>\n",
       "      <td>137</td>\n",
       "      <td>102</td>\n",
       "      <td>107</td>\n",
       "      <td>140</td>\n",
       "      <td>122</td>\n",
       "    </tr>\n",
       "  </tbody>\n",
       "</table>\n",
       "</div>"
      ],
      "text/plain": [
       "        Rice Wheat Coarse Cereals Pulses Vegetables  Fruits Milk  \\\n",
       "2004-05  100   100            100    100         100    100  100   \n",
       "2005-06  101   101            107    108         109     99   97   \n",
       "2006-07   99   112            110    134         103     99   98   \n",
       "2007-08  105   115            115    124         118     98   98   \n",
       "2008-09  112   117            113    124         113    102   98   \n",
       "2009-10  121   127            123    146         124    104  112   \n",
       "2010-11  117   120            122    137         128    114  123   \n",
       "2011-12  110   108            136    129         115    119  124   \n",
       "\n",
       "        Eggs, Fish and Meat Oilseeds Sugarcane  Fibers All Agriculture  \n",
       "2004-05                 100      100        100    100             100  \n",
       "2005-06                 102       86         96     92              99  \n",
       "2006-07                 101       85         91     91             101  \n",
       "2007-08                 100       97         87     96             104  \n",
       "2008-09                  99      104         80    109             106  \n",
       "2009-10                 116      103         81    107             115  \n",
       "2010-11                 133       99        109    138             123  \n",
       "2011-12                 137      102        107    140             122  "
      ]
     },
     "execution_count": 47,
     "metadata": {},
     "output_type": "execute_result"
    }
   ],
   "source": [
    "df4=df4.transpose()\n",
    "df4.rename(columns=df4.iloc[0],inplace= True)\n",
    "df4=df4[1:]\n",
    "df4"
   ]
  },
  {
   "cell_type": "code",
   "execution_count": null,
   "metadata": {},
   "outputs": [
    {
     "data": {
      "application/vnd.plotly.v1+json": {
       "config": {
        "plotlyServerURL": "https://plot.ly"
       },
       "data": [
        {
         "hovertemplate": "variable=Rice<br>index=%{x}<br>value=%{y}<extra></extra>",
         "legendgroup": "Rice",
         "line": {
          "color": "#636efa",
          "dash": "solid"
         },
         "marker": {
          "symbol": "circle"
         },
         "mode": "markers+lines",
         "name": "Rice",
         "orientation": "v",
         "showlegend": true,
         "type": "scatter",
         "x": [
          "2004-05",
          "2005-06",
          "2006-07",
          "2007-08",
          "2008-09",
          "2009-10",
          "2010-11",
          "2011-12"
         ],
         "xaxis": "x",
         "y": [
          100,
          101,
          99,
          105,
          112,
          121,
          117,
          110
         ],
         "yaxis": "y"
        },
        {
         "hovertemplate": "variable=Wheat<br>index=%{x}<br>value=%{y}<extra></extra>",
         "legendgroup": "Wheat",
         "line": {
          "color": "#EF553B",
          "dash": "solid"
         },
         "marker": {
          "symbol": "circle"
         },
         "mode": "markers+lines",
         "name": "Wheat",
         "orientation": "v",
         "showlegend": true,
         "type": "scatter",
         "x": [
          "2004-05",
          "2005-06",
          "2006-07",
          "2007-08",
          "2008-09",
          "2009-10",
          "2010-11",
          "2011-12"
         ],
         "xaxis": "x",
         "y": [
          100,
          101,
          112,
          115,
          117,
          127,
          120,
          108
         ],
         "yaxis": "y"
        },
        {
         "hovertemplate": "variable=Coarse Cereals<br>index=%{x}<br>value=%{y}<extra></extra>",
         "legendgroup": "Coarse Cereals",
         "line": {
          "color": "#00cc96",
          "dash": "solid"
         },
         "marker": {
          "symbol": "circle"
         },
         "mode": "markers+lines",
         "name": "Coarse Cereals",
         "orientation": "v",
         "showlegend": true,
         "type": "scatter",
         "x": [
          "2004-05",
          "2005-06",
          "2006-07",
          "2007-08",
          "2008-09",
          "2009-10",
          "2010-11",
          "2011-12"
         ],
         "xaxis": "x",
         "y": [
          100,
          107,
          110,
          115,
          113,
          123,
          122,
          136
         ],
         "yaxis": "y"
        },
        {
         "hovertemplate": "variable=Pulses<br>index=%{x}<br>value=%{y}<extra></extra>",
         "legendgroup": "Pulses",
         "line": {
          "color": "#ab63fa",
          "dash": "solid"
         },
         "marker": {
          "symbol": "circle"
         },
         "mode": "markers+lines",
         "name": "Pulses",
         "orientation": "v",
         "showlegend": true,
         "type": "scatter",
         "x": [
          "2004-05",
          "2005-06",
          "2006-07",
          "2007-08",
          "2008-09",
          "2009-10",
          "2010-11",
          "2011-12"
         ],
         "xaxis": "x",
         "y": [
          100,
          108,
          134,
          124,
          124,
          146,
          137,
          129
         ],
         "yaxis": "y"
        },
        {
         "hovertemplate": "variable=Vegetables <br>index=%{x}<br>value=%{y}<extra></extra>",
         "legendgroup": "Vegetables ",
         "line": {
          "color": "#FFA15A",
          "dash": "solid"
         },
         "marker": {
          "symbol": "circle"
         },
         "mode": "markers+lines",
         "name": "Vegetables ",
         "orientation": "v",
         "showlegend": true,
         "type": "scatter",
         "x": [
          "2004-05",
          "2005-06",
          "2006-07",
          "2007-08",
          "2008-09",
          "2009-10",
          "2010-11",
          "2011-12"
         ],
         "xaxis": "x",
         "y": [
          100,
          109,
          103,
          118,
          113,
          124,
          128,
          115
         ],
         "yaxis": "y"
        },
        {
         "hovertemplate": "variable=Fruits<br>index=%{x}<br>value=%{y}<extra></extra>",
         "legendgroup": "Fruits",
         "line": {
          "color": "#19d3f3",
          "dash": "solid"
         },
         "marker": {
          "symbol": "circle"
         },
         "mode": "markers+lines",
         "name": "Fruits",
         "orientation": "v",
         "showlegend": true,
         "type": "scatter",
         "x": [
          "2004-05",
          "2005-06",
          "2006-07",
          "2007-08",
          "2008-09",
          "2009-10",
          "2010-11",
          "2011-12"
         ],
         "xaxis": "x",
         "y": [
          100,
          99,
          99,
          98,
          102,
          104,
          114,
          119
         ],
         "yaxis": "y"
        },
        {
         "hovertemplate": "variable=Milk<br>index=%{x}<br>value=%{y}<extra></extra>",
         "legendgroup": "Milk",
         "line": {
          "color": "#FF6692",
          "dash": "solid"
         },
         "marker": {
          "symbol": "circle"
         },
         "mode": "markers+lines",
         "name": "Milk",
         "orientation": "v",
         "showlegend": true,
         "type": "scatter",
         "x": [
          "2004-05",
          "2005-06",
          "2006-07",
          "2007-08",
          "2008-09",
          "2009-10",
          "2010-11",
          "2011-12"
         ],
         "xaxis": "x",
         "y": [
          100,
          97,
          98,
          98,
          98,
          112,
          123,
          124
         ],
         "yaxis": "y"
        },
        {
         "hovertemplate": "variable=Eggs, Fish and Meat<br>index=%{x}<br>value=%{y}<extra></extra>",
         "legendgroup": "Eggs, Fish and Meat",
         "line": {
          "color": "#B6E880",
          "dash": "solid"
         },
         "marker": {
          "symbol": "circle"
         },
         "mode": "markers+lines",
         "name": "Eggs, Fish and Meat",
         "orientation": "v",
         "showlegend": true,
         "type": "scatter",
         "x": [
          "2004-05",
          "2005-06",
          "2006-07",
          "2007-08",
          "2008-09",
          "2009-10",
          "2010-11",
          "2011-12"
         ],
         "xaxis": "x",
         "y": [
          100,
          102,
          101,
          100,
          99,
          116,
          133,
          137
         ],
         "yaxis": "y"
        },
        {
         "hovertemplate": "variable=Oilseeds<br>index=%{x}<br>value=%{y}<extra></extra>",
         "legendgroup": "Oilseeds",
         "line": {
          "color": "#FF97FF",
          "dash": "solid"
         },
         "marker": {
          "symbol": "circle"
         },
         "mode": "markers+lines",
         "name": "Oilseeds",
         "orientation": "v",
         "showlegend": true,
         "type": "scatter",
         "x": [
          "2004-05",
          "2005-06",
          "2006-07",
          "2007-08",
          "2008-09",
          "2009-10",
          "2010-11",
          "2011-12"
         ],
         "xaxis": "x",
         "y": [
          100,
          86,
          85,
          97,
          104,
          103,
          99,
          102
         ],
         "yaxis": "y"
        },
        {
         "hovertemplate": "variable=Sugarcane <br>index=%{x}<br>value=%{y}<extra></extra>",
         "legendgroup": "Sugarcane ",
         "line": {
          "color": "#FECB52",
          "dash": "solid"
         },
         "marker": {
          "symbol": "circle"
         },
         "mode": "markers+lines",
         "name": "Sugarcane ",
         "orientation": "v",
         "showlegend": true,
         "type": "scatter",
         "x": [
          "2004-05",
          "2005-06",
          "2006-07",
          "2007-08",
          "2008-09",
          "2009-10",
          "2010-11",
          "2011-12"
         ],
         "xaxis": "x",
         "y": [
          100,
          96,
          91,
          87,
          80,
          81,
          109,
          107
         ],
         "yaxis": "y"
        },
        {
         "hovertemplate": "variable=Fibers<br>index=%{x}<br>value=%{y}<extra></extra>",
         "legendgroup": "Fibers",
         "line": {
          "color": "#636efa",
          "dash": "solid"
         },
         "marker": {
          "symbol": "circle"
         },
         "mode": "markers+lines",
         "name": "Fibers",
         "orientation": "v",
         "showlegend": true,
         "type": "scatter",
         "x": [
          "2004-05",
          "2005-06",
          "2006-07",
          "2007-08",
          "2008-09",
          "2009-10",
          "2010-11",
          "2011-12"
         ],
         "xaxis": "x",
         "y": [
          100,
          92,
          91,
          96,
          109,
          107,
          138,
          140
         ],
         "yaxis": "y"
        },
        {
         "hovertemplate": "variable=All Agriculture<br>index=%{x}<br>value=%{y}<extra></extra>",
         "legendgroup": "All Agriculture",
         "line": {
          "color": "#EF553B",
          "dash": "solid"
         },
         "marker": {
          "symbol": "circle"
         },
         "mode": "markers+lines",
         "name": "All Agriculture",
         "orientation": "v",
         "showlegend": true,
         "type": "scatter",
         "x": [
          "2004-05",
          "2005-06",
          "2006-07",
          "2007-08",
          "2008-09",
          "2009-10",
          "2010-11",
          "2011-12"
         ],
         "xaxis": "x",
         "y": [
          100,
          99,
          101,
          104,
          106,
          115,
          123,
          122
         ],
         "yaxis": "y"
        }
       ],
       "layout": {
        "legend": {
         "title": {
          "text": "variable"
         },
         "tracegroupgap": 0
        },
        "margin": {
         "t": 60
        },
        "template": {
         "data": {
          "bar": [
           {
            "error_x": {
             "color": "#2a3f5f"
            },
            "error_y": {
             "color": "#2a3f5f"
            },
            "marker": {
             "line": {
              "color": "#E5ECF6",
              "width": 0.5
             },
             "pattern": {
              "fillmode": "overlay",
              "size": 10,
              "solidity": 0.2
             }
            },
            "type": "bar"
           }
          ],
          "barpolar": [
           {
            "marker": {
             "line": {
              "color": "#E5ECF6",
              "width": 0.5
             },
             "pattern": {
              "fillmode": "overlay",
              "size": 10,
              "solidity": 0.2
             }
            },
            "type": "barpolar"
           }
          ],
          "carpet": [
           {
            "aaxis": {
             "endlinecolor": "#2a3f5f",
             "gridcolor": "white",
             "linecolor": "white",
             "minorgridcolor": "white",
             "startlinecolor": "#2a3f5f"
            },
            "baxis": {
             "endlinecolor": "#2a3f5f",
             "gridcolor": "white",
             "linecolor": "white",
             "minorgridcolor": "white",
             "startlinecolor": "#2a3f5f"
            },
            "type": "carpet"
           }
          ],
          "choropleth": [
           {
            "colorbar": {
             "outlinewidth": 0,
             "ticks": ""
            },
            "type": "choropleth"
           }
          ],
          "contour": [
           {
            "colorbar": {
             "outlinewidth": 0,
             "ticks": ""
            },
            "colorscale": [
             [
              0,
              "#0d0887"
             ],
             [
              0.1111111111111111,
              "#46039f"
             ],
             [
              0.2222222222222222,
              "#7201a8"
             ],
             [
              0.3333333333333333,
              "#9c179e"
             ],
             [
              0.4444444444444444,
              "#bd3786"
             ],
             [
              0.5555555555555556,
              "#d8576b"
             ],
             [
              0.6666666666666666,
              "#ed7953"
             ],
             [
              0.7777777777777778,
              "#fb9f3a"
             ],
             [
              0.8888888888888888,
              "#fdca26"
             ],
             [
              1,
              "#f0f921"
             ]
            ],
            "type": "contour"
           }
          ],
          "contourcarpet": [
           {
            "colorbar": {
             "outlinewidth": 0,
             "ticks": ""
            },
            "type": "contourcarpet"
           }
          ],
          "heatmap": [
           {
            "colorbar": {
             "outlinewidth": 0,
             "ticks": ""
            },
            "colorscale": [
             [
              0,
              "#0d0887"
             ],
             [
              0.1111111111111111,
              "#46039f"
             ],
             [
              0.2222222222222222,
              "#7201a8"
             ],
             [
              0.3333333333333333,
              "#9c179e"
             ],
             [
              0.4444444444444444,
              "#bd3786"
             ],
             [
              0.5555555555555556,
              "#d8576b"
             ],
             [
              0.6666666666666666,
              "#ed7953"
             ],
             [
              0.7777777777777778,
              "#fb9f3a"
             ],
             [
              0.8888888888888888,
              "#fdca26"
             ],
             [
              1,
              "#f0f921"
             ]
            ],
            "type": "heatmap"
           }
          ],
          "heatmapgl": [
           {
            "colorbar": {
             "outlinewidth": 0,
             "ticks": ""
            },
            "colorscale": [
             [
              0,
              "#0d0887"
             ],
             [
              0.1111111111111111,
              "#46039f"
             ],
             [
              0.2222222222222222,
              "#7201a8"
             ],
             [
              0.3333333333333333,
              "#9c179e"
             ],
             [
              0.4444444444444444,
              "#bd3786"
             ],
             [
              0.5555555555555556,
              "#d8576b"
             ],
             [
              0.6666666666666666,
              "#ed7953"
             ],
             [
              0.7777777777777778,
              "#fb9f3a"
             ],
             [
              0.8888888888888888,
              "#fdca26"
             ],
             [
              1,
              "#f0f921"
             ]
            ],
            "type": "heatmapgl"
           }
          ],
          "histogram": [
           {
            "marker": {
             "pattern": {
              "fillmode": "overlay",
              "size": 10,
              "solidity": 0.2
             }
            },
            "type": "histogram"
           }
          ],
          "histogram2d": [
           {
            "colorbar": {
             "outlinewidth": 0,
             "ticks": ""
            },
            "colorscale": [
             [
              0,
              "#0d0887"
             ],
             [
              0.1111111111111111,
              "#46039f"
             ],
             [
              0.2222222222222222,
              "#7201a8"
             ],
             [
              0.3333333333333333,
              "#9c179e"
             ],
             [
              0.4444444444444444,
              "#bd3786"
             ],
             [
              0.5555555555555556,
              "#d8576b"
             ],
             [
              0.6666666666666666,
              "#ed7953"
             ],
             [
              0.7777777777777778,
              "#fb9f3a"
             ],
             [
              0.8888888888888888,
              "#fdca26"
             ],
             [
              1,
              "#f0f921"
             ]
            ],
            "type": "histogram2d"
           }
          ],
          "histogram2dcontour": [
           {
            "colorbar": {
             "outlinewidth": 0,
             "ticks": ""
            },
            "colorscale": [
             [
              0,
              "#0d0887"
             ],
             [
              0.1111111111111111,
              "#46039f"
             ],
             [
              0.2222222222222222,
              "#7201a8"
             ],
             [
              0.3333333333333333,
              "#9c179e"
             ],
             [
              0.4444444444444444,
              "#bd3786"
             ],
             [
              0.5555555555555556,
              "#d8576b"
             ],
             [
              0.6666666666666666,
              "#ed7953"
             ],
             [
              0.7777777777777778,
              "#fb9f3a"
             ],
             [
              0.8888888888888888,
              "#fdca26"
             ],
             [
              1,
              "#f0f921"
             ]
            ],
            "type": "histogram2dcontour"
           }
          ],
          "mesh3d": [
           {
            "colorbar": {
             "outlinewidth": 0,
             "ticks": ""
            },
            "type": "mesh3d"
           }
          ],
          "parcoords": [
           {
            "line": {
             "colorbar": {
              "outlinewidth": 0,
              "ticks": ""
             }
            },
            "type": "parcoords"
           }
          ],
          "pie": [
           {
            "automargin": true,
            "type": "pie"
           }
          ],
          "scatter": [
           {
            "fillpattern": {
             "fillmode": "overlay",
             "size": 10,
             "solidity": 0.2
            },
            "type": "scatter"
           }
          ],
          "scatter3d": [
           {
            "line": {
             "colorbar": {
              "outlinewidth": 0,
              "ticks": ""
             }
            },
            "marker": {
             "colorbar": {
              "outlinewidth": 0,
              "ticks": ""
             }
            },
            "type": "scatter3d"
           }
          ],
          "scattercarpet": [
           {
            "marker": {
             "colorbar": {
              "outlinewidth": 0,
              "ticks": ""
             }
            },
            "type": "scattercarpet"
           }
          ],
          "scattergeo": [
           {
            "marker": {
             "colorbar": {
              "outlinewidth": 0,
              "ticks": ""
             }
            },
            "type": "scattergeo"
           }
          ],
          "scattergl": [
           {
            "marker": {
             "colorbar": {
              "outlinewidth": 0,
              "ticks": ""
             }
            },
            "type": "scattergl"
           }
          ],
          "scattermapbox": [
           {
            "marker": {
             "colorbar": {
              "outlinewidth": 0,
              "ticks": ""
             }
            },
            "type": "scattermapbox"
           }
          ],
          "scatterpolar": [
           {
            "marker": {
             "colorbar": {
              "outlinewidth": 0,
              "ticks": ""
             }
            },
            "type": "scatterpolar"
           }
          ],
          "scatterpolargl": [
           {
            "marker": {
             "colorbar": {
              "outlinewidth": 0,
              "ticks": ""
             }
            },
            "type": "scatterpolargl"
           }
          ],
          "scatterternary": [
           {
            "marker": {
             "colorbar": {
              "outlinewidth": 0,
              "ticks": ""
             }
            },
            "type": "scatterternary"
           }
          ],
          "surface": [
           {
            "colorbar": {
             "outlinewidth": 0,
             "ticks": ""
            },
            "colorscale": [
             [
              0,
              "#0d0887"
             ],
             [
              0.1111111111111111,
              "#46039f"
             ],
             [
              0.2222222222222222,
              "#7201a8"
             ],
             [
              0.3333333333333333,
              "#9c179e"
             ],
             [
              0.4444444444444444,
              "#bd3786"
             ],
             [
              0.5555555555555556,
              "#d8576b"
             ],
             [
              0.6666666666666666,
              "#ed7953"
             ],
             [
              0.7777777777777778,
              "#fb9f3a"
             ],
             [
              0.8888888888888888,
              "#fdca26"
             ],
             [
              1,
              "#f0f921"
             ]
            ],
            "type": "surface"
           }
          ],
          "table": [
           {
            "cells": {
             "fill": {
              "color": "#EBF0F8"
             },
             "line": {
              "color": "white"
             }
            },
            "header": {
             "fill": {
              "color": "#C8D4E3"
             },
             "line": {
              "color": "white"
             }
            },
            "type": "table"
           }
          ]
         },
         "layout": {
          "annotationdefaults": {
           "arrowcolor": "#2a3f5f",
           "arrowhead": 0,
           "arrowwidth": 1
          },
          "autotypenumbers": "strict",
          "coloraxis": {
           "colorbar": {
            "outlinewidth": 0,
            "ticks": ""
           }
          },
          "colorscale": {
           "diverging": [
            [
             0,
             "#8e0152"
            ],
            [
             0.1,
             "#c51b7d"
            ],
            [
             0.2,
             "#de77ae"
            ],
            [
             0.3,
             "#f1b6da"
            ],
            [
             0.4,
             "#fde0ef"
            ],
            [
             0.5,
             "#f7f7f7"
            ],
            [
             0.6,
             "#e6f5d0"
            ],
            [
             0.7,
             "#b8e186"
            ],
            [
             0.8,
             "#7fbc41"
            ],
            [
             0.9,
             "#4d9221"
            ],
            [
             1,
             "#276419"
            ]
           ],
           "sequential": [
            [
             0,
             "#0d0887"
            ],
            [
             0.1111111111111111,
             "#46039f"
            ],
            [
             0.2222222222222222,
             "#7201a8"
            ],
            [
             0.3333333333333333,
             "#9c179e"
            ],
            [
             0.4444444444444444,
             "#bd3786"
            ],
            [
             0.5555555555555556,
             "#d8576b"
            ],
            [
             0.6666666666666666,
             "#ed7953"
            ],
            [
             0.7777777777777778,
             "#fb9f3a"
            ],
            [
             0.8888888888888888,
             "#fdca26"
            ],
            [
             1,
             "#f0f921"
            ]
           ],
           "sequentialminus": [
            [
             0,
             "#0d0887"
            ],
            [
             0.1111111111111111,
             "#46039f"
            ],
            [
             0.2222222222222222,
             "#7201a8"
            ],
            [
             0.3333333333333333,
             "#9c179e"
            ],
            [
             0.4444444444444444,
             "#bd3786"
            ],
            [
             0.5555555555555556,
             "#d8576b"
            ],
            [
             0.6666666666666666,
             "#ed7953"
            ],
            [
             0.7777777777777778,
             "#fb9f3a"
            ],
            [
             0.8888888888888888,
             "#fdca26"
            ],
            [
             1,
             "#f0f921"
            ]
           ]
          },
          "colorway": [
           "#636efa",
           "#EF553B",
           "#00cc96",
           "#ab63fa",
           "#FFA15A",
           "#19d3f3",
           "#FF6692",
           "#B6E880",
           "#FF97FF",
           "#FECB52"
          ],
          "font": {
           "color": "#2a3f5f"
          },
          "geo": {
           "bgcolor": "white",
           "lakecolor": "white",
           "landcolor": "#E5ECF6",
           "showlakes": true,
           "showland": true,
           "subunitcolor": "white"
          },
          "hoverlabel": {
           "align": "left"
          },
          "hovermode": "closest",
          "mapbox": {
           "style": "light"
          },
          "paper_bgcolor": "white",
          "plot_bgcolor": "#E5ECF6",
          "polar": {
           "angularaxis": {
            "gridcolor": "white",
            "linecolor": "white",
            "ticks": ""
           },
           "bgcolor": "#E5ECF6",
           "radialaxis": {
            "gridcolor": "white",
            "linecolor": "white",
            "ticks": ""
           }
          },
          "scene": {
           "xaxis": {
            "backgroundcolor": "#E5ECF6",
            "gridcolor": "white",
            "gridwidth": 2,
            "linecolor": "white",
            "showbackground": true,
            "ticks": "",
            "zerolinecolor": "white"
           },
           "yaxis": {
            "backgroundcolor": "#E5ECF6",
            "gridcolor": "white",
            "gridwidth": 2,
            "linecolor": "white",
            "showbackground": true,
            "ticks": "",
            "zerolinecolor": "white"
           },
           "zaxis": {
            "backgroundcolor": "#E5ECF6",
            "gridcolor": "white",
            "gridwidth": 2,
            "linecolor": "white",
            "showbackground": true,
            "ticks": "",
            "zerolinecolor": "white"
           }
          },
          "shapedefaults": {
           "line": {
            "color": "#2a3f5f"
           }
          },
          "ternary": {
           "aaxis": {
            "gridcolor": "white",
            "linecolor": "white",
            "ticks": ""
           },
           "baxis": {
            "gridcolor": "white",
            "linecolor": "white",
            "ticks": ""
           },
           "bgcolor": "#E5ECF6",
           "caxis": {
            "gridcolor": "white",
            "linecolor": "white",
            "ticks": ""
           }
          },
          "title": {
           "x": 0.05
          },
          "xaxis": {
           "automargin": true,
           "gridcolor": "white",
           "linecolor": "white",
           "ticks": "",
           "title": {
            "standoff": 15
           },
           "zerolinecolor": "white",
           "zerolinewidth": 2
          },
          "yaxis": {
           "automargin": true,
           "gridcolor": "white",
           "linecolor": "white",
           "ticks": "",
           "title": {
            "standoff": 15
           },
           "zerolinecolor": "white",
           "zerolinewidth": 2
          }
         }
        },
        "xaxis": {
         "anchor": "y",
         "domain": [
          0,
          1
         ],
         "title": {
          "text": "index"
         }
        },
        "yaxis": {
         "anchor": "x",
         "domain": [
          0,
          1
         ],
         "title": {
          "text": "value"
         }
        }
       }
      },
      "text/html": [
       "<div>                            <div id=\"4d91785a-7e30-4943-9d19-4c7d47af68f5\" class=\"plotly-graph-div\" style=\"height:525px; width:100%;\"></div>            <script type=\"text/javascript\">                require([\"plotly\"], function(Plotly) {                    window.PLOTLYENV=window.PLOTLYENV || {};                                    if (document.getElementById(\"4d91785a-7e30-4943-9d19-4c7d47af68f5\")) {                    Plotly.newPlot(                        \"4d91785a-7e30-4943-9d19-4c7d47af68f5\",                        [{\"hovertemplate\":\"variable=Rice\\u003cbr\\u003eindex=%{x}\\u003cbr\\u003evalue=%{y}\\u003cextra\\u003e\\u003c\\u002fextra\\u003e\",\"legendgroup\":\"Rice\",\"line\":{\"color\":\"#636efa\",\"dash\":\"solid\"},\"marker\":{\"symbol\":\"circle\"},\"mode\":\"markers+lines\",\"name\":\"Rice\",\"orientation\":\"v\",\"showlegend\":true,\"x\":[\"2004-05\",\"2005-06\",\"2006-07\",\"2007-08\",\"2008-09\",\"2009-10\",\"2010-11\",\"2011-12\"],\"xaxis\":\"x\",\"y\":[100.0,101.0,99.0,105.0,112.0,121.0,117.0,110.0],\"yaxis\":\"y\",\"type\":\"scatter\"},{\"hovertemplate\":\"variable=Wheat\\u003cbr\\u003eindex=%{x}\\u003cbr\\u003evalue=%{y}\\u003cextra\\u003e\\u003c\\u002fextra\\u003e\",\"legendgroup\":\"Wheat\",\"line\":{\"color\":\"#EF553B\",\"dash\":\"solid\"},\"marker\":{\"symbol\":\"circle\"},\"mode\":\"markers+lines\",\"name\":\"Wheat\",\"orientation\":\"v\",\"showlegend\":true,\"x\":[\"2004-05\",\"2005-06\",\"2006-07\",\"2007-08\",\"2008-09\",\"2009-10\",\"2010-11\",\"2011-12\"],\"xaxis\":\"x\",\"y\":[100.0,101.0,112.0,115.0,117.0,127.0,120.0,108.0],\"yaxis\":\"y\",\"type\":\"scatter\"},{\"hovertemplate\":\"variable=Coarse Cereals\\u003cbr\\u003eindex=%{x}\\u003cbr\\u003evalue=%{y}\\u003cextra\\u003e\\u003c\\u002fextra\\u003e\",\"legendgroup\":\"Coarse Cereals\",\"line\":{\"color\":\"#00cc96\",\"dash\":\"solid\"},\"marker\":{\"symbol\":\"circle\"},\"mode\":\"markers+lines\",\"name\":\"Coarse Cereals\",\"orientation\":\"v\",\"showlegend\":true,\"x\":[\"2004-05\",\"2005-06\",\"2006-07\",\"2007-08\",\"2008-09\",\"2009-10\",\"2010-11\",\"2011-12\"],\"xaxis\":\"x\",\"y\":[100.0,107.0,110.0,115.0,113.0,123.0,122.0,136.0],\"yaxis\":\"y\",\"type\":\"scatter\"},{\"hovertemplate\":\"variable=Pulses\\u003cbr\\u003eindex=%{x}\\u003cbr\\u003evalue=%{y}\\u003cextra\\u003e\\u003c\\u002fextra\\u003e\",\"legendgroup\":\"Pulses\",\"line\":{\"color\":\"#ab63fa\",\"dash\":\"solid\"},\"marker\":{\"symbol\":\"circle\"},\"mode\":\"markers+lines\",\"name\":\"Pulses\",\"orientation\":\"v\",\"showlegend\":true,\"x\":[\"2004-05\",\"2005-06\",\"2006-07\",\"2007-08\",\"2008-09\",\"2009-10\",\"2010-11\",\"2011-12\"],\"xaxis\":\"x\",\"y\":[100.0,108.0,134.0,124.0,124.0,146.0,137.0,129.0],\"yaxis\":\"y\",\"type\":\"scatter\"},{\"hovertemplate\":\"variable=Vegetables \\u003cbr\\u003eindex=%{x}\\u003cbr\\u003evalue=%{y}\\u003cextra\\u003e\\u003c\\u002fextra\\u003e\",\"legendgroup\":\"Vegetables \",\"line\":{\"color\":\"#FFA15A\",\"dash\":\"solid\"},\"marker\":{\"symbol\":\"circle\"},\"mode\":\"markers+lines\",\"name\":\"Vegetables \",\"orientation\":\"v\",\"showlegend\":true,\"x\":[\"2004-05\",\"2005-06\",\"2006-07\",\"2007-08\",\"2008-09\",\"2009-10\",\"2010-11\",\"2011-12\"],\"xaxis\":\"x\",\"y\":[100.0,109.0,103.0,118.0,113.0,124.0,128.0,115.0],\"yaxis\":\"y\",\"type\":\"scatter\"},{\"hovertemplate\":\"variable=Fruits\\u003cbr\\u003eindex=%{x}\\u003cbr\\u003evalue=%{y}\\u003cextra\\u003e\\u003c\\u002fextra\\u003e\",\"legendgroup\":\"Fruits\",\"line\":{\"color\":\"#19d3f3\",\"dash\":\"solid\"},\"marker\":{\"symbol\":\"circle\"},\"mode\":\"markers+lines\",\"name\":\"Fruits\",\"orientation\":\"v\",\"showlegend\":true,\"x\":[\"2004-05\",\"2005-06\",\"2006-07\",\"2007-08\",\"2008-09\",\"2009-10\",\"2010-11\",\"2011-12\"],\"xaxis\":\"x\",\"y\":[100.0,99.0,99.0,98.0,102.0,104.0,114.0,119.0],\"yaxis\":\"y\",\"type\":\"scatter\"},{\"hovertemplate\":\"variable=Milk\\u003cbr\\u003eindex=%{x}\\u003cbr\\u003evalue=%{y}\\u003cextra\\u003e\\u003c\\u002fextra\\u003e\",\"legendgroup\":\"Milk\",\"line\":{\"color\":\"#FF6692\",\"dash\":\"solid\"},\"marker\":{\"symbol\":\"circle\"},\"mode\":\"markers+lines\",\"name\":\"Milk\",\"orientation\":\"v\",\"showlegend\":true,\"x\":[\"2004-05\",\"2005-06\",\"2006-07\",\"2007-08\",\"2008-09\",\"2009-10\",\"2010-11\",\"2011-12\"],\"xaxis\":\"x\",\"y\":[100.0,97.0,98.0,98.0,98.0,112.0,123.0,124.0],\"yaxis\":\"y\",\"type\":\"scatter\"},{\"hovertemplate\":\"variable=Eggs, Fish and Meat\\u003cbr\\u003eindex=%{x}\\u003cbr\\u003evalue=%{y}\\u003cextra\\u003e\\u003c\\u002fextra\\u003e\",\"legendgroup\":\"Eggs, Fish and Meat\",\"line\":{\"color\":\"#B6E880\",\"dash\":\"solid\"},\"marker\":{\"symbol\":\"circle\"},\"mode\":\"markers+lines\",\"name\":\"Eggs, Fish and Meat\",\"orientation\":\"v\",\"showlegend\":true,\"x\":[\"2004-05\",\"2005-06\",\"2006-07\",\"2007-08\",\"2008-09\",\"2009-10\",\"2010-11\",\"2011-12\"],\"xaxis\":\"x\",\"y\":[100.0,102.0,101.0,100.0,99.0,116.0,133.0,137.0],\"yaxis\":\"y\",\"type\":\"scatter\"},{\"hovertemplate\":\"variable=Oilseeds\\u003cbr\\u003eindex=%{x}\\u003cbr\\u003evalue=%{y}\\u003cextra\\u003e\\u003c\\u002fextra\\u003e\",\"legendgroup\":\"Oilseeds\",\"line\":{\"color\":\"#FF97FF\",\"dash\":\"solid\"},\"marker\":{\"symbol\":\"circle\"},\"mode\":\"markers+lines\",\"name\":\"Oilseeds\",\"orientation\":\"v\",\"showlegend\":true,\"x\":[\"2004-05\",\"2005-06\",\"2006-07\",\"2007-08\",\"2008-09\",\"2009-10\",\"2010-11\",\"2011-12\"],\"xaxis\":\"x\",\"y\":[100.0,86.0,85.0,97.0,104.0,103.0,99.0,102.0],\"yaxis\":\"y\",\"type\":\"scatter\"},{\"hovertemplate\":\"variable=Sugarcane \\u003cbr\\u003eindex=%{x}\\u003cbr\\u003evalue=%{y}\\u003cextra\\u003e\\u003c\\u002fextra\\u003e\",\"legendgroup\":\"Sugarcane \",\"line\":{\"color\":\"#FECB52\",\"dash\":\"solid\"},\"marker\":{\"symbol\":\"circle\"},\"mode\":\"markers+lines\",\"name\":\"Sugarcane \",\"orientation\":\"v\",\"showlegend\":true,\"x\":[\"2004-05\",\"2005-06\",\"2006-07\",\"2007-08\",\"2008-09\",\"2009-10\",\"2010-11\",\"2011-12\"],\"xaxis\":\"x\",\"y\":[100.0,96.0,91.0,87.0,80.0,81.0,109.0,107.0],\"yaxis\":\"y\",\"type\":\"scatter\"},{\"hovertemplate\":\"variable=Fibers\\u003cbr\\u003eindex=%{x}\\u003cbr\\u003evalue=%{y}\\u003cextra\\u003e\\u003c\\u002fextra\\u003e\",\"legendgroup\":\"Fibers\",\"line\":{\"color\":\"#636efa\",\"dash\":\"solid\"},\"marker\":{\"symbol\":\"circle\"},\"mode\":\"markers+lines\",\"name\":\"Fibers\",\"orientation\":\"v\",\"showlegend\":true,\"x\":[\"2004-05\",\"2005-06\",\"2006-07\",\"2007-08\",\"2008-09\",\"2009-10\",\"2010-11\",\"2011-12\"],\"xaxis\":\"x\",\"y\":[100.0,92.0,91.0,96.0,109.0,107.0,138.0,140.0],\"yaxis\":\"y\",\"type\":\"scatter\"},{\"hovertemplate\":\"variable=All Agriculture\\u003cbr\\u003eindex=%{x}\\u003cbr\\u003evalue=%{y}\\u003cextra\\u003e\\u003c\\u002fextra\\u003e\",\"legendgroup\":\"All Agriculture\",\"line\":{\"color\":\"#EF553B\",\"dash\":\"solid\"},\"marker\":{\"symbol\":\"circle\"},\"mode\":\"markers+lines\",\"name\":\"All Agriculture\",\"orientation\":\"v\",\"showlegend\":true,\"x\":[\"2004-05\",\"2005-06\",\"2006-07\",\"2007-08\",\"2008-09\",\"2009-10\",\"2010-11\",\"2011-12\"],\"xaxis\":\"x\",\"y\":[100.0,99.0,101.0,104.0,106.0,115.0,123.0,122.0],\"yaxis\":\"y\",\"type\":\"scatter\"}],                        {\"template\":{\"data\":{\"histogram2dcontour\":[{\"type\":\"histogram2dcontour\",\"colorbar\":{\"outlinewidth\":0,\"ticks\":\"\"},\"colorscale\":[[0.0,\"#0d0887\"],[0.1111111111111111,\"#46039f\"],[0.2222222222222222,\"#7201a8\"],[0.3333333333333333,\"#9c179e\"],[0.4444444444444444,\"#bd3786\"],[0.5555555555555556,\"#d8576b\"],[0.6666666666666666,\"#ed7953\"],[0.7777777777777778,\"#fb9f3a\"],[0.8888888888888888,\"#fdca26\"],[1.0,\"#f0f921\"]]}],\"choropleth\":[{\"type\":\"choropleth\",\"colorbar\":{\"outlinewidth\":0,\"ticks\":\"\"}}],\"histogram2d\":[{\"type\":\"histogram2d\",\"colorbar\":{\"outlinewidth\":0,\"ticks\":\"\"},\"colorscale\":[[0.0,\"#0d0887\"],[0.1111111111111111,\"#46039f\"],[0.2222222222222222,\"#7201a8\"],[0.3333333333333333,\"#9c179e\"],[0.4444444444444444,\"#bd3786\"],[0.5555555555555556,\"#d8576b\"],[0.6666666666666666,\"#ed7953\"],[0.7777777777777778,\"#fb9f3a\"],[0.8888888888888888,\"#fdca26\"],[1.0,\"#f0f921\"]]}],\"heatmap\":[{\"type\":\"heatmap\",\"colorbar\":{\"outlinewidth\":0,\"ticks\":\"\"},\"colorscale\":[[0.0,\"#0d0887\"],[0.1111111111111111,\"#46039f\"],[0.2222222222222222,\"#7201a8\"],[0.3333333333333333,\"#9c179e\"],[0.4444444444444444,\"#bd3786\"],[0.5555555555555556,\"#d8576b\"],[0.6666666666666666,\"#ed7953\"],[0.7777777777777778,\"#fb9f3a\"],[0.8888888888888888,\"#fdca26\"],[1.0,\"#f0f921\"]]}],\"heatmapgl\":[{\"type\":\"heatmapgl\",\"colorbar\":{\"outlinewidth\":0,\"ticks\":\"\"},\"colorscale\":[[0.0,\"#0d0887\"],[0.1111111111111111,\"#46039f\"],[0.2222222222222222,\"#7201a8\"],[0.3333333333333333,\"#9c179e\"],[0.4444444444444444,\"#bd3786\"],[0.5555555555555556,\"#d8576b\"],[0.6666666666666666,\"#ed7953\"],[0.7777777777777778,\"#fb9f3a\"],[0.8888888888888888,\"#fdca26\"],[1.0,\"#f0f921\"]]}],\"contourcarpet\":[{\"type\":\"contourcarpet\",\"colorbar\":{\"outlinewidth\":0,\"ticks\":\"\"}}],\"contour\":[{\"type\":\"contour\",\"colorbar\":{\"outlinewidth\":0,\"ticks\":\"\"},\"colorscale\":[[0.0,\"#0d0887\"],[0.1111111111111111,\"#46039f\"],[0.2222222222222222,\"#7201a8\"],[0.3333333333333333,\"#9c179e\"],[0.4444444444444444,\"#bd3786\"],[0.5555555555555556,\"#d8576b\"],[0.6666666666666666,\"#ed7953\"],[0.7777777777777778,\"#fb9f3a\"],[0.8888888888888888,\"#fdca26\"],[1.0,\"#f0f921\"]]}],\"surface\":[{\"type\":\"surface\",\"colorbar\":{\"outlinewidth\":0,\"ticks\":\"\"},\"colorscale\":[[0.0,\"#0d0887\"],[0.1111111111111111,\"#46039f\"],[0.2222222222222222,\"#7201a8\"],[0.3333333333333333,\"#9c179e\"],[0.4444444444444444,\"#bd3786\"],[0.5555555555555556,\"#d8576b\"],[0.6666666666666666,\"#ed7953\"],[0.7777777777777778,\"#fb9f3a\"],[0.8888888888888888,\"#fdca26\"],[1.0,\"#f0f921\"]]}],\"mesh3d\":[{\"type\":\"mesh3d\",\"colorbar\":{\"outlinewidth\":0,\"ticks\":\"\"}}],\"scatter\":[{\"fillpattern\":{\"fillmode\":\"overlay\",\"size\":10,\"solidity\":0.2},\"type\":\"scatter\"}],\"parcoords\":[{\"type\":\"parcoords\",\"line\":{\"colorbar\":{\"outlinewidth\":0,\"ticks\":\"\"}}}],\"scatterpolargl\":[{\"type\":\"scatterpolargl\",\"marker\":{\"colorbar\":{\"outlinewidth\":0,\"ticks\":\"\"}}}],\"bar\":[{\"error_x\":{\"color\":\"#2a3f5f\"},\"error_y\":{\"color\":\"#2a3f5f\"},\"marker\":{\"line\":{\"color\":\"#E5ECF6\",\"width\":0.5},\"pattern\":{\"fillmode\":\"overlay\",\"size\":10,\"solidity\":0.2}},\"type\":\"bar\"}],\"scattergeo\":[{\"type\":\"scattergeo\",\"marker\":{\"colorbar\":{\"outlinewidth\":0,\"ticks\":\"\"}}}],\"scatterpolar\":[{\"type\":\"scatterpolar\",\"marker\":{\"colorbar\":{\"outlinewidth\":0,\"ticks\":\"\"}}}],\"histogram\":[{\"marker\":{\"pattern\":{\"fillmode\":\"overlay\",\"size\":10,\"solidity\":0.2}},\"type\":\"histogram\"}],\"scattergl\":[{\"type\":\"scattergl\",\"marker\":{\"colorbar\":{\"outlinewidth\":0,\"ticks\":\"\"}}}],\"scatter3d\":[{\"type\":\"scatter3d\",\"line\":{\"colorbar\":{\"outlinewidth\":0,\"ticks\":\"\"}},\"marker\":{\"colorbar\":{\"outlinewidth\":0,\"ticks\":\"\"}}}],\"scattermapbox\":[{\"type\":\"scattermapbox\",\"marker\":{\"colorbar\":{\"outlinewidth\":0,\"ticks\":\"\"}}}],\"scatterternary\":[{\"type\":\"scatterternary\",\"marker\":{\"colorbar\":{\"outlinewidth\":0,\"ticks\":\"\"}}}],\"scattercarpet\":[{\"type\":\"scattercarpet\",\"marker\":{\"colorbar\":{\"outlinewidth\":0,\"ticks\":\"\"}}}],\"carpet\":[{\"aaxis\":{\"endlinecolor\":\"#2a3f5f\",\"gridcolor\":\"white\",\"linecolor\":\"white\",\"minorgridcolor\":\"white\",\"startlinecolor\":\"#2a3f5f\"},\"baxis\":{\"endlinecolor\":\"#2a3f5f\",\"gridcolor\":\"white\",\"linecolor\":\"white\",\"minorgridcolor\":\"white\",\"startlinecolor\":\"#2a3f5f\"},\"type\":\"carpet\"}],\"table\":[{\"cells\":{\"fill\":{\"color\":\"#EBF0F8\"},\"line\":{\"color\":\"white\"}},\"header\":{\"fill\":{\"color\":\"#C8D4E3\"},\"line\":{\"color\":\"white\"}},\"type\":\"table\"}],\"barpolar\":[{\"marker\":{\"line\":{\"color\":\"#E5ECF6\",\"width\":0.5},\"pattern\":{\"fillmode\":\"overlay\",\"size\":10,\"solidity\":0.2}},\"type\":\"barpolar\"}],\"pie\":[{\"automargin\":true,\"type\":\"pie\"}]},\"layout\":{\"autotypenumbers\":\"strict\",\"colorway\":[\"#636efa\",\"#EF553B\",\"#00cc96\",\"#ab63fa\",\"#FFA15A\",\"#19d3f3\",\"#FF6692\",\"#B6E880\",\"#FF97FF\",\"#FECB52\"],\"font\":{\"color\":\"#2a3f5f\"},\"hovermode\":\"closest\",\"hoverlabel\":{\"align\":\"left\"},\"paper_bgcolor\":\"white\",\"plot_bgcolor\":\"#E5ECF6\",\"polar\":{\"bgcolor\":\"#E5ECF6\",\"angularaxis\":{\"gridcolor\":\"white\",\"linecolor\":\"white\",\"ticks\":\"\"},\"radialaxis\":{\"gridcolor\":\"white\",\"linecolor\":\"white\",\"ticks\":\"\"}},\"ternary\":{\"bgcolor\":\"#E5ECF6\",\"aaxis\":{\"gridcolor\":\"white\",\"linecolor\":\"white\",\"ticks\":\"\"},\"baxis\":{\"gridcolor\":\"white\",\"linecolor\":\"white\",\"ticks\":\"\"},\"caxis\":{\"gridcolor\":\"white\",\"linecolor\":\"white\",\"ticks\":\"\"}},\"coloraxis\":{\"colorbar\":{\"outlinewidth\":0,\"ticks\":\"\"}},\"colorscale\":{\"sequential\":[[0.0,\"#0d0887\"],[0.1111111111111111,\"#46039f\"],[0.2222222222222222,\"#7201a8\"],[0.3333333333333333,\"#9c179e\"],[0.4444444444444444,\"#bd3786\"],[0.5555555555555556,\"#d8576b\"],[0.6666666666666666,\"#ed7953\"],[0.7777777777777778,\"#fb9f3a\"],[0.8888888888888888,\"#fdca26\"],[1.0,\"#f0f921\"]],\"sequentialminus\":[[0.0,\"#0d0887\"],[0.1111111111111111,\"#46039f\"],[0.2222222222222222,\"#7201a8\"],[0.3333333333333333,\"#9c179e\"],[0.4444444444444444,\"#bd3786\"],[0.5555555555555556,\"#d8576b\"],[0.6666666666666666,\"#ed7953\"],[0.7777777777777778,\"#fb9f3a\"],[0.8888888888888888,\"#fdca26\"],[1.0,\"#f0f921\"]],\"diverging\":[[0,\"#8e0152\"],[0.1,\"#c51b7d\"],[0.2,\"#de77ae\"],[0.3,\"#f1b6da\"],[0.4,\"#fde0ef\"],[0.5,\"#f7f7f7\"],[0.6,\"#e6f5d0\"],[0.7,\"#b8e186\"],[0.8,\"#7fbc41\"],[0.9,\"#4d9221\"],[1,\"#276419\"]]},\"xaxis\":{\"gridcolor\":\"white\",\"linecolor\":\"white\",\"ticks\":\"\",\"title\":{\"standoff\":15},\"zerolinecolor\":\"white\",\"automargin\":true,\"zerolinewidth\":2},\"yaxis\":{\"gridcolor\":\"white\",\"linecolor\":\"white\",\"ticks\":\"\",\"title\":{\"standoff\":15},\"zerolinecolor\":\"white\",\"automargin\":true,\"zerolinewidth\":2},\"scene\":{\"xaxis\":{\"backgroundcolor\":\"#E5ECF6\",\"gridcolor\":\"white\",\"linecolor\":\"white\",\"showbackground\":true,\"ticks\":\"\",\"zerolinecolor\":\"white\",\"gridwidth\":2},\"yaxis\":{\"backgroundcolor\":\"#E5ECF6\",\"gridcolor\":\"white\",\"linecolor\":\"white\",\"showbackground\":true,\"ticks\":\"\",\"zerolinecolor\":\"white\",\"gridwidth\":2},\"zaxis\":{\"backgroundcolor\":\"#E5ECF6\",\"gridcolor\":\"white\",\"linecolor\":\"white\",\"showbackground\":true,\"ticks\":\"\",\"zerolinecolor\":\"white\",\"gridwidth\":2}},\"shapedefaults\":{\"line\":{\"color\":\"#2a3f5f\"}},\"annotationdefaults\":{\"arrowcolor\":\"#2a3f5f\",\"arrowhead\":0,\"arrowwidth\":1},\"geo\":{\"bgcolor\":\"white\",\"landcolor\":\"#E5ECF6\",\"subunitcolor\":\"white\",\"showland\":true,\"showlakes\":true,\"lakecolor\":\"white\"},\"title\":{\"x\":0.05},\"mapbox\":{\"style\":\"light\"}}},\"xaxis\":{\"anchor\":\"y\",\"domain\":[0.0,1.0],\"title\":{\"text\":\"index\"}},\"yaxis\":{\"anchor\":\"x\",\"domain\":[0.0,1.0],\"title\":{\"text\":\"value\"}},\"legend\":{\"title\":{\"text\":\"variable\"},\"tracegroupgap\":0},\"margin\":{\"t\":60}},                        {\"responsive\": true}                    ).then(function(){\n",
       "                            \n",
       "var gd = document.getElementById('4d91785a-7e30-4943-9d19-4c7d47af68f5');\n",
       "var x = new MutationObserver(function (mutations, observer) {{\n",
       "        var display = window.getComputedStyle(gd).display;\n",
       "        if (!display || display === 'none') {{\n",
       "            console.log([gd, 'removed!']);\n",
       "            Plotly.purge(gd);\n",
       "            observer.disconnect();\n",
       "        }}\n",
       "}});\n",
       "\n",
       "// Listen for the removal of the full notebook cells\n",
       "var notebookContainer = gd.closest('#notebook-container');\n",
       "if (notebookContainer) {{\n",
       "    x.observe(notebookContainer, {childList: true});\n",
       "}}\n",
       "\n",
       "// Listen for the clearing of the current output cell\n",
       "var outputEl = gd.closest('.output');\n",
       "if (outputEl) {{\n",
       "    x.observe(outputEl, {childList: true});\n",
       "}}\n",
       "\n",
       "                        })                };                });            </script>        </div>"
      ]
     },
     "metadata": {},
     "output_type": "display_data"
    }
   ],
   "source": [
    "a=px.line(df4,markers=True)\n",
    "\n",
    "a.show()\n"
   ]
  },
  {
   "cell_type": "markdown",
   "metadata": {},
   "source": [
    "### By doing this analysis i feel it has contributed to my knowledge and have some conclusions from the dataset & while we all know how important agriculture is for the nation and still has a lot people relying on agriculture for income . While this dataset offers a lot of data but farming and agriculture is still a declining industry. As much we need agri-products we do not encourage the farmers enough, we do not celebrate them and thus people in the agriculture industry is declining. This industry needs new age solutions so that every farmer earns better and lives a better life which he looks for."
   ]
  }
 ],
 "metadata": {
  "kernelspec": {
   "display_name": "Python 3 (ipykernel)",
   "language": "python",
   "name": "python3"
  },
  "language_info": {
   "codemirror_mode": {
    "name": "ipython",
    "version": 3
   },
   "file_extension": ".py",
   "mimetype": "text/x-python",
   "name": "python",
   "nbconvert_exporter": "python",
   "pygments_lexer": "ipython3",
   "version": "3.8.2"
  }
 },
 "nbformat": 4,
 "nbformat_minor": 4
}
